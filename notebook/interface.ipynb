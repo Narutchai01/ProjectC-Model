{
  "cells": [
    {
      "cell_type": "markdown",
      "metadata": {
        "colab_type": "text",
        "id": "view-in-github"
      },
      "source": [
        "<a href=\"https://colab.research.google.com/github/Narutchai01/ProjectC-Model/blob/main/notebook/interface.ipynb\" target=\"_parent\"><img src=\"https://colab.research.google.com/assets/colab-badge.svg\" alt=\"Open In Colab\"/></a>\n"
      ]
    },
    {
      "cell_type": "code",
      "execution_count": 5,
      "metadata": {},
      "outputs": [
        {
          "name": "stdout",
          "output_type": "stream",
          "text": [
            "Thu May  9 02:55:15 2024       \n",
            "+-----------------------------------------------------------------------------------------+\n",
            "| NVIDIA-SMI 551.78                 Driver Version: 551.78         CUDA Version: 12.4     |\n",
            "|-----------------------------------------+------------------------+----------------------+\n",
            "| GPU  Name                     TCC/WDDM  | Bus-Id          Disp.A | Volatile Uncorr. ECC |\n",
            "| Fan  Temp   Perf          Pwr:Usage/Cap |           Memory-Usage | GPU-Util  Compute M. |\n",
            "|                                         |                        |               MIG M. |\n",
            "|=========================================+========================+======================|\n",
            "|   0  NVIDIA GeForce GTX 1650      WDDM  |   00000000:01:00.0  On |                  N/A |\n",
            "| N/A   60C    P3             12W /   62W |    2379MiB /   4096MiB |     27%      Default |\n",
            "|                                         |                        |                  N/A |\n",
            "+-----------------------------------------+------------------------+----------------------+\n",
            "                                                                                         \n",
            "+-----------------------------------------------------------------------------------------+\n",
            "| Processes:                                                                              |\n",
            "|  GPU   GI   CI        PID   Type   Process name                              GPU Memory |\n",
            "|        ID   ID                                                               Usage      |\n",
            "|=========================================================================================|\n",
            "|    0   N/A  N/A      2016    C+G   ...5n1h2txyewy\\ShellExperienceHost.exe      N/A      |\n",
            "|    0   N/A  N/A      2336      C   D:\\anaconda\\python.exe                      N/A      |\n",
            "|    0   N/A  N/A      4240    C+G   ...nr4m\\radeonsoftware\\AMDRSSrcExt.exe      N/A      |\n",
            "|    0   N/A  N/A      6068    C+G   ...452_x64__8wekyb3d8bbwe\\ms-teams.exe      N/A      |\n",
            "|    0   N/A  N/A      6268    C+G   ...les\\Microsoft OneDrive\\OneDrive.exe      N/A      |\n",
            "|    0   N/A  N/A      6320    C+G   C:\\Windows\\explorer.exe                     N/A      |\n",
            "|    0   N/A  N/A      7656    C+G   ...esktop\\app-3.3.15\\GitHubDesktop.exe      N/A      |\n",
            "|    0   N/A  N/A     10520    C+G   ...siveControlPanel\\SystemSettings.exe      N/A      |\n",
            "|    0   N/A  N/A     10932    C+G   ...GeForce Experience\\NVIDIA Share.exe      N/A      |\n",
            "|    0   N/A  N/A     11944    C+G   ...ocal\\Postman\\app-11.0.7\\Postman.exe      N/A      |\n",
            "|    0   N/A  N/A     12408    C+G   ...nt.CBS_cw5n1h2txyewy\\SearchHost.exe      N/A      |\n",
            "|    0   N/A  N/A     12492    C+G   ...2txyewy\\StartMenuExperienceHost.exe      N/A      |\n",
            "|    0   N/A  N/A     12760    C+G   ...US\\ArmouryDevice\\asus_framework.exe      N/A      |\n",
            "|    0   N/A  N/A     14652    C+G   ...on\\124.0.2478.80\\msedgewebview2.exe      N/A      |\n",
            "|    0   N/A  N/A     14964    C+G   ...t.LockApp_cw5n1h2txyewy\\LockApp.exe      N/A      |\n",
            "|    0   N/A  N/A     17260    C+G   ...5n1h2txyewy\\AccountsControlHost.exe      N/A      |\n",
            "|    0   N/A  N/A     17312    C+G   ...GeForce Experience\\NVIDIA Share.exe      N/A      |\n",
            "|    0   N/A  N/A     17748    C+G   ..._8wekyb3d8bbwe\\PAD.Console.Host.exe      N/A      |\n",
            "|    0   N/A  N/A     18260    C+G   ...crosoft\\Edge\\Application\\msedge.exe      N/A      |\n",
            "|    0   N/A  N/A     19296    C+G   ...64__8xx8rvfyw5nnt\\app\\Messenger.exe      N/A      |\n",
            "|    0   N/A  N/A     20408    C+G   ...CBS_cw5n1h2txyewy\\TextInputHost.exe      N/A      |\n",
            "|    0   N/A  N/A     21716    C+G   ...al\\Discord\\app-1.0.9146\\Discord.exe      N/A      |\n",
            "|    0   N/A  N/A     23408    C+G   ...Brave-Browser\\Application\\brave.exe      N/A      |\n",
            "|    0   N/A  N/A     24712    C+G   ...al\\Discord\\app-1.0.9146\\Discord.exe      N/A      |\n",
            "|    0   N/A  N/A     25764    C+G   ...ograms\\cron-web\\Notion Calendar.exe      N/A      |\n",
            "|    0   N/A  N/A     26560    C+G   D:\\WingetUI\\WingetUI.exe                    N/A      |\n",
            "|    0   N/A  N/A     26852    C+G   ...\\cef\\cef.win7x64\\steamwebhelper.exe      N/A      |\n",
            "|    0   N/A  N/A     27800    C+G   ...on\\124.0.2478.80\\msedgewebview2.exe      N/A      |\n",
            "|    0   N/A  N/A     28288    C+G   ...m\\radeonsoftware\\RadeonSoftware.exe      N/A      |\n",
            "|    0   N/A  N/A     30040    C+G   ...__8wekyb3d8bbwe\\WindowsTerminal.exe      N/A      |\n",
            "|    0   N/A  N/A     30312    C+G   D:\\Microsoft VS Code\\Code.exe               N/A      |\n",
            "|    0   N/A  N/A     32968    C+G   ...\\Docker\\frontend\\Docker Desktop.exe      N/A      |\n",
            "|    0   N/A  N/A     34968      C   D:\\anaconda\\python.exe                      N/A      |\n",
            "|    0   N/A  N/A     40664    C+G   ...ekyb3d8bbwe\\PhoneExperienceHost.exe      N/A      |\n",
            "+-----------------------------------------------------------------------------------------+\n"
          ]
        }
      ],
      "source": [
        "!nvidia-smi"
      ]
    },
    {
      "cell_type": "code",
      "execution_count": null,
      "metadata": {
        "id": "Wx9SXD40bKgj"
      },
      "outputs": [],
      "source": [
        "from google.colab import drive"
      ]
    },
    {
      "cell_type": "code",
      "execution_count": null,
      "metadata": {
        "id": "3Gm9fe7idr5S"
      },
      "outputs": [],
      "source": [
        "drive.mount('/content/gdrive')"
      ]
    },
    {
      "cell_type": "code",
      "execution_count": null,
      "metadata": {
        "id": "ndaI3rXtdsE3"
      },
      "outputs": [],
      "source": [
        "!unzip gdrive/MyDrive/DateSet/archive.zip"
      ]
    },
    {
      "cell_type": "code",
      "execution_count": null,
      "metadata": {
        "id": "l2dwy-aedpod"
      },
      "outputs": [],
      "source": [
        "!unzip gdrive/MyDrive/DateSet/Dataset\\ for\\ Crop\\ Pest\\ and\\ Disease\\ Detection.zip"
      ]
    },
    {
      "cell_type": "code",
      "execution_count": null,
      "metadata": {
        "id": "VSmBISksdu6S"
      },
      "outputs": [],
      "source": [
        "%pip install ultralytics\n",
        "%pip install -r requirements.txt"
      ]
    },
    {
      "cell_type": "code",
      "execution_count": 3,
      "metadata": {},
      "outputs": [
        {
          "name": "stdout",
          "output_type": "stream",
          "text": [
            "Collecting ultralytics\n",
            "  Using cached ultralytics-8.2.10-py3-none-any.whl.metadata (40 kB)\n",
            "Requirement already satisfied: matplotlib>=3.3.0 in e:\\programs\\anaconda\\lib\\site-packages (from ultralytics) (3.8.0)\n",
            "Collecting opencv-python>=4.6.0 (from ultralytics)\n",
            "  Using cached opencv_python-4.9.0.80-cp37-abi3-win_amd64.whl.metadata (20 kB)\n",
            "Requirement already satisfied: pillow>=7.1.2 in e:\\programs\\anaconda\\lib\\site-packages (from ultralytics) (10.2.0)\n",
            "Requirement already satisfied: pyyaml>=5.3.1 in e:\\programs\\anaconda\\lib\\site-packages (from ultralytics) (6.0.1)\n",
            "Requirement already satisfied: requests>=2.23.0 in e:\\programs\\anaconda\\lib\\site-packages (from ultralytics) (2.31.0)\n",
            "Requirement already satisfied: scipy>=1.4.1 in e:\\programs\\anaconda\\lib\\site-packages (from ultralytics) (1.10.1)\n",
            "Requirement already satisfied: torch>=1.8.0 in e:\\programs\\anaconda\\lib\\site-packages (from ultralytics) (2.3.0)\n",
            "Requirement already satisfied: torchvision>=0.9.0 in e:\\programs\\anaconda\\lib\\site-packages (from ultralytics) (0.18.0)\n",
            "Requirement already satisfied: tqdm>=4.64.0 in e:\\programs\\anaconda\\lib\\site-packages (from ultralytics) (4.65.0)\n",
            "Requirement already satisfied: psutil in e:\\programs\\anaconda\\lib\\site-packages (from ultralytics) (5.9.0)\n",
            "Requirement already satisfied: py-cpuinfo in e:\\programs\\anaconda\\lib\\site-packages (from ultralytics) (9.0.0)\n",
            "Collecting thop>=0.1.1 (from ultralytics)\n",
            "  Using cached thop-0.1.1.post2209072238-py3-none-any.whl.metadata (2.7 kB)\n",
            "Requirement already satisfied: pandas>=1.1.4 in e:\\programs\\anaconda\\lib\\site-packages (from ultralytics) (2.1.4)\n",
            "Requirement already satisfied: seaborn>=0.11.0 in e:\\programs\\anaconda\\lib\\site-packages (from ultralytics) (0.12.2)\n",
            "Requirement already satisfied: contourpy>=1.0.1 in e:\\programs\\anaconda\\lib\\site-packages (from matplotlib>=3.3.0->ultralytics) (1.2.0)\n",
            "Requirement already satisfied: cycler>=0.10 in e:\\programs\\anaconda\\lib\\site-packages (from matplotlib>=3.3.0->ultralytics) (0.11.0)\n",
            "Requirement already satisfied: fonttools>=4.22.0 in e:\\programs\\anaconda\\lib\\site-packages (from matplotlib>=3.3.0->ultralytics) (4.25.0)\n",
            "Requirement already satisfied: kiwisolver>=1.0.1 in e:\\programs\\anaconda\\lib\\site-packages (from matplotlib>=3.3.0->ultralytics) (1.4.4)\n",
            "Requirement already satisfied: numpy<2,>=1.21 in e:\\programs\\anaconda\\lib\\site-packages (from matplotlib>=3.3.0->ultralytics) (1.24.3)\n",
            "Requirement already satisfied: packaging>=20.0 in e:\\programs\\anaconda\\lib\\site-packages (from matplotlib>=3.3.0->ultralytics) (23.1)\n",
            "Requirement already satisfied: pyparsing>=2.3.1 in e:\\programs\\anaconda\\lib\\site-packages (from matplotlib>=3.3.0->ultralytics) (3.0.9)\n",
            "Requirement already satisfied: python-dateutil>=2.7 in e:\\programs\\anaconda\\lib\\site-packages (from matplotlib>=3.3.0->ultralytics) (2.8.2)\n",
            "Requirement already satisfied: pytz>=2020.1 in e:\\programs\\anaconda\\lib\\site-packages (from pandas>=1.1.4->ultralytics) (2023.3.post1)\n",
            "Requirement already satisfied: tzdata>=2022.1 in e:\\programs\\anaconda\\lib\\site-packages (from pandas>=1.1.4->ultralytics) (2023.3)\n",
            "Requirement already satisfied: charset-normalizer<4,>=2 in e:\\programs\\anaconda\\lib\\site-packages (from requests>=2.23.0->ultralytics) (2.0.4)\n",
            "Requirement already satisfied: idna<4,>=2.5 in e:\\programs\\anaconda\\lib\\site-packages (from requests>=2.23.0->ultralytics) (3.4)\n",
            "Requirement already satisfied: urllib3<3,>=1.21.1 in e:\\programs\\anaconda\\lib\\site-packages (from requests>=2.23.0->ultralytics) (2.0.7)\n",
            "Requirement already satisfied: certifi>=2017.4.17 in e:\\programs\\anaconda\\lib\\site-packages (from requests>=2.23.0->ultralytics) (2024.2.2)\n",
            "Requirement already satisfied: filelock in e:\\programs\\anaconda\\lib\\site-packages (from torch>=1.8.0->ultralytics) (3.13.1)\n",
            "Requirement already satisfied: typing-extensions>=4.8.0 in e:\\programs\\anaconda\\lib\\site-packages (from torch>=1.8.0->ultralytics) (4.9.0)\n",
            "Requirement already satisfied: sympy in e:\\programs\\anaconda\\lib\\site-packages (from torch>=1.8.0->ultralytics) (1.12)\n",
            "Requirement already satisfied: networkx in e:\\programs\\anaconda\\lib\\site-packages (from torch>=1.8.0->ultralytics) (3.1)\n",
            "Requirement already satisfied: jinja2 in e:\\programs\\anaconda\\lib\\site-packages (from torch>=1.8.0->ultralytics) (3.1.3)\n",
            "Requirement already satisfied: fsspec in e:\\programs\\anaconda\\lib\\site-packages (from torch>=1.8.0->ultralytics) (2023.10.0)\n",
            "Collecting mkl<=2021.4.0,>=2021.1.1 (from torch>=1.8.0->ultralytics)\n",
            "  Using cached mkl-2021.4.0-py2.py3-none-win_amd64.whl.metadata (1.4 kB)\n",
            "Requirement already satisfied: colorama in e:\\programs\\anaconda\\lib\\site-packages (from tqdm>=4.64.0->ultralytics) (0.4.6)\n",
            "Collecting intel-openmp==2021.* (from mkl<=2021.4.0,>=2021.1.1->torch>=1.8.0->ultralytics)\n",
            "  Using cached intel_openmp-2021.4.0-py2.py3-none-win_amd64.whl.metadata (1.2 kB)\n",
            "Collecting tbb==2021.* (from mkl<=2021.4.0,>=2021.1.1->torch>=1.8.0->ultralytics)\n",
            "  Using cached tbb-2021.12.0-py3-none-win_amd64.whl.metadata (1.1 kB)\n",
            "Requirement already satisfied: six>=1.5 in e:\\programs\\anaconda\\lib\\site-packages (from python-dateutil>=2.7->matplotlib>=3.3.0->ultralytics) (1.16.0)\n",
            "Requirement already satisfied: MarkupSafe>=2.0 in e:\\programs\\anaconda\\lib\\site-packages (from jinja2->torch>=1.8.0->ultralytics) (2.1.3)\n",
            "Requirement already satisfied: mpmath>=0.19 in e:\\programs\\anaconda\\lib\\site-packages (from sympy->torch>=1.8.0->ultralytics) (1.3.0)\n",
            "Using cached ultralytics-8.2.10-py3-none-any.whl (755 kB)\n",
            "Using cached opencv_python-4.9.0.80-cp37-abi3-win_amd64.whl (38.6 MB)\n",
            "Using cached thop-0.1.1.post2209072238-py3-none-any.whl (15 kB)\n",
            "Downloading mkl-2021.4.0-py2.py3-none-win_amd64.whl (228.5 MB)\n",
            "   ---------------------------------------- 0.0/228.5 MB ? eta -:--:--\n",
            "   ---------------------------------------- 0.1/228.5 MB 2.0 MB/s eta 0:01:57\n",
            "   ---------------------------------------- 0.7/228.5 MB 7.2 MB/s eta 0:00:32\n",
            "   ---------------------------------------- 1.6/228.5 MB 11.0 MB/s eta 0:00:21\n",
            "   ---------------------------------------- 2.8/228.5 MB 14.8 MB/s eta 0:00:16\n",
            "    --------------------------------------- 4.2/228.5 MB 18.1 MB/s eta 0:00:13\n",
            "   - -------------------------------------- 6.2/228.5 MB 21.9 MB/s eta 0:00:11\n",
            "   - -------------------------------------- 8.6/228.5 MB 26.3 MB/s eta 0:00:09\n",
            "   -- ------------------------------------- 11.5/228.5 MB 40.9 MB/s eta 0:00:06\n",
            "   -- ------------------------------------- 14.5/228.5 MB 54.4 MB/s eta 0:00:04\n",
            "   --- ------------------------------------ 18.2/228.5 MB 65.2 MB/s eta 0:00:04\n",
            "   --- ------------------------------------ 22.3/228.5 MB 72.6 MB/s eta 0:00:03\n",
            "   ---- ----------------------------------- 27.2/228.5 MB 93.9 MB/s eta 0:00:03\n",
            "   ----- --------------------------------- 33.4/228.5 MB 110.0 MB/s eta 0:00:02\n",
            "   ------ -------------------------------- 40.4/228.5 MB 131.2 MB/s eta 0:00:02\n",
            "   -------- ------------------------------ 47.9/228.5 MB 165.0 MB/s eta 0:00:02\n",
            "   --------- ----------------------------- 54.5/228.5 MB 131.2 MB/s eta 0:00:02\n",
            "   ---------- ---------------------------- 61.8/228.5 MB 131.2 MB/s eta 0:00:02\n",
            "   ----------- --------------------------- 69.7/228.5 MB 162.4 MB/s eta 0:00:01\n",
            "   ------------- ------------------------- 77.4/228.5 MB 162.4 MB/s eta 0:00:01\n",
            "   -------------- ------------------------ 84.9/228.5 MB 165.0 MB/s eta 0:00:01\n",
            "   --------------- ----------------------- 90.7/228.5 MB 131.2 MB/s eta 0:00:02\n",
            "   ---------------- --------------------- 100.5/228.5 MB 165.0 MB/s eta 0:00:01\n",
            "   ------------------ ------------------- 109.9/228.5 MB 217.7 MB/s eta 0:00:01\n",
            "   ------------------- ------------------ 119.0/228.5 MB 162.4 MB/s eta 0:00:01\n",
            "   -------------------- ----------------- 124.7/228.5 MB 131.2 MB/s eta 0:00:01\n",
            "   --------------------- ---------------- 132.1/228.5 MB 165.0 MB/s eta 0:00:01\n",
            "   ---------------------- --------------- 136.0/228.5 MB 108.8 MB/s eta 0:00:01\n",
            "   ----------------------- -------------- 142.7/228.5 MB 110.0 MB/s eta 0:00:01\n",
            "   ------------------------- ------------ 150.8/228.5 MB 165.0 MB/s eta 0:00:01\n",
            "   -------------------------- ----------- 156.4/228.5 MB 131.2 MB/s eta 0:00:01\n",
            "   -------------------------- ----------- 162.0/228.5 MB 131.2 MB/s eta 0:00:01\n",
            "   --------------------------- ---------- 167.8/228.5 MB 108.8 MB/s eta 0:00:01\n",
            "   ---------------------------- --------- 173.3/228.5 MB 131.2 MB/s eta 0:00:01\n",
            "   ----------------------------- -------- 178.6/228.5 MB 131.2 MB/s eta 0:00:01\n",
            "   ------------------------------ ------- 184.1/228.5 MB 131.2 MB/s eta 0:00:01\n",
            "   ------------------------------- ------ 190.1/228.5 MB 131.2 MB/s eta 0:00:01\n",
            "   -------------------------------- ----- 195.3/228.5 MB 131.2 MB/s eta 0:00:01\n",
            "   --------------------------------- ---- 200.2/228.5 MB 108.8 MB/s eta 0:00:01\n",
            "   ---------------------------------- --- 206.0/228.5 MB 131.2 MB/s eta 0:00:01\n",
            "   ----------------------------------- -- 212.5/228.5 MB 131.2 MB/s eta 0:00:01\n",
            "   ------------------------------------ - 218.0/228.5 MB 131.2 MB/s eta 0:00:01\n",
            "   -------------------------------------  223.8/228.5 MB 131.2 MB/s eta 0:00:01\n",
            "   -------------------------------------  228.5/228.5 MB 131.2 MB/s eta 0:00:01\n",
            "   -------------------------------------  228.5/228.5 MB 131.2 MB/s eta 0:00:01\n",
            "   -------------------------------------  228.5/228.5 MB 131.2 MB/s eta 0:00:01\n",
            "   -------------------------------------  228.5/228.5 MB 131.2 MB/s eta 0:00:01\n",
            "   --------------------------------------- 228.5/228.5 MB 38.6 MB/s eta 0:00:00\n",
            "Downloading intel_openmp-2021.4.0-py2.py3-none-win_amd64.whl (3.5 MB)\n",
            "   ---------------------------------------- 0.0/3.5 MB ? eta -:--:--\n",
            "   ---------------------------------------- 3.5/3.5 MB 113.1 MB/s eta 0:00:00\n",
            "Downloading tbb-2021.12.0-py3-none-win_amd64.whl (286 kB)\n",
            "   ---------------------------------------- 0.0/286.4 kB ? eta -:--:--\n",
            "   ---------------------------------------- 286.4/286.4 kB ? eta 0:00:00\n",
            "Installing collected packages: tbb, intel-openmp, opencv-python, mkl, thop, ultralytics\n",
            "Successfully installed intel-openmp-2021.4.0 mkl-2021.4.0 opencv-python-4.9.0.80 tbb-2021.12.0 thop-0.1.1.post2209072238 ultralytics-8.2.10\n",
            "Note: you may need to restart the kernel to use updated packages.\n"
          ]
        }
      ],
      "source": [
        "%pip install -U ultralytics"
      ]
    },
    {
      "cell_type": "code",
      "execution_count": 1,
      "metadata": {},
      "outputs": [
        {
          "name": "stdout",
          "output_type": "stream",
          "text": [
            "d:\\Work\\ProjectC-Model\\notebook\n"
          ]
        }
      ],
      "source": [
        "import os\n",
        "\n",
        "HOME = os.getcwd()\n",
        "\n",
        "print(HOME)"
      ]
    },
    {
      "cell_type": "code",
      "execution_count": null,
      "metadata": {},
      "outputs": [],
      "source": [
        "from ultralytics import YOLO\n",
        "\n",
        "\n",
        "model = YOLO('yolov8n-cls.pt')\n",
        "\n",
        "model.train(data=HOME+'/Data/NewDataSet/Data', epochs=5, imgsz=400)"
      ]
    },
    {
      "cell_type": "code",
      "execution_count": null,
      "metadata": {},
      "outputs": [],
      "source": []
    },
    {
      "cell_type": "code",
      "execution_count": 3,
      "metadata": {},
      "outputs": [
        {
          "name": "stdout",
          "output_type": "stream",
          "text": [
            "New https://pypi.org/project/ultralytics/8.2.11 available  Update with 'pip install -U ultralytics'\n",
            "Ultralytics YOLOv8.1.47  Python-3.11.7 torch-2.3.0 CUDA:0 (NVIDIA GeForce GTX 1650, 4096MiB)\n",
            "\u001b[34m\u001b[1mengine\\trainer: \u001b[0mtask=classify, mode=train, model=yolov8n-cls.pt, data=d:\\Work\\ProjectC-Model\\notebook/Data/smallData, epochs=15, time=None, patience=100, batch=16, imgsz=400, save=True, save_period=-1, cache=False, device=None, workers=8, project=None, name=train19, exist_ok=False, pretrained=True, optimizer=auto, verbose=True, seed=0, deterministic=True, single_cls=False, rect=False, cos_lr=False, close_mosaic=10, resume=False, amp=True, fraction=1.0, profile=False, freeze=None, multi_scale=False, overlap_mask=True, mask_ratio=4, dropout=0.0, val=True, split=val, save_json=False, save_hybrid=False, conf=None, iou=0.7, max_det=300, half=False, dnn=False, plots=True, source=None, vid_stride=1, stream_buffer=False, visualize=False, augment=False, agnostic_nms=False, classes=None, retina_masks=False, embed=None, show=False, save_frames=False, save_txt=False, save_conf=False, save_crop=False, show_labels=True, show_conf=True, show_boxes=True, line_width=None, format=torchscript, keras=False, optimize=False, int8=False, dynamic=False, simplify=False, opset=None, workspace=4, nms=False, lr0=0.01, lrf=0.01, momentum=0.937, weight_decay=0.0005, warmup_epochs=3.0, warmup_momentum=0.8, warmup_bias_lr=0.1, box=7.5, cls=0.5, dfl=1.5, pose=12.0, kobj=1.0, label_smoothing=0.0, nbs=64, hsv_h=0.015, hsv_s=0.7, hsv_v=0.4, degrees=0.0, translate=0.1, scale=0.5, shear=0.0, perspective=0.0, flipud=0.0, fliplr=0.5, bgr=0.0, mosaic=1.0, mixup=0.0, copy_paste=0.0, auto_augment=randaugment, erasing=0.4, crop_fraction=1.0, cfg=None, tracker=botsort.yaml, save_dir=runs\\classify\\train19\n",
            "\u001b[34m\u001b[1mtrain:\u001b[0m D:\\Work\\ProjectC-Model\\notebook\\Data\\smallData\\train... found 70295 images in 38 classes  \n",
            "\u001b[34m\u001b[1mval:\u001b[0m D:\\Work\\ProjectC-Model\\notebook\\Data\\smallData\\val... found 17572 images in 38 classes  \n",
            "\u001b[34m\u001b[1mtest:\u001b[0m D:\\Work\\ProjectC-Model\\notebook\\Data\\smallData\\test... found 33 images in 8 classes: ERROR  requires 38 classes, not 8\n",
            "Overriding model.yaml nc=1000 with nc=38\n",
            "\n",
            "                   from  n    params  module                                       arguments                     \n",
            "  0                  -1  1       464  ultralytics.nn.modules.conv.Conv             [3, 16, 3, 2]                 \n",
            "  1                  -1  1      4672  ultralytics.nn.modules.conv.Conv             [16, 32, 3, 2]                \n",
            "  2                  -1  1      7360  ultralytics.nn.modules.block.C2f             [32, 32, 1, True]             \n",
            "  3                  -1  1     18560  ultralytics.nn.modules.conv.Conv             [32, 64, 3, 2]                \n",
            "  4                  -1  2     49664  ultralytics.nn.modules.block.C2f             [64, 64, 2, True]             \n",
            "  5                  -1  1     73984  ultralytics.nn.modules.conv.Conv             [64, 128, 3, 2]               \n",
            "  6                  -1  2    197632  ultralytics.nn.modules.block.C2f             [128, 128, 2, True]           \n",
            "  7                  -1  1    295424  ultralytics.nn.modules.conv.Conv             [128, 256, 3, 2]              \n",
            "  8                  -1  1    460288  ultralytics.nn.modules.block.C2f             [256, 256, 1, True]           \n",
            "  9                  -1  1    378918  ultralytics.nn.modules.head.Classify         [256, 38]                     \n",
            "YOLOv8n-cls summary: 99 layers, 1486966 parameters, 1486966 gradients, 3.4 GFLOPs\n",
            "Transferred 156/158 items from pretrained weights\n",
            "\u001b[34m\u001b[1mAMP: \u001b[0mrunning Automatic Mixed Precision (AMP) checks with YOLOv8n...\n"
          ]
        },
        {
          "name": "stderr",
          "output_type": "stream",
          "text": [
            "d:\\anaconda\\Lib\\site-packages\\torch\\nn\\modules\\conv.py:456: UserWarning: Plan failed with a cudnnException: CUDNN_BACKEND_EXECUTION_PLAN_DESCRIPTOR: cudnnFinalize Descriptor Failed cudnn_status: CUDNN_STATUS_NOT_SUPPORTED (Triggered internally at C:\\cb\\pytorch_1000000000000\\work\\aten\\src\\ATen\\native\\cudnn\\Conv_v8.cpp:919.)\n",
            "  return F.conv2d(input, weight, bias, self.stride,\n"
          ]
        },
        {
          "name": "stdout",
          "output_type": "stream",
          "text": [
            "\u001b[34m\u001b[1mAMP: \u001b[0mchecks passed \n",
            "WARNING  imgsz=[400] must be multiple of max stride 32, updating to [416]\n"
          ]
        },
        {
          "name": "stderr",
          "output_type": "stream",
          "text": [
            "\u001b[34m\u001b[1mtrain: \u001b[0mScanning D:\\Work\\ProjectC-Model\\notebook\\Data\\smallData\\train... 70295 images, 0 corrupt: 100%|██████████| 70295/70295 [01:29<00:00, 787.96it/s]\n"
          ]
        },
        {
          "name": "stdout",
          "output_type": "stream",
          "text": [
            "\u001b[34m\u001b[1mtrain: \u001b[0mNew cache created: D:\\Work\\ProjectC-Model\\notebook\\Data\\smallData\\train.cache\n"
          ]
        },
        {
          "name": "stderr",
          "output_type": "stream",
          "text": [
            "\u001b[34m\u001b[1mval: \u001b[0mScanning D:\\Work\\ProjectC-Model\\notebook\\Data\\smallData\\val... 17572 images, 0 corrupt: 100%|██████████| 17572/17572 [00:00<?, ?it/s]\n"
          ]
        },
        {
          "name": "stdout",
          "output_type": "stream",
          "text": [
            "\u001b[34m\u001b[1moptimizer:\u001b[0m 'optimizer=auto' found, ignoring 'lr0=0.01' and 'momentum=0.937' and determining best 'optimizer', 'lr0' and 'momentum' automatically... \n",
            "\u001b[34m\u001b[1moptimizer:\u001b[0m SGD(lr=0.01, momentum=0.9) with parameter groups 26 weight(decay=0.0), 27 weight(decay=0.0005), 27 bias(decay=0.0)\n",
            "Image sizes 416 train, 416 val\n",
            "Using 8 dataloader workers\n",
            "Logging results to \u001b[1mruns\\classify\\train19\u001b[0m\n",
            "Starting training for 15 epochs...\n",
            "\n",
            "      Epoch    GPU_mem       loss  Instances       Size\n"
          ]
        },
        {
          "name": "stderr",
          "output_type": "stream",
          "text": [
            "       1/15     0.692G      1.366          7        416: 100%|██████████| 4394/4394 [18:57<00:00,  3.86it/s]\n",
            "               classes   top1_acc   top5_acc: 100%|██████████| 550/550 [01:22<00:00,  6.66it/s]"
          ]
        },
        {
          "name": "stdout",
          "output_type": "stream",
          "text": [
            "                   all      0.958      0.999\n"
          ]
        },
        {
          "name": "stderr",
          "output_type": "stream",
          "text": [
            "\n"
          ]
        },
        {
          "name": "stdout",
          "output_type": "stream",
          "text": [
            "\n",
            "      Epoch    GPU_mem       loss  Instances       Size\n"
          ]
        },
        {
          "name": "stderr",
          "output_type": "stream",
          "text": [
            "       2/15     0.709G     0.2224          7        416: 100%|██████████| 4394/4394 [18:51<00:00,  3.88it/s]\n",
            "               classes   top1_acc   top5_acc: 100%|██████████| 550/550 [01:21<00:00,  6.72it/s]"
          ]
        },
        {
          "name": "stdout",
          "output_type": "stream",
          "text": [
            "                   all      0.982          1\n"
          ]
        },
        {
          "name": "stderr",
          "output_type": "stream",
          "text": [
            "\n"
          ]
        },
        {
          "name": "stdout",
          "output_type": "stream",
          "text": [
            "\n",
            "      Epoch    GPU_mem       loss  Instances       Size\n"
          ]
        },
        {
          "name": "stderr",
          "output_type": "stream",
          "text": [
            "       3/15     0.711G     0.1735          7        416: 100%|██████████| 4394/4394 [18:41<00:00,  3.92it/s]\n",
            "               classes   top1_acc   top5_acc: 100%|██████████| 550/550 [01:21<00:00,  6.73it/s]"
          ]
        },
        {
          "name": "stdout",
          "output_type": "stream",
          "text": [
            "                   all      0.985          1\n"
          ]
        },
        {
          "name": "stderr",
          "output_type": "stream",
          "text": [
            "\n"
          ]
        },
        {
          "name": "stdout",
          "output_type": "stream",
          "text": [
            "\n",
            "      Epoch    GPU_mem       loss  Instances       Size\n"
          ]
        },
        {
          "name": "stderr",
          "output_type": "stream",
          "text": [
            "       4/15       0.7G     0.1653          7        416: 100%|██████████| 4394/4394 [18:38<00:00,  3.93it/s]\n",
            "               classes   top1_acc   top5_acc: 100%|██████████| 550/550 [01:21<00:00,  6.74it/s]"
          ]
        },
        {
          "name": "stdout",
          "output_type": "stream",
          "text": [
            "                   all       0.99          1\n"
          ]
        },
        {
          "name": "stderr",
          "output_type": "stream",
          "text": [
            "\n"
          ]
        },
        {
          "name": "stdout",
          "output_type": "stream",
          "text": [
            "\n",
            "      Epoch    GPU_mem       loss  Instances       Size\n"
          ]
        },
        {
          "name": "stderr",
          "output_type": "stream",
          "text": [
            "       5/15     0.707G     0.1095          7        416: 100%|██████████| 4394/4394 [18:38<00:00,  3.93it/s]\n",
            "               classes   top1_acc   top5_acc: 100%|██████████| 550/550 [01:21<00:00,  6.71it/s]"
          ]
        },
        {
          "name": "stdout",
          "output_type": "stream",
          "text": [
            "                   all      0.994          1\n"
          ]
        },
        {
          "name": "stderr",
          "output_type": "stream",
          "text": [
            "\n"
          ]
        }
      ],
      "source": [
        "from ultralytics import YOLO\n",
        "\n",
        "\n",
        "model = YOLO('yolov8n-cls.pt')\n",
        "\n",
        "model.train(data=HOME+\"/Data/smallData\", epochs=15, imgsz=400)"
      ]
    },
    {
      "cell_type": "code",
      "execution_count": null,
      "metadata": {},
      "outputs": [],
      "source": [
        "from ultralytics import YOLO\n",
        "\n",
        "\n",
        "model = YOLO('yolov8n-cls.pt')\n",
        "\n",
        "model.train(data=HOME+'/Data/NewDataSet/Data', epochs=16, imgsz=400)"
      ]
    },
    {
      "cell_type": "code",
      "execution_count": 7,
      "metadata": {},
      "outputs": [
        {
          "name": "stdout",
          "output_type": "stream",
          "text": [
            "\n",
            "WARNING  Video stream unresponsive, please check your IP camera connection.\n",
            "WARNING  Video stream unresponsive, please check your IP camera connection.\n",
            "1/1: https://firebasestorage.googleapis.com/v0/b/pathfinder-bd7e8.appspot.com/o/image%2F02156625-8688-4519-937d-a761b379cbd9PotatoEarlyBlight2.JPG?alt=media&token=03290387-e36d-43b1-8a4f-589f981299a1... Success  (inf frames of shape 256x256 at 25.00 FPS)\n",
            "\n",
            "WARNING  Video stream unresponsive, please check your IP camera connection.\n",
            "\n",
            "WARNING  inference results will accumulate in RAM unless `stream=True` is passed, causing potential out-of-memory\n",
            "errors for large sources or long-running streams and videos. See https://docs.ultralytics.com/modes/predict/ for help.\n",
            "\n",
            "Example:\n",
            "    results = model(source=..., stream=True)  # generator of Results objects\n",
            "    for r in results:\n",
            "        boxes = r.boxes  # Boxes object for bbox outputs\n",
            "        masks = r.masks  # Masks object for segment masks outputs\n",
            "        probs = r.probs  # Class probabilities for classification outputs\n",
            "\n",
            "0: 416x416 Potato___Early_blight 1.00, Potato___Late_blight 0.00, Strawberry___Leaf_scorch 0.00, Grape___Leaf_blight_(Isariopsis_Leaf_Spot) 0.00, Apple___Apple_scab 0.00, 14.0ms\n"
          ]
        },
        {
          "ename": "error",
          "evalue": "OpenCV(4.8.1) D:\\a\\opencv-python\\opencv-python\\opencv\\modules\\highgui\\src\\window.cpp:1338: error: (-2:Unspecified error) The function is not implemented. Rebuild the library with Windows, GTK+ 2.x or Cocoa support. If you are on Ubuntu or Debian, install libgtk2.0-dev and pkg-config, then re-run cmake or configure script in function 'cvWaitKey'\n",
          "output_type": "error",
          "traceback": [
            "\u001b[1;31m---------------------------------------------------------------------------\u001b[0m",
            "\u001b[1;31merror\u001b[0m                                     Traceback (most recent call last)",
            "Cell \u001b[1;32mIn[7], line 10\u001b[0m\n\u001b[0;32m      5\u001b[0m result_model \u001b[38;5;241m=\u001b[39m \u001b[38;5;124m'\u001b[39m\u001b[38;5;124m./runs/classify/train18/weights/best.pt\u001b[39m\u001b[38;5;124m'\u001b[39m\n\u001b[0;32m      8\u001b[0m model \u001b[38;5;241m=\u001b[39m YOLO(result_model)  \u001b[38;5;66;03m# load a custom model\u001b[39;00m\n\u001b[1;32m---> 10\u001b[0m results \u001b[38;5;241m=\u001b[39m model\u001b[38;5;241m.\u001b[39mpredict(\u001b[38;5;124m'\u001b[39m\u001b[38;5;124mhttps://firebasestorage.googleapis.com/v0/b/pathfinder-bd7e8.appspot.com/o/image\u001b[39m\u001b[38;5;132;01m%2F\u001b[39;00m\u001b[38;5;124m02156625-8688-4519-937d-a761b379cbd9PotatoEarlyBlight2.JPG?alt=media&token=03290387-e36d-43b1-8a4f-589f981299a1\u001b[39m\u001b[38;5;124m'\u001b[39m,stream\u001b[38;5;241m=\u001b[39m\u001b[38;5;28;01mFalse\u001b[39;00m)  \u001b[38;5;66;03m# predict on an image\u001b[39;00m\n\u001b[0;32m     12\u001b[0m names_dict \u001b[38;5;241m=\u001b[39m results[\u001b[38;5;241m0\u001b[39m]\u001b[38;5;241m.\u001b[39mnames\n\u001b[0;32m     14\u001b[0m probs \u001b[38;5;241m=\u001b[39m results[\u001b[38;5;241m0\u001b[39m]\u001b[38;5;241m.\u001b[39mprobs\u001b[38;5;241m.\u001b[39mdata\u001b[38;5;241m.\u001b[39mtolist()\n",
            "File \u001b[1;32md:\\anaconda\\Lib\\site-packages\\ultralytics\\engine\\model.py:452\u001b[0m, in \u001b[0;36mModel.predict\u001b[1;34m(self, source, stream, predictor, **kwargs)\u001b[0m\n\u001b[0;32m    450\u001b[0m \u001b[38;5;28;01mif\u001b[39;00m prompts \u001b[38;5;129;01mand\u001b[39;00m \u001b[38;5;28mhasattr\u001b[39m(\u001b[38;5;28mself\u001b[39m\u001b[38;5;241m.\u001b[39mpredictor, \u001b[38;5;124m\"\u001b[39m\u001b[38;5;124mset_prompts\u001b[39m\u001b[38;5;124m\"\u001b[39m):  \u001b[38;5;66;03m# for SAM-type models\u001b[39;00m\n\u001b[0;32m    451\u001b[0m     \u001b[38;5;28mself\u001b[39m\u001b[38;5;241m.\u001b[39mpredictor\u001b[38;5;241m.\u001b[39mset_prompts(prompts)\n\u001b[1;32m--> 452\u001b[0m \u001b[38;5;28;01mreturn\u001b[39;00m \u001b[38;5;28mself\u001b[39m\u001b[38;5;241m.\u001b[39mpredictor\u001b[38;5;241m.\u001b[39mpredict_cli(source\u001b[38;5;241m=\u001b[39msource) \u001b[38;5;28;01mif\u001b[39;00m is_cli \u001b[38;5;28;01melse\u001b[39;00m \u001b[38;5;28mself\u001b[39m\u001b[38;5;241m.\u001b[39mpredictor(source\u001b[38;5;241m=\u001b[39msource, stream\u001b[38;5;241m=\u001b[39mstream)\n",
            "File \u001b[1;32md:\\anaconda\\Lib\\site-packages\\ultralytics\\engine\\predictor.py:168\u001b[0m, in \u001b[0;36mBasePredictor.__call__\u001b[1;34m(self, source, model, stream, *args, **kwargs)\u001b[0m\n\u001b[0;32m    166\u001b[0m     \u001b[38;5;28;01mreturn\u001b[39;00m \u001b[38;5;28mself\u001b[39m\u001b[38;5;241m.\u001b[39mstream_inference(source, model, \u001b[38;5;241m*\u001b[39margs, \u001b[38;5;241m*\u001b[39m\u001b[38;5;241m*\u001b[39mkwargs)\n\u001b[0;32m    167\u001b[0m \u001b[38;5;28;01melse\u001b[39;00m:\n\u001b[1;32m--> 168\u001b[0m     \u001b[38;5;28;01mreturn\u001b[39;00m \u001b[38;5;28mlist\u001b[39m(\u001b[38;5;28mself\u001b[39m\u001b[38;5;241m.\u001b[39mstream_inference(source, model, \u001b[38;5;241m*\u001b[39margs, \u001b[38;5;241m*\u001b[39m\u001b[38;5;241m*\u001b[39mkwargs))\n",
            "File \u001b[1;32md:\\anaconda\\Lib\\site-packages\\torch\\utils\\_contextlib.py:56\u001b[0m, in \u001b[0;36m_wrap_generator.<locals>.generator_context\u001b[1;34m(*args, **kwargs)\u001b[0m\n\u001b[0;32m     53\u001b[0m         \u001b[38;5;28;01melse\u001b[39;00m:\n\u001b[0;32m     54\u001b[0m             \u001b[38;5;66;03m# Pass the last request to the generator and get its response\u001b[39;00m\n\u001b[0;32m     55\u001b[0m             \u001b[38;5;28;01mwith\u001b[39;00m ctx_factory():\n\u001b[1;32m---> 56\u001b[0m                 response \u001b[38;5;241m=\u001b[39m gen\u001b[38;5;241m.\u001b[39msend(request)\n\u001b[0;32m     58\u001b[0m \u001b[38;5;66;03m# We let the exceptions raised above by the generator's `.throw` or\u001b[39;00m\n\u001b[0;32m     59\u001b[0m \u001b[38;5;66;03m# `.send` methods bubble up to our caller, except for StopIteration\u001b[39;00m\n\u001b[0;32m     60\u001b[0m \u001b[38;5;28;01mexcept\u001b[39;00m \u001b[38;5;167;01mStopIteration\u001b[39;00m \u001b[38;5;28;01mas\u001b[39;00m e:\n\u001b[0;32m     61\u001b[0m     \u001b[38;5;66;03m# The generator informed us that it is done: take whatever its\u001b[39;00m\n\u001b[0;32m     62\u001b[0m     \u001b[38;5;66;03m# returned value (if any) was and indicate that we're done too\u001b[39;00m\n\u001b[0;32m     63\u001b[0m     \u001b[38;5;66;03m# by returning it (see docs for python's return-statement).\u001b[39;00m\n",
            "File \u001b[1;32md:\\anaconda\\Lib\\site-packages\\ultralytics\\engine\\predictor.py:238\u001b[0m, in \u001b[0;36mBasePredictor.stream_inference\u001b[1;34m(self, source, model, *args, **kwargs)\u001b[0m\n\u001b[0;32m    232\u001b[0m profilers \u001b[38;5;241m=\u001b[39m (\n\u001b[0;32m    233\u001b[0m     ops\u001b[38;5;241m.\u001b[39mProfile(device\u001b[38;5;241m=\u001b[39m\u001b[38;5;28mself\u001b[39m\u001b[38;5;241m.\u001b[39mdevice),\n\u001b[0;32m    234\u001b[0m     ops\u001b[38;5;241m.\u001b[39mProfile(device\u001b[38;5;241m=\u001b[39m\u001b[38;5;28mself\u001b[39m\u001b[38;5;241m.\u001b[39mdevice),\n\u001b[0;32m    235\u001b[0m     ops\u001b[38;5;241m.\u001b[39mProfile(device\u001b[38;5;241m=\u001b[39m\u001b[38;5;28mself\u001b[39m\u001b[38;5;241m.\u001b[39mdevice),\n\u001b[0;32m    236\u001b[0m )\n\u001b[0;32m    237\u001b[0m \u001b[38;5;28mself\u001b[39m\u001b[38;5;241m.\u001b[39mrun_callbacks(\u001b[38;5;124m\"\u001b[39m\u001b[38;5;124mon_predict_start\u001b[39m\u001b[38;5;124m\"\u001b[39m)\n\u001b[1;32m--> 238\u001b[0m \u001b[38;5;28;01mfor\u001b[39;00m \u001b[38;5;28mself\u001b[39m\u001b[38;5;241m.\u001b[39mbatch \u001b[38;5;129;01min\u001b[39;00m \u001b[38;5;28mself\u001b[39m\u001b[38;5;241m.\u001b[39mdataset:\n\u001b[0;32m    239\u001b[0m     \u001b[38;5;28mself\u001b[39m\u001b[38;5;241m.\u001b[39mrun_callbacks(\u001b[38;5;124m\"\u001b[39m\u001b[38;5;124mon_predict_batch_start\u001b[39m\u001b[38;5;124m\"\u001b[39m)\n\u001b[0;32m    240\u001b[0m     paths, im0s, s \u001b[38;5;241m=\u001b[39m \u001b[38;5;28mself\u001b[39m\u001b[38;5;241m.\u001b[39mbatch\n",
            "File \u001b[1;32md:\\anaconda\\Lib\\site-packages\\ultralytics\\data\\loaders.py:162\u001b[0m, in \u001b[0;36mLoadStreams.__next__\u001b[1;34m(self)\u001b[0m\n\u001b[0;32m    159\u001b[0m \u001b[38;5;28;01mfor\u001b[39;00m i, x \u001b[38;5;129;01min\u001b[39;00m \u001b[38;5;28menumerate\u001b[39m(\u001b[38;5;28mself\u001b[39m\u001b[38;5;241m.\u001b[39mimgs):\n\u001b[0;32m    160\u001b[0m     \u001b[38;5;66;03m# Wait until a frame is available in each buffer\u001b[39;00m\n\u001b[0;32m    161\u001b[0m     \u001b[38;5;28;01mwhile\u001b[39;00m \u001b[38;5;129;01mnot\u001b[39;00m x:\n\u001b[1;32m--> 162\u001b[0m         \u001b[38;5;28;01mif\u001b[39;00m \u001b[38;5;129;01mnot\u001b[39;00m \u001b[38;5;28mself\u001b[39m\u001b[38;5;241m.\u001b[39mthreads[i]\u001b[38;5;241m.\u001b[39mis_alive() \u001b[38;5;129;01mor\u001b[39;00m cv2\u001b[38;5;241m.\u001b[39mwaitKey(\u001b[38;5;241m1\u001b[39m) \u001b[38;5;241m==\u001b[39m \u001b[38;5;28mord\u001b[39m(\u001b[38;5;124m\"\u001b[39m\u001b[38;5;124mq\u001b[39m\u001b[38;5;124m\"\u001b[39m):  \u001b[38;5;66;03m# q to quit\u001b[39;00m\n\u001b[0;32m    163\u001b[0m             \u001b[38;5;28mself\u001b[39m\u001b[38;5;241m.\u001b[39mclose()\n\u001b[0;32m    164\u001b[0m             \u001b[38;5;28;01mraise\u001b[39;00m \u001b[38;5;167;01mStopIteration\u001b[39;00m\n",
            "\u001b[1;31merror\u001b[0m: OpenCV(4.8.1) D:\\a\\opencv-python\\opencv-python\\opencv\\modules\\highgui\\src\\window.cpp:1338: error: (-2:Unspecified error) The function is not implemented. Rebuild the library with Windows, GTK+ 2.x or Cocoa support. If you are on Ubuntu or Debian, install libgtk2.0-dev and pkg-config, then re-run cmake or configure script in function 'cvWaitKey'\n"
          ]
        },
        {
          "name": "stdout",
          "output_type": "stream",
          "text": [
            "WARNING  Video stream unresponsive, please check your IP camera connection.\n",
            "WARNING  Video stream unresponsive, please check your IP camera connection.\n",
            "WARNING  Video stream unresponsive, please check your IP camera connection.\n",
            "WARNING  Video stream unresponsive, please check your IP camera connection.\n",
            "WARNING  Video stream unresponsive, please check your IP camera connection.\n",
            "WARNING  Video stream unresponsive, please check your IP camera connection.\n",
            "WARNING  Video stream unresponsive, please check your IP camera connection.\n",
            "WARNING  Video stream unresponsive, please check your IP camera connection.\n",
            "WARNING  Video stream unresponsive, please check your IP camera connection.\n",
            "WARNING  Video stream unresponsive, please check your IP camera connection.\n",
            "WARNING  Video stream unresponsive, please check your IP camera connection.\n",
            "WARNING  Video stream unresponsive, please check your IP camera connection.\n",
            "WARNING  Video stream unresponsive, please check your IP camera connection.\n",
            "WARNING  Video stream unresponsive, please check your IP camera connection.\n",
            "WARNING  Video stream unresponsive, please check your IP camera connection.\n",
            "WARNING  Video stream unresponsive, please check your IP camera connection.\n",
            "WARNING  Video stream unresponsive, please check your IP camera connection.\n",
            "WARNING  Video stream unresponsive, please check your IP camera connection.\n",
            "WARNING  Video stream unresponsive, please check your IP camera connection.\n",
            "WARNING  Video stream unresponsive, please check your IP camera connection.\n",
            "WARNING  Video stream unresponsive, please check your IP camera connection.\n",
            "WARNING  Video stream unresponsive, please check your IP camera connection.\n",
            "WARNING  Video stream unresponsive, please check your IP camera connection.\n",
            "WARNING  Video stream unresponsive, please check your IP camera connection.\n",
            "WARNING  Video stream unresponsive, please check your IP camera connection.\n",
            "WARNING  Video stream unresponsive, please check your IP camera connection.\n",
            "WARNING  Video stream unresponsive, please check your IP camera connection.\n",
            "WARNING  Video stream unresponsive, please check your IP camera connection.\n",
            "WARNING  Video stream unresponsive, please check your IP camera connection.\n",
            "WARNING  Video stream unresponsive, please check your IP camera connection.\n",
            "WARNING  Video stream unresponsive, please check your IP camera connection.\n",
            "WARNING  Video stream unresponsive, please check your IP camera connection.\n",
            "WARNING  Video stream unresponsive, please check your IP camera connection.\n",
            "WARNING  Video stream unresponsive, please check your IP camera connection.\n",
            "WARNING  Video stream unresponsive, please check your IP camera connection.\n",
            "WARNING  Video stream unresponsive, please check your IP camera connection.\n",
            "WARNING  Video stream unresponsive, please check your IP camera connection.\n",
            "WARNING  Video stream unresponsive, please check your IP camera connection.\n",
            "WARNING  Video stream unresponsive, please check your IP camera connection.\n",
            "WARNING  Video stream unresponsive, please check your IP camera connection.\n",
            "WARNING  Video stream unresponsive, please check your IP camera connection.\n",
            "WARNING  Video stream unresponsive, please check your IP camera connection.\n",
            "WARNING  Video stream unresponsive, please check your IP camera connection.\n",
            "WARNING  Video stream unresponsive, please check your IP camera connection.\n",
            "WARNING  Video stream unresponsive, please check your IP camera connection.\n",
            "WARNING  Video stream unresponsive, please check your IP camera connection.\n",
            "WARNING  Video stream unresponsive, please check your IP camera connection.\n",
            "WARNING  Video stream unresponsive, please check your IP camera connection.\n",
            "WARNING  Video stream unresponsive, please check your IP camera connection.\n",
            "WARNING  Video stream unresponsive, please check your IP camera connection.\n",
            "WARNING  Video stream unresponsive, please check your IP camera connection.\n",
            "WARNING  Video stream unresponsive, please check your IP camera connection.\n",
            "WARNING  Video stream unresponsive, please check your IP camera connection.\n",
            "WARNING  Video stream unresponsive, please check your IP camera connection.\n",
            "WARNING  Video stream unresponsive, please check your IP camera connection.\n",
            "WARNING  Video stream unresponsive, please check your IP camera connection.\n",
            "WARNING  Video stream unresponsive, please check your IP camera connection.\n",
            "WARNING  Video stream unresponsive, please check your IP camera connection.\n",
            "WARNING  Video stream unresponsive, please check your IP camera connection.\n",
            "WARNING  Video stream unresponsive, please check your IP camera connection.\n",
            "WARNING  Video stream unresponsive, please check your IP camera connection.\n",
            "WARNING  Video stream unresponsive, please check your IP camera connection.\n",
            "WARNING  Video stream unresponsive, please check your IP camera connection.\n",
            "WARNING  Video stream unresponsive, please check your IP camera connection.\n",
            "WARNING  Video stream unresponsive, please check your IP camera connection.\n",
            "WARNING  Video stream unresponsive, please check your IP camera connection.\n",
            "WARNING  Video stream unresponsive, please check your IP camera connection.\n",
            "WARNING  Video stream unresponsive, please check your IP camera connection.\n",
            "WARNING  Video stream unresponsive, please check your IP camera connection.\n",
            "WARNING  Video stream unresponsive, please check your IP camera connection.\n",
            "WARNING  Video stream unresponsive, please check your IP camera connection.\n",
            "WARNING  Video stream unresponsive, please check your IP camera connection.\n",
            "WARNING  Video stream unresponsive, please check your IP camera connection.\n",
            "WARNING  Video stream unresponsive, please check your IP camera connection.\n",
            "WARNING  Video stream unresponsive, please check your IP camera connection.\n",
            "WARNING  Video stream unresponsive, please check your IP camera connection.\n",
            "WARNING  Video stream unresponsive, please check your IP camera connection.\n",
            "WARNING  Video stream unresponsive, please check your IP camera connection.\n",
            "WARNING  Video stream unresponsive, please check your IP camera connection.\n",
            "WARNING  Video stream unresponsive, please check your IP camera connection.\n",
            "WARNING  Video stream unresponsive, please check your IP camera connection.\n",
            "WARNING  Video stream unresponsive, please check your IP camera connection.\n",
            "WARNING  Video stream unresponsive, please check your IP camera connection.\n",
            "WARNING  Video stream unresponsive, please check your IP camera connection.\n",
            "WARNING  Video stream unresponsive, please check your IP camera connection.\n",
            "WARNING  Video stream unresponsive, please check your IP camera connection.\n",
            "WARNING  Video stream unresponsive, please check your IP camera connection.\n",
            "WARNING  Video stream unresponsive, please check your IP camera connection.\n",
            "WARNING  Video stream unresponsive, please check your IP camera connection.\n",
            "WARNING  Video stream unresponsive, please check your IP camera connection.\n",
            "WARNING  Video stream unresponsive, please check your IP camera connection.\n",
            "WARNING  Video stream unresponsive, please check your IP camera connection.\n",
            "WARNING  Video stream unresponsive, please check your IP camera connection.\n",
            "WARNING  Video stream unresponsive, please check your IP camera connection.\n",
            "WARNING  Video stream unresponsive, please check your IP camera connection.\n",
            "WARNING  Video stream unresponsive, please check your IP camera connection.\n",
            "WARNING  Video stream unresponsive, please check your IP camera connection.\n",
            "WARNING  Video stream unresponsive, please check your IP camera connection.\n",
            "WARNING  Video stream unresponsive, please check your IP camera connection.\n",
            "WARNING  Video stream unresponsive, please check your IP camera connection.\n",
            "WARNING  Video stream unresponsive, please check your IP camera connection.\n",
            "WARNING  Video stream unresponsive, please check your IP camera connection.\n",
            "WARNING  Video stream unresponsive, please check your IP camera connection.\n",
            "WARNING  Video stream unresponsive, please check your IP camera connection.\n",
            "WARNING  Video stream unresponsive, please check your IP camera connection.\n",
            "WARNING  Video stream unresponsive, please check your IP camera connection.\n",
            "WARNING  Video stream unresponsive, please check your IP camera connection.\n",
            "WARNING  Video stream unresponsive, please check your IP camera connection.\n",
            "WARNING  Video stream unresponsive, please check your IP camera connection.\n",
            "WARNING  Video stream unresponsive, please check your IP camera connection.\n",
            "WARNING  Video stream unresponsive, please check your IP camera connection.\n",
            "WARNING  Video stream unresponsive, please check your IP camera connection.\n",
            "WARNING  Video stream unresponsive, please check your IP camera connection.\n",
            "WARNING  Video stream unresponsive, please check your IP camera connection.\n",
            "WARNING  Video stream unresponsive, please check your IP camera connection.\n",
            "WARNING  Video stream unresponsive, please check your IP camera connection.\n",
            "WARNING  Video stream unresponsive, please check your IP camera connection.\n",
            "WARNING  Video stream unresponsive, please check your IP camera connection.\n"
          ]
        }
      ],
      "source": [
        "import numpy as np\n",
        "from ultralytics import YOLO\n",
        "\n",
        "\n",
        "result_model = './runs/classify/train18/weights/best.pt'\n",
        "\n",
        "\n",
        "model = YOLO(result_model)  # load a custom model\n",
        "\n",
        "results = model.predict('https://firebasestorage.googleapis.com/v0/b/pathfinder-bd7e8.appspot.com/o/image%2F02156625-8688-4519-937d-a761b379cbd9PotatoEarlyBlight2.JPG?alt=media&token=03290387-e36d-43b1-8a4f-589f981299a1', stream=False)  # predict on an image\n",
        "\n",
        "names_dict = results[0].names\n",
        "\n",
        "probs = results[0].probs.data.tolist()\n",
        "\n",
        "print(names_dict)\n",
        "print(probs)\n",
        "\n",
        "print(names_dict[np.argmax(probs)])"
      ]
    },
    {
      "cell_type": "code",
      "execution_count": 1,
      "metadata": {},
      "outputs": [
        {
          "name": "stdout",
          "output_type": "stream",
          "text": [
            "a\n"
          ]
        }
      ],
      "source": [
        "namesARR = [\"a\", \"a\", \"a\", \"b\", \"b\"]\n",
        "\n",
        "\n",
        "print(max(set(namesARR), key=namesARR.count))"
      ]
    },
    {
      "cell_type": "code",
      "execution_count": 3,
      "metadata": {},
      "outputs": [
        {
          "name": "stdout",
          "output_type": "stream",
          "text": [
            "WARNING  imgsz=[400] must be multiple of max stride 32, updating to [416]\n"
          ]
        },
        {
          "name": "stdout",
          "output_type": "stream",
          "text": [
            "Ultralytics YOLOv8.1.47  Python-3.11.7 torch-2.3.0 CUDA:0 (NVIDIA GeForce GTX 1650, 4096MiB)\n",
            "YOLOv8n-cls summary (fused): 73 layers, 1483558 parameters, 0 gradients, 3.3 GFLOPs\n",
            "\u001b[34m\u001b[1mtrain:\u001b[0m D:\\Work\\ProjectC-Model\\notebook\\Data\\smallData\\train... found 70295 images in 38 classes  \n",
            "\u001b[34m\u001b[1mval:\u001b[0m D:\\Work\\ProjectC-Model\\notebook\\Data\\smallData\\val... found 17572 images in 38 classes  \n",
            "\u001b[34m\u001b[1mtest:\u001b[0m D:\\Work\\ProjectC-Model\\notebook\\Data\\smallData\\test... found 33 images in 8 classes: ERROR  requires 38 classes, not 8\n"
          ]
        },
        {
          "name": "stderr",
          "output_type": "stream",
          "text": [
            "\u001b[34m\u001b[1mval: \u001b[0mScanning D:\\Work\\ProjectC-Model\\notebook\\Data\\smallData\\val... 17572 images, 0 corrupt: 100%|██████████| 17572/17572 [00:00<?, ?it/s]\n",
            "               classes   top1_acc   top5_acc: 100%|██████████| 1099/1099 [01:31<00:00, 12.01it/s]\n"
          ]
        },
        {
          "name": "stdout",
          "output_type": "stream",
          "text": [
            "                   all      0.999          1\n",
            "Speed: 0.4ms preprocess, 1.6ms inference, 0.0ms loss, 0.0ms postprocess per image\n",
            "Results saved to \u001b[1mruns\\classify\\val5\u001b[0m\n"
          ]
        },
        {
          "data": {
            "text/plain": [
              "ultralytics.utils.metrics.ClassifyMetrics object with attributes:\n",
              "\n",
              "confusion_matrix: <ultralytics.utils.metrics.ConfusionMatrix object at 0x00000203787D2E50>\n",
              "curves: []\n",
              "curves_results: []\n",
              "fitness: 0.9992601573467255\n",
              "keys: ['metrics/accuracy_top1', 'metrics/accuracy_top5']\n",
              "results_dict: {'metrics/accuracy_top1': 0.9985772371292114, 'metrics/accuracy_top5': 0.9999430775642395, 'fitness': 0.9992601573467255}\n",
              "save_dir: WindowsPath('runs/classify/val5')\n",
              "speed: {'preprocess': 0.4114759909979119, 'inference': 1.5983076945486574, 'loss': 0.0023647291416625834, 'postprocess': 0.0013371358394297169}\n",
              "task: 'classify'\n",
              "top1: 0.9985772371292114\n",
              "top5: 0.9999430775642395"
            ]
          },
          "execution_count": 3,
          "metadata": {},
          "output_type": "execute_result"
        }
      ],
      "source": [
        "import os\n",
        "from ultralytics import YOLO\n",
        "\n",
        "result_model = './runs/classify/train18/weights/best.pt'\n",
        "\n",
        "\n",
        "model = YOLO(result_model)\n",
        "\n",
        "model.val(data=HOME+'/Data/smallData', imgsz=400)"
      ]
    },
    {
      "cell_type": "code",
      "execution_count": 4,
      "metadata": {},
      "outputs": [
        {
          "data": {
            "text/plain": [
              "<Figure size 640x480 with 1 Axes>"
            ]
          },
          "metadata": {},
          "output_type": "display_data"
        },
        {
          "data": {
            "text/plain": [
              "<Figure size 640x480 with 1 Axes>"
            ]
          },
          "metadata": {},
          "output_type": "display_data"
        }
      ],
      "source": [
        "import os\n",
        "import pandas as pd\n",
        "import matplotlib.pyplot as plt\n",
        "\n",
        "\n",
        "results_path = './runs/classify/train18/results.csv'\n",
        "\n",
        "results = pd.read_csv(results_path)\n",
        "\n",
        "plt.figure()\n",
        "plt.plot(results['                  epoch'],\n",
        "         results['             train/loss'], label='train loss')\n",
        "plt.plot(results['                  epoch'],\n",
        "         results['               val/loss'], label='val loss', c='red')\n",
        "plt.grid()\n",
        "plt.title('Loss vs epochs')\n",
        "plt.ylabel('loss')\n",
        "plt.xlabel('epochs')\n",
        "plt.legend()\n",
        "\n",
        "\n",
        "plt.figure()\n",
        "plt.plot(results['                  epoch'],\n",
        "         results['  metrics/accuracy_top1'] * 100, label='top1 accuracy')\n",
        "plt.plot(results['                  epoch'],\n",
        "         results['  metrics/accuracy_top5'] * 100, label='top5 accuracy',)\n",
        "plt.grid()\n",
        "plt.title('Validation accuracy vs epochs')\n",
        "plt.ylabel('accuracy (%)')\n",
        "plt.xlabel('epochs')\n",
        "\n",
        "\n",
        "plt.show()"
      ]
    },
    {
      "cell_type": "code",
      "execution_count": 1,
      "metadata": {},
      "outputs": [
        {
          "name": "stdout",
          "output_type": "stream",
          "text": [
            "Ultralytics YOLOv8.1.47  Python-3.11.7 torch-2.3.0 CUDA:0 (NVIDIA GeForce GTX 1650, 4096MiB)\n",
            "\u001b[34m\u001b[1mengine\\trainer: \u001b[0mtask=classify, mode=train, model=D:\\Work\\ProjectC-Model\\app\\Model\\run20\\best.pt, data=imagenet10, epochs=100, time=None, patience=100, batch=16, imgsz=416, save=True, save_period=-1, cache=False, device=None, workers=8, project=None, name=train25, exist_ok=False, pretrained=True, optimizer=auto, verbose=True, seed=0, deterministic=True, single_cls=False, rect=False, cos_lr=False, close_mosaic=10, resume=False, amp=True, fraction=1.0, profile=False, freeze=None, multi_scale=False, overlap_mask=True, mask_ratio=4, dropout=0.0, val=True, split=val, save_json=False, save_hybrid=False, conf=None, iou=0.7, max_det=300, half=False, dnn=False, plots=True, source=None, vid_stride=1, stream_buffer=False, visualize=False, augment=False, agnostic_nms=False, classes=None, retina_masks=False, embed=None, show=False, save_frames=False, save_txt=False, save_conf=False, save_crop=False, show_labels=True, show_conf=True, show_boxes=True, line_width=None, format=torchscript, keras=False, optimize=False, int8=False, dynamic=False, simplify=False, opset=None, workspace=4, nms=False, lr0=0.01, lrf=0.01, momentum=0.937, weight_decay=0.0005, warmup_epochs=3.0, warmup_momentum=0.8, warmup_bias_lr=0.1, box=7.5, cls=0.5, dfl=1.5, pose=12.0, kobj=1.0, label_smoothing=0.0, nbs=64, hsv_h=0.015, hsv_s=0.7, hsv_v=0.4, degrees=0.0, translate=0.1, scale=0.5, shear=0.0, perspective=0.0, flipud=0.0, fliplr=0.5, bgr=0.0, mosaic=1.0, mixup=0.0, copy_paste=0.0, auto_augment=randaugment, erasing=0.4, crop_fraction=1.0, cfg=None, tracker=botsort.yaml, save_dir=runs\\classify\\train25\n",
            "\u001b[34m\u001b[1mtrain:\u001b[0m D:\\Work\\ProjectC-Model\\datasets\\imagenet10\\train... found 12 images in 10 classes  \n",
            "\u001b[34m\u001b[1mval:\u001b[0m D:\\Work\\ProjectC-Model\\datasets\\imagenet10\\val... found 12 images in 10 classes  \n",
            "\u001b[34m\u001b[1mtest:\u001b[0m None...\n",
            "Overriding model.yaml nc=33 with nc=10\n",
            "\n",
            "                   from  n    params  module                                       arguments                     \n",
            "  0                  -1  1       464  ultralytics.nn.modules.conv.Conv             [3, 16, 3, 2]                 \n",
            "  1                  -1  1      4672  ultralytics.nn.modules.conv.Conv             [16, 32, 3, 2]                \n",
            "  2                  -1  1      7360  ultralytics.nn.modules.block.C2f             [32, 32, 1, True]             \n",
            "  3                  -1  1     18560  ultralytics.nn.modules.conv.Conv             [32, 64, 3, 2]                \n",
            "  4                  -1  2     49664  ultralytics.nn.modules.block.C2f             [64, 64, 2, True]             \n",
            "  5                  -1  1     73984  ultralytics.nn.modules.conv.Conv             [64, 128, 3, 2]               \n",
            "  6                  -1  2    197632  ultralytics.nn.modules.block.C2f             [128, 128, 2, True]           \n",
            "  7                  -1  1    295424  ultralytics.nn.modules.conv.Conv             [128, 256, 3, 2]              \n",
            "  8                  -1  1    460288  ultralytics.nn.modules.block.C2f             [256, 256, 1, True]           \n",
            "  9                  -1  1    343050  ultralytics.nn.modules.head.Classify         [256, 10]                     \n",
            "YOLOv8n-cls summary: 99 layers, 1451098 parameters, 1451098 gradients, 3.4 GFLOPs\n",
            "Transferred 156/158 items from pretrained weights\n",
            "\u001b[34m\u001b[1mAMP: \u001b[0mrunning Automatic Mixed Precision (AMP) checks with YOLOv8n...\n"
          ]
        },
        {
          "name": "stderr",
          "output_type": "stream",
          "text": [
            "d:\\anaconda\\Lib\\site-packages\\torch\\nn\\modules\\conv.py:456: UserWarning: Plan failed with a cudnnException: CUDNN_BACKEND_EXECUTION_PLAN_DESCRIPTOR: cudnnFinalize Descriptor Failed cudnn_status: CUDNN_STATUS_NOT_SUPPORTED (Triggered internally at C:\\cb\\pytorch_1000000000000\\work\\aten\\src\\ATen\\native\\cudnn\\Conv_v8.cpp:919.)\n",
            "  return F.conv2d(input, weight, bias, self.stride,\n"
          ]
        },
        {
          "name": "stdout",
          "output_type": "stream",
          "text": [
            "\u001b[34m\u001b[1mAMP: \u001b[0mchecks passed \n"
          ]
        },
        {
          "name": "stderr",
          "output_type": "stream",
          "text": [
            "\u001b[34m\u001b[1mtrain: \u001b[0mScanning D:\\Work\\ProjectC-Model\\datasets\\imagenet10\\train... 12 images, 0 corrupt: 100%|██████████| 12/12 [00:00<?, ?it/s]\n",
            "\u001b[34m\u001b[1mval: \u001b[0mScanning D:\\Work\\ProjectC-Model\\datasets\\imagenet10\\val... 12 images, 0 corrupt: 100%|██████████| 12/12 [00:00<?, ?it/s]\n"
          ]
        },
        {
          "name": "stdout",
          "output_type": "stream",
          "text": [
            "\u001b[34m\u001b[1moptimizer:\u001b[0m 'optimizer=auto' found, ignoring 'lr0=0.01' and 'momentum=0.937' and determining best 'optimizer', 'lr0' and 'momentum' automatically... \n",
            "\u001b[34m\u001b[1moptimizer:\u001b[0m AdamW(lr=0.000714, momentum=0.9) with parameter groups 26 weight(decay=0.0), 27 weight(decay=0.0005), 27 bias(decay=0.0)\n",
            "Image sizes 416 train, 416 val\n",
            "Using 8 dataloader workers\n",
            "Logging results to \u001b[1mruns\\classify\\train25\u001b[0m\n",
            "Starting training for 100 epochs...\n",
            "\n",
            "      Epoch    GPU_mem       loss  Instances       Size\n"
          ]
        },
        {
          "name": "stderr",
          "output_type": "stream",
          "text": [
            "      1/100     0.587G        nan         12        416: 100%|██████████| 1/1 [00:13<00:00, 13.37s/it]\n",
            "               classes   top1_acc   top5_acc: 100%|██████████| 1/1 [00:00<00:00,  1.35it/s]\n"
          ]
        },
        {
          "name": "stdout",
          "output_type": "stream",
          "text": [
            "                   all     0.0833      0.583\n",
            "\n",
            "      Epoch    GPU_mem       loss  Instances       Size\n"
          ]
        },
        {
          "name": "stderr",
          "output_type": "stream",
          "text": [
            "      2/100     0.589G        nan         12        416: 100%|██████████| 1/1 [00:00<00:00,  3.36it/s]\n",
            "               classes   top1_acc   top5_acc: 100%|██████████| 1/1 [00:00<00:00, 13.46it/s]"
          ]
        },
        {
          "name": "stdout",
          "output_type": "stream",
          "text": [
            "                   all     0.0833      0.583\n"
          ]
        },
        {
          "name": "stderr",
          "output_type": "stream",
          "text": [
            "\n"
          ]
        },
        {
          "name": "stdout",
          "output_type": "stream",
          "text": [
            "\n",
            "      Epoch    GPU_mem       loss  Instances       Size\n"
          ]
        },
        {
          "name": "stderr",
          "output_type": "stream",
          "text": [
            "      3/100     0.589G        nan         12        416: 100%|██████████| 1/1 [00:00<00:00,  3.94it/s]\n",
            "               classes   top1_acc   top5_acc: 100%|██████████| 1/1 [00:00<00:00, 12.64it/s]"
          ]
        },
        {
          "name": "stdout",
          "output_type": "stream",
          "text": [
            "                   all     0.0833      0.583\n"
          ]
        },
        {
          "name": "stderr",
          "output_type": "stream",
          "text": [
            "\n"
          ]
        },
        {
          "name": "stdout",
          "output_type": "stream",
          "text": [
            "\n",
            "      Epoch    GPU_mem       loss  Instances       Size\n"
          ]
        },
        {
          "name": "stderr",
          "output_type": "stream",
          "text": [
            "      4/100     0.587G        nan         12        416: 100%|██████████| 1/1 [00:00<00:00,  3.80it/s]\n",
            "               classes   top1_acc   top5_acc: 100%|██████████| 1/1 [00:00<00:00, 13.43it/s]"
          ]
        },
        {
          "name": "stdout",
          "output_type": "stream",
          "text": [
            "                   all     0.0833      0.583\n"
          ]
        },
        {
          "name": "stderr",
          "output_type": "stream",
          "text": [
            "\n"
          ]
        },
        {
          "name": "stdout",
          "output_type": "stream",
          "text": [
            "\n",
            "      Epoch    GPU_mem       loss  Instances       Size\n"
          ]
        },
        {
          "name": "stderr",
          "output_type": "stream",
          "text": [
            "      5/100     0.589G        nan         12        416: 100%|██████████| 1/1 [00:00<00:00,  4.06it/s]\n",
            "               classes   top1_acc   top5_acc: 100%|██████████| 1/1 [00:00<00:00, 13.94it/s]"
          ]
        },
        {
          "name": "stdout",
          "output_type": "stream",
          "text": [
            "                   all     0.0833      0.583\n"
          ]
        },
        {
          "name": "stderr",
          "output_type": "stream",
          "text": [
            "\n"
          ]
        },
        {
          "name": "stdout",
          "output_type": "stream",
          "text": [
            "\n",
            "      Epoch    GPU_mem       loss  Instances       Size\n"
          ]
        },
        {
          "name": "stderr",
          "output_type": "stream",
          "text": [
            "      6/100     0.589G        nan         12        416: 100%|██████████| 1/1 [00:00<00:00,  4.29it/s]\n",
            "               classes   top1_acc   top5_acc: 100%|██████████| 1/1 [00:00<00:00, 14.35it/s]"
          ]
        },
        {
          "name": "stdout",
          "output_type": "stream",
          "text": [
            "                   all     0.0833      0.583\n"
          ]
        },
        {
          "name": "stderr",
          "output_type": "stream",
          "text": [
            "\n"
          ]
        },
        {
          "name": "stdout",
          "output_type": "stream",
          "text": [
            "\n",
            "      Epoch    GPU_mem       loss  Instances       Size\n"
          ]
        },
        {
          "name": "stderr",
          "output_type": "stream",
          "text": [
            "      7/100     0.589G        nan         12        416: 100%|██████████| 1/1 [00:00<00:00,  4.28it/s]\n",
            "               classes   top1_acc   top5_acc: 100%|██████████| 1/1 [00:00<00:00, 14.20it/s]"
          ]
        },
        {
          "name": "stdout",
          "output_type": "stream",
          "text": [
            "                   all     0.0833      0.583\n"
          ]
        },
        {
          "name": "stderr",
          "output_type": "stream",
          "text": [
            "\n"
          ]
        },
        {
          "name": "stdout",
          "output_type": "stream",
          "text": [
            "\n",
            "      Epoch    GPU_mem       loss  Instances       Size\n"
          ]
        },
        {
          "name": "stderr",
          "output_type": "stream",
          "text": [
            "      8/100     0.589G        nan         12        416: 100%|██████████| 1/1 [00:00<00:00,  4.25it/s]\n",
            "               classes   top1_acc   top5_acc: 100%|██████████| 1/1 [00:00<00:00, 13.81it/s]"
          ]
        },
        {
          "name": "stdout",
          "output_type": "stream",
          "text": [
            "                   all     0.0833      0.583\n"
          ]
        },
        {
          "name": "stderr",
          "output_type": "stream",
          "text": [
            "\n"
          ]
        },
        {
          "name": "stdout",
          "output_type": "stream",
          "text": [
            "\n",
            "      Epoch    GPU_mem       loss  Instances       Size\n"
          ]
        },
        {
          "name": "stderr",
          "output_type": "stream",
          "text": [
            "      9/100     0.589G        nan         12        416: 100%|██████████| 1/1 [00:00<00:00,  4.28it/s]\n",
            "               classes   top1_acc   top5_acc: 100%|██████████| 1/1 [00:00<00:00, 14.25it/s]"
          ]
        },
        {
          "name": "stdout",
          "output_type": "stream",
          "text": [
            "                   all     0.0833      0.583\n"
          ]
        },
        {
          "name": "stderr",
          "output_type": "stream",
          "text": [
            "\n"
          ]
        },
        {
          "name": "stdout",
          "output_type": "stream",
          "text": [
            "\n",
            "      Epoch    GPU_mem       loss  Instances       Size\n"
          ]
        },
        {
          "name": "stderr",
          "output_type": "stream",
          "text": [
            "     10/100     0.589G        nan         12        416: 100%|██████████| 1/1 [00:00<00:00,  4.38it/s]\n",
            "               classes   top1_acc   top5_acc: 100%|██████████| 1/1 [00:00<00:00, 14.89it/s]"
          ]
        },
        {
          "name": "stdout",
          "output_type": "stream",
          "text": [
            "                   all     0.0833      0.583\n"
          ]
        },
        {
          "name": "stderr",
          "output_type": "stream",
          "text": [
            "\n"
          ]
        },
        {
          "name": "stdout",
          "output_type": "stream",
          "text": [
            "\n",
            "      Epoch    GPU_mem       loss  Instances       Size\n"
          ]
        },
        {
          "name": "stderr",
          "output_type": "stream",
          "text": [
            "     11/100     0.589G        nan         12        416: 100%|██████████| 1/1 [00:00<00:00,  4.25it/s]\n",
            "               classes   top1_acc   top5_acc: 100%|██████████| 1/1 [00:00<00:00, 14.57it/s]"
          ]
        },
        {
          "name": "stdout",
          "output_type": "stream",
          "text": [
            "                   all     0.0833      0.583\n"
          ]
        },
        {
          "name": "stderr",
          "output_type": "stream",
          "text": [
            "\n"
          ]
        },
        {
          "name": "stdout",
          "output_type": "stream",
          "text": [
            "\n",
            "      Epoch    GPU_mem       loss  Instances       Size\n"
          ]
        },
        {
          "name": "stderr",
          "output_type": "stream",
          "text": [
            "     12/100     0.589G        nan         12        416: 100%|██████████| 1/1 [00:00<00:00,  4.26it/s]\n",
            "               classes   top1_acc   top5_acc: 100%|██████████| 1/1 [00:00<00:00, 14.13it/s]"
          ]
        },
        {
          "name": "stdout",
          "output_type": "stream",
          "text": [
            "                   all     0.0833      0.583\n"
          ]
        },
        {
          "name": "stderr",
          "output_type": "stream",
          "text": [
            "\n"
          ]
        },
        {
          "name": "stdout",
          "output_type": "stream",
          "text": [
            "\n",
            "      Epoch    GPU_mem       loss  Instances       Size\n"
          ]
        },
        {
          "name": "stderr",
          "output_type": "stream",
          "text": [
            "     13/100     0.589G        nan         12        416: 100%|██████████| 1/1 [00:00<00:00,  4.25it/s]\n",
            "               classes   top1_acc   top5_acc: 100%|██████████| 1/1 [00:00<00:00, 14.52it/s]"
          ]
        },
        {
          "name": "stdout",
          "output_type": "stream",
          "text": [
            "                   all     0.0833      0.583\n"
          ]
        },
        {
          "name": "stderr",
          "output_type": "stream",
          "text": [
            "\n"
          ]
        },
        {
          "name": "stdout",
          "output_type": "stream",
          "text": [
            "\n",
            "      Epoch    GPU_mem       loss  Instances       Size\n"
          ]
        },
        {
          "name": "stderr",
          "output_type": "stream",
          "text": [
            "     14/100     0.589G        nan         12        416: 100%|██████████| 1/1 [00:00<00:00,  4.25it/s]\n",
            "               classes   top1_acc   top5_acc: 100%|██████████| 1/1 [00:00<00:00, 14.80it/s]"
          ]
        },
        {
          "name": "stdout",
          "output_type": "stream",
          "text": [
            "                   all     0.0833      0.583\n"
          ]
        },
        {
          "name": "stderr",
          "output_type": "stream",
          "text": [
            "\n"
          ]
        },
        {
          "name": "stdout",
          "output_type": "stream",
          "text": [
            "\n",
            "      Epoch    GPU_mem       loss  Instances       Size\n"
          ]
        },
        {
          "name": "stderr",
          "output_type": "stream",
          "text": [
            "     15/100     0.589G        nan         12        416: 100%|██████████| 1/1 [00:00<00:00,  4.38it/s]\n",
            "               classes   top1_acc   top5_acc: 100%|██████████| 1/1 [00:00<00:00, 14.36it/s]"
          ]
        },
        {
          "name": "stdout",
          "output_type": "stream",
          "text": [
            "                   all     0.0833      0.583\n"
          ]
        },
        {
          "name": "stderr",
          "output_type": "stream",
          "text": [
            "\n"
          ]
        },
        {
          "name": "stdout",
          "output_type": "stream",
          "text": [
            "\n",
            "      Epoch    GPU_mem       loss  Instances       Size\n"
          ]
        },
        {
          "name": "stderr",
          "output_type": "stream",
          "text": [
            "     16/100     0.581G        nan         12        416: 100%|██████████| 1/1 [00:00<00:00,  4.29it/s]\n",
            "               classes   top1_acc   top5_acc: 100%|██████████| 1/1 [00:00<00:00, 14.06it/s]"
          ]
        },
        {
          "name": "stdout",
          "output_type": "stream",
          "text": [
            "                   all     0.0833      0.583\n"
          ]
        },
        {
          "name": "stderr",
          "output_type": "stream",
          "text": [
            "\n"
          ]
        },
        {
          "name": "stdout",
          "output_type": "stream",
          "text": [
            "\n",
            "      Epoch    GPU_mem       loss  Instances       Size\n"
          ]
        },
        {
          "name": "stderr",
          "output_type": "stream",
          "text": [
            "     17/100     0.579G        nan         12        416: 100%|██████████| 1/1 [00:00<00:00,  4.25it/s]\n",
            "               classes   top1_acc   top5_acc: 100%|██████████| 1/1 [00:00<00:00, 14.05it/s]"
          ]
        },
        {
          "name": "stdout",
          "output_type": "stream",
          "text": [
            "                   all     0.0833      0.583\n"
          ]
        },
        {
          "name": "stderr",
          "output_type": "stream",
          "text": [
            "\n"
          ]
        },
        {
          "name": "stdout",
          "output_type": "stream",
          "text": [
            "\n",
            "      Epoch    GPU_mem       loss  Instances       Size\n"
          ]
        },
        {
          "name": "stderr",
          "output_type": "stream",
          "text": [
            "     18/100     0.577G        nan         12        416: 100%|██████████| 1/1 [00:00<00:00,  4.62it/s]\n",
            "               classes   top1_acc   top5_acc: 100%|██████████| 1/1 [00:00<00:00, 14.58it/s]"
          ]
        },
        {
          "name": "stdout",
          "output_type": "stream",
          "text": [
            "                   all     0.0833      0.583\n"
          ]
        },
        {
          "name": "stderr",
          "output_type": "stream",
          "text": [
            "\n"
          ]
        },
        {
          "name": "stdout",
          "output_type": "stream",
          "text": [
            "\n",
            "      Epoch    GPU_mem       loss  Instances       Size\n"
          ]
        },
        {
          "name": "stderr",
          "output_type": "stream",
          "text": [
            "     19/100     0.579G        nan         12        416: 100%|██████████| 1/1 [00:00<00:00,  4.31it/s]\n",
            "               classes   top1_acc   top5_acc: 100%|██████████| 1/1 [00:00<00:00, 14.75it/s]"
          ]
        },
        {
          "name": "stdout",
          "output_type": "stream",
          "text": [
            "                   all     0.0833      0.583\n"
          ]
        },
        {
          "name": "stderr",
          "output_type": "stream",
          "text": [
            "\n"
          ]
        },
        {
          "name": "stdout",
          "output_type": "stream",
          "text": [
            "\n",
            "      Epoch    GPU_mem       loss  Instances       Size\n"
          ]
        },
        {
          "name": "stderr",
          "output_type": "stream",
          "text": [
            "     20/100     0.577G        nan         12        416: 100%|██████████| 1/1 [00:00<00:00,  4.55it/s]\n",
            "               classes   top1_acc   top5_acc: 100%|██████████| 1/1 [00:00<00:00, 14.33it/s]"
          ]
        },
        {
          "name": "stdout",
          "output_type": "stream",
          "text": [
            "                   all     0.0833      0.583\n"
          ]
        },
        {
          "name": "stderr",
          "output_type": "stream",
          "text": [
            "\n"
          ]
        },
        {
          "name": "stdout",
          "output_type": "stream",
          "text": [
            "\n",
            "      Epoch    GPU_mem       loss  Instances       Size\n"
          ]
        },
        {
          "name": "stderr",
          "output_type": "stream",
          "text": [
            "     21/100     0.579G        nan         12        416: 100%|██████████| 1/1 [00:00<00:00,  4.30it/s]\n",
            "               classes   top1_acc   top5_acc: 100%|██████████| 1/1 [00:00<00:00, 13.96it/s]"
          ]
        },
        {
          "name": "stdout",
          "output_type": "stream",
          "text": [
            "                   all     0.0833      0.583\n"
          ]
        },
        {
          "name": "stderr",
          "output_type": "stream",
          "text": [
            "\n"
          ]
        },
        {
          "name": "stdout",
          "output_type": "stream",
          "text": [
            "\n",
            "      Epoch    GPU_mem       loss  Instances       Size\n"
          ]
        },
        {
          "name": "stderr",
          "output_type": "stream",
          "text": [
            "     22/100     0.577G        nan         12        416: 100%|██████████| 1/1 [00:00<00:00,  4.52it/s]\n",
            "               classes   top1_acc   top5_acc: 100%|██████████| 1/1 [00:00<00:00, 14.39it/s]"
          ]
        },
        {
          "name": "stdout",
          "output_type": "stream",
          "text": [
            "                   all     0.0833      0.583\n"
          ]
        },
        {
          "name": "stderr",
          "output_type": "stream",
          "text": [
            "\n"
          ]
        },
        {
          "name": "stdout",
          "output_type": "stream",
          "text": [
            "\n",
            "      Epoch    GPU_mem       loss  Instances       Size\n"
          ]
        },
        {
          "name": "stderr",
          "output_type": "stream",
          "text": [
            "     23/100     0.579G        nan         12        416: 100%|██████████| 1/1 [00:00<00:00,  4.43it/s]\n",
            "               classes   top1_acc   top5_acc: 100%|██████████| 1/1 [00:00<00:00, 14.73it/s]"
          ]
        },
        {
          "name": "stdout",
          "output_type": "stream",
          "text": [
            "                   all     0.0833      0.583\n"
          ]
        },
        {
          "name": "stderr",
          "output_type": "stream",
          "text": [
            "\n"
          ]
        },
        {
          "name": "stdout",
          "output_type": "stream",
          "text": [
            "\n",
            "      Epoch    GPU_mem       loss  Instances       Size\n"
          ]
        },
        {
          "name": "stderr",
          "output_type": "stream",
          "text": [
            "     24/100     0.577G        nan         12        416: 100%|██████████| 1/1 [00:00<00:00,  4.64it/s]\n",
            "               classes   top1_acc   top5_acc: 100%|██████████| 1/1 [00:00<00:00, 14.07it/s]"
          ]
        },
        {
          "name": "stdout",
          "output_type": "stream",
          "text": [
            "                   all     0.0833      0.583\n"
          ]
        },
        {
          "name": "stderr",
          "output_type": "stream",
          "text": [
            "\n"
          ]
        },
        {
          "name": "stdout",
          "output_type": "stream",
          "text": [
            "\n",
            "      Epoch    GPU_mem       loss  Instances       Size\n"
          ]
        },
        {
          "name": "stderr",
          "output_type": "stream",
          "text": [
            "     25/100     0.579G        nan         12        416: 100%|██████████| 1/1 [00:00<00:00,  4.31it/s]\n",
            "               classes   top1_acc   top5_acc: 100%|██████████| 1/1 [00:00<00:00, 14.34it/s]"
          ]
        },
        {
          "name": "stdout",
          "output_type": "stream",
          "text": [
            "                   all     0.0833      0.583\n"
          ]
        },
        {
          "name": "stderr",
          "output_type": "stream",
          "text": [
            "\n"
          ]
        },
        {
          "name": "stdout",
          "output_type": "stream",
          "text": [
            "\n",
            "      Epoch    GPU_mem       loss  Instances       Size\n"
          ]
        },
        {
          "name": "stderr",
          "output_type": "stream",
          "text": [
            "     26/100     0.577G        nan         12        416: 100%|██████████| 1/1 [00:00<00:00,  4.60it/s]\n",
            "               classes   top1_acc   top5_acc: 100%|██████████| 1/1 [00:00<00:00, 14.40it/s]"
          ]
        },
        {
          "name": "stdout",
          "output_type": "stream",
          "text": [
            "                   all     0.0833      0.583\n"
          ]
        },
        {
          "name": "stderr",
          "output_type": "stream",
          "text": [
            "\n"
          ]
        },
        {
          "name": "stdout",
          "output_type": "stream",
          "text": [
            "\n",
            "      Epoch    GPU_mem       loss  Instances       Size\n"
          ]
        },
        {
          "name": "stderr",
          "output_type": "stream",
          "text": [
            "     27/100     0.577G        nan         12        416: 100%|██████████| 1/1 [00:00<00:00,  4.44it/s]\n",
            "               classes   top1_acc   top5_acc: 100%|██████████| 1/1 [00:00<00:00, 14.93it/s]"
          ]
        },
        {
          "name": "stdout",
          "output_type": "stream",
          "text": [
            "                   all     0.0833      0.583\n"
          ]
        },
        {
          "name": "stderr",
          "output_type": "stream",
          "text": [
            "\n"
          ]
        },
        {
          "name": "stdout",
          "output_type": "stream",
          "text": [
            "\n",
            "      Epoch    GPU_mem       loss  Instances       Size\n"
          ]
        },
        {
          "name": "stderr",
          "output_type": "stream",
          "text": [
            "     28/100     0.577G        nan         12        416: 100%|██████████| 1/1 [00:00<00:00,  4.62it/s]\n",
            "               classes   top1_acc   top5_acc: 100%|██████████| 1/1 [00:00<00:00, 14.59it/s]"
          ]
        },
        {
          "name": "stdout",
          "output_type": "stream",
          "text": [
            "                   all     0.0833      0.583\n"
          ]
        },
        {
          "name": "stderr",
          "output_type": "stream",
          "text": [
            "\n"
          ]
        },
        {
          "name": "stdout",
          "output_type": "stream",
          "text": [
            "\n",
            "      Epoch    GPU_mem       loss  Instances       Size\n"
          ]
        },
        {
          "name": "stderr",
          "output_type": "stream",
          "text": [
            "     29/100     0.579G        nan         12        416: 100%|██████████| 1/1 [00:00<00:00,  4.22it/s]\n",
            "               classes   top1_acc   top5_acc: 100%|██████████| 1/1 [00:00<00:00, 14.68it/s]"
          ]
        },
        {
          "name": "stdout",
          "output_type": "stream",
          "text": [
            "                   all     0.0833      0.583\n"
          ]
        },
        {
          "name": "stderr",
          "output_type": "stream",
          "text": [
            "\n"
          ]
        },
        {
          "name": "stdout",
          "output_type": "stream",
          "text": [
            "\n",
            "      Epoch    GPU_mem       loss  Instances       Size\n"
          ]
        },
        {
          "name": "stderr",
          "output_type": "stream",
          "text": [
            "     30/100     0.577G        nan         12        416: 100%|██████████| 1/1 [00:00<00:00,  4.62it/s]\n",
            "               classes   top1_acc   top5_acc: 100%|██████████| 1/1 [00:00<00:00, 14.48it/s]"
          ]
        },
        {
          "name": "stdout",
          "output_type": "stream",
          "text": [
            "                   all     0.0833      0.583\n"
          ]
        },
        {
          "name": "stderr",
          "output_type": "stream",
          "text": [
            "\n"
          ]
        },
        {
          "name": "stdout",
          "output_type": "stream",
          "text": [
            "\n",
            "      Epoch    GPU_mem       loss  Instances       Size\n"
          ]
        },
        {
          "name": "stderr",
          "output_type": "stream",
          "text": [
            "     31/100     0.577G        nan         12        416: 100%|██████████| 1/1 [00:00<00:00,  4.22it/s]\n",
            "               classes   top1_acc   top5_acc: 100%|██████████| 1/1 [00:00<00:00, 14.55it/s]"
          ]
        },
        {
          "name": "stdout",
          "output_type": "stream",
          "text": [
            "                   all     0.0833      0.583\n"
          ]
        },
        {
          "name": "stderr",
          "output_type": "stream",
          "text": [
            "\n"
          ]
        },
        {
          "name": "stdout",
          "output_type": "stream",
          "text": [
            "\n",
            "      Epoch    GPU_mem       loss  Instances       Size\n"
          ]
        },
        {
          "name": "stderr",
          "output_type": "stream",
          "text": [
            "     32/100     0.579G        nan         12        416: 100%|██████████| 1/1 [00:00<00:00,  4.61it/s]\n",
            "               classes   top1_acc   top5_acc: 100%|██████████| 1/1 [00:00<00:00, 14.17it/s]"
          ]
        },
        {
          "name": "stdout",
          "output_type": "stream",
          "text": [
            "                   all     0.0833      0.583\n"
          ]
        },
        {
          "name": "stderr",
          "output_type": "stream",
          "text": [
            "\n"
          ]
        },
        {
          "name": "stdout",
          "output_type": "stream",
          "text": [
            "\n",
            "      Epoch    GPU_mem       loss  Instances       Size\n"
          ]
        },
        {
          "name": "stderr",
          "output_type": "stream",
          "text": [
            "     33/100     0.579G        nan         12        416: 100%|██████████| 1/1 [00:00<00:00,  4.16it/s]\n",
            "               classes   top1_acc   top5_acc: 100%|██████████| 1/1 [00:00<00:00, 14.65it/s]"
          ]
        },
        {
          "name": "stdout",
          "output_type": "stream",
          "text": [
            "                   all     0.0833      0.583\n"
          ]
        },
        {
          "name": "stderr",
          "output_type": "stream",
          "text": [
            "\n"
          ]
        },
        {
          "name": "stdout",
          "output_type": "stream",
          "text": [
            "\n",
            "      Epoch    GPU_mem       loss  Instances       Size\n"
          ]
        },
        {
          "name": "stderr",
          "output_type": "stream",
          "text": [
            "     34/100     0.579G        nan         12        416: 100%|██████████| 1/1 [00:00<00:00,  4.59it/s]\n",
            "               classes   top1_acc   top5_acc: 100%|██████████| 1/1 [00:00<00:00, 14.56it/s]"
          ]
        },
        {
          "name": "stdout",
          "output_type": "stream",
          "text": [
            "                   all     0.0833      0.583\n"
          ]
        },
        {
          "name": "stderr",
          "output_type": "stream",
          "text": [
            "\n"
          ]
        },
        {
          "name": "stdout",
          "output_type": "stream",
          "text": [
            "\n",
            "      Epoch    GPU_mem       loss  Instances       Size\n"
          ]
        },
        {
          "name": "stderr",
          "output_type": "stream",
          "text": [
            "     35/100     0.577G        nan         12        416: 100%|██████████| 1/1 [00:00<00:00,  4.33it/s]\n",
            "               classes   top1_acc   top5_acc: 100%|██████████| 1/1 [00:00<00:00, 14.82it/s]"
          ]
        },
        {
          "name": "stdout",
          "output_type": "stream",
          "text": [
            "                   all     0.0833      0.583\n"
          ]
        },
        {
          "name": "stderr",
          "output_type": "stream",
          "text": [
            "\n"
          ]
        },
        {
          "name": "stdout",
          "output_type": "stream",
          "text": [
            "\n",
            "      Epoch    GPU_mem       loss  Instances       Size\n"
          ]
        },
        {
          "name": "stderr",
          "output_type": "stream",
          "text": [
            "     36/100     0.577G        nan         12        416: 100%|██████████| 1/1 [00:00<00:00,  4.51it/s]\n",
            "               classes   top1_acc   top5_acc: 100%|██████████| 1/1 [00:00<00:00, 14.58it/s]"
          ]
        },
        {
          "name": "stdout",
          "output_type": "stream",
          "text": [
            "                   all     0.0833      0.583\n"
          ]
        },
        {
          "name": "stderr",
          "output_type": "stream",
          "text": [
            "\n"
          ]
        },
        {
          "name": "stdout",
          "output_type": "stream",
          "text": [
            "\n",
            "      Epoch    GPU_mem       loss  Instances       Size\n"
          ]
        },
        {
          "name": "stderr",
          "output_type": "stream",
          "text": [
            "     37/100     0.577G        nan         12        416: 100%|██████████| 1/1 [00:00<00:00,  4.18it/s]\n",
            "               classes   top1_acc   top5_acc: 100%|██████████| 1/1 [00:00<00:00, 14.54it/s]"
          ]
        },
        {
          "name": "stdout",
          "output_type": "stream",
          "text": [
            "                   all     0.0833      0.583\n"
          ]
        },
        {
          "name": "stderr",
          "output_type": "stream",
          "text": [
            "\n"
          ]
        },
        {
          "name": "stdout",
          "output_type": "stream",
          "text": [
            "\n",
            "      Epoch    GPU_mem       loss  Instances       Size\n"
          ]
        },
        {
          "name": "stderr",
          "output_type": "stream",
          "text": [
            "     38/100     0.577G        nan         12        416: 100%|██████████| 1/1 [00:00<00:00,  4.64it/s]\n",
            "               classes   top1_acc   top5_acc: 100%|██████████| 1/1 [00:00<00:00, 14.27it/s]"
          ]
        },
        {
          "name": "stdout",
          "output_type": "stream",
          "text": [
            "                   all     0.0833      0.583\n"
          ]
        },
        {
          "name": "stderr",
          "output_type": "stream",
          "text": [
            "\n"
          ]
        },
        {
          "name": "stdout",
          "output_type": "stream",
          "text": [
            "\n",
            "      Epoch    GPU_mem       loss  Instances       Size\n"
          ]
        },
        {
          "name": "stderr",
          "output_type": "stream",
          "text": [
            "     39/100     0.579G        nan         12        416: 100%|██████████| 1/1 [00:00<00:00,  4.26it/s]\n",
            "               classes   top1_acc   top5_acc: 100%|██████████| 1/1 [00:00<00:00, 14.25it/s]"
          ]
        },
        {
          "name": "stdout",
          "output_type": "stream",
          "text": [
            "                   all     0.0833      0.583\n"
          ]
        },
        {
          "name": "stderr",
          "output_type": "stream",
          "text": [
            "\n"
          ]
        },
        {
          "name": "stdout",
          "output_type": "stream",
          "text": [
            "\n",
            "      Epoch    GPU_mem       loss  Instances       Size\n"
          ]
        },
        {
          "name": "stderr",
          "output_type": "stream",
          "text": [
            "     40/100     0.577G        nan         12        416: 100%|██████████| 1/1 [00:00<00:00,  4.47it/s]\n",
            "               classes   top1_acc   top5_acc: 100%|██████████| 1/1 [00:00<00:00, 14.24it/s]"
          ]
        },
        {
          "name": "stdout",
          "output_type": "stream",
          "text": [
            "                   all     0.0833      0.583\n"
          ]
        },
        {
          "name": "stderr",
          "output_type": "stream",
          "text": [
            "\n"
          ]
        },
        {
          "name": "stdout",
          "output_type": "stream",
          "text": [
            "\n",
            "      Epoch    GPU_mem       loss  Instances       Size\n"
          ]
        },
        {
          "name": "stderr",
          "output_type": "stream",
          "text": [
            "     41/100     0.579G        nan         12        416: 100%|██████████| 1/1 [00:00<00:00,  4.25it/s]\n",
            "               classes   top1_acc   top5_acc: 100%|██████████| 1/1 [00:00<00:00, 14.33it/s]"
          ]
        },
        {
          "name": "stdout",
          "output_type": "stream",
          "text": [
            "                   all     0.0833      0.583\n"
          ]
        },
        {
          "name": "stderr",
          "output_type": "stream",
          "text": [
            "\n"
          ]
        },
        {
          "name": "stdout",
          "output_type": "stream",
          "text": [
            "\n",
            "      Epoch    GPU_mem       loss  Instances       Size\n"
          ]
        },
        {
          "name": "stderr",
          "output_type": "stream",
          "text": [
            "     42/100     0.577G        nan         12        416: 100%|██████████| 1/1 [00:00<00:00,  4.60it/s]\n",
            "               classes   top1_acc   top5_acc: 100%|██████████| 1/1 [00:00<00:00, 14.88it/s]"
          ]
        },
        {
          "name": "stdout",
          "output_type": "stream",
          "text": [
            "                   all     0.0833      0.583\n"
          ]
        },
        {
          "name": "stderr",
          "output_type": "stream",
          "text": [
            "\n"
          ]
        },
        {
          "name": "stdout",
          "output_type": "stream",
          "text": [
            "\n",
            "      Epoch    GPU_mem       loss  Instances       Size\n"
          ]
        },
        {
          "name": "stderr",
          "output_type": "stream",
          "text": [
            "     43/100     0.579G        nan         12        416: 100%|██████████| 1/1 [00:00<00:00,  4.44it/s]\n",
            "               classes   top1_acc   top5_acc: 100%|██████████| 1/1 [00:00<00:00, 14.57it/s]"
          ]
        },
        {
          "name": "stdout",
          "output_type": "stream",
          "text": [
            "                   all     0.0833      0.583\n"
          ]
        },
        {
          "name": "stderr",
          "output_type": "stream",
          "text": [
            "\n"
          ]
        },
        {
          "name": "stdout",
          "output_type": "stream",
          "text": [
            "\n",
            "      Epoch    GPU_mem       loss  Instances       Size\n"
          ]
        },
        {
          "name": "stderr",
          "output_type": "stream",
          "text": [
            "     44/100     0.577G        nan         12        416: 100%|██████████| 1/1 [00:00<00:00,  4.56it/s]\n",
            "               classes   top1_acc   top5_acc: 100%|██████████| 1/1 [00:00<00:00, 14.36it/s]"
          ]
        },
        {
          "name": "stdout",
          "output_type": "stream",
          "text": [
            "                   all     0.0833      0.583\n"
          ]
        },
        {
          "name": "stderr",
          "output_type": "stream",
          "text": [
            "\n"
          ]
        },
        {
          "name": "stdout",
          "output_type": "stream",
          "text": [
            "\n",
            "      Epoch    GPU_mem       loss  Instances       Size\n"
          ]
        },
        {
          "name": "stderr",
          "output_type": "stream",
          "text": [
            "     45/100     0.577G        nan         12        416: 100%|██████████| 1/1 [00:00<00:00,  4.29it/s]\n",
            "               classes   top1_acc   top5_acc: 100%|██████████| 1/1 [00:00<00:00, 14.81it/s]"
          ]
        },
        {
          "name": "stdout",
          "output_type": "stream",
          "text": [
            "                   all     0.0833      0.583\n"
          ]
        },
        {
          "name": "stderr",
          "output_type": "stream",
          "text": [
            "\n"
          ]
        },
        {
          "name": "stdout",
          "output_type": "stream",
          "text": [
            "\n",
            "      Epoch    GPU_mem       loss  Instances       Size\n"
          ]
        },
        {
          "name": "stderr",
          "output_type": "stream",
          "text": [
            "     46/100     0.577G        nan         12        416: 100%|██████████| 1/1 [00:00<00:00,  4.53it/s]\n",
            "               classes   top1_acc   top5_acc: 100%|██████████| 1/1 [00:00<00:00, 14.10it/s]"
          ]
        },
        {
          "name": "stdout",
          "output_type": "stream",
          "text": [
            "                   all     0.0833      0.583\n"
          ]
        },
        {
          "name": "stderr",
          "output_type": "stream",
          "text": [
            "\n"
          ]
        },
        {
          "name": "stdout",
          "output_type": "stream",
          "text": [
            "\n",
            "      Epoch    GPU_mem       loss  Instances       Size\n"
          ]
        },
        {
          "name": "stderr",
          "output_type": "stream",
          "text": [
            "     47/100     0.579G        nan         12        416: 100%|██████████| 1/1 [00:00<00:00,  4.34it/s]\n",
            "               classes   top1_acc   top5_acc: 100%|██████████| 1/1 [00:00<00:00, 13.94it/s]"
          ]
        },
        {
          "name": "stdout",
          "output_type": "stream",
          "text": [
            "                   all     0.0833      0.583\n"
          ]
        },
        {
          "name": "stderr",
          "output_type": "stream",
          "text": [
            "\n"
          ]
        },
        {
          "name": "stdout",
          "output_type": "stream",
          "text": [
            "\n",
            "      Epoch    GPU_mem       loss  Instances       Size\n"
          ]
        },
        {
          "name": "stderr",
          "output_type": "stream",
          "text": [
            "     48/100     0.577G        nan         12        416: 100%|██████████| 1/1 [00:00<00:00,  4.59it/s]\n",
            "               classes   top1_acc   top5_acc: 100%|██████████| 1/1 [00:00<00:00, 13.76it/s]"
          ]
        },
        {
          "name": "stdout",
          "output_type": "stream",
          "text": [
            "                   all     0.0833      0.583\n"
          ]
        },
        {
          "name": "stderr",
          "output_type": "stream",
          "text": [
            "\n"
          ]
        },
        {
          "name": "stdout",
          "output_type": "stream",
          "text": [
            "\n",
            "      Epoch    GPU_mem       loss  Instances       Size\n"
          ]
        },
        {
          "name": "stderr",
          "output_type": "stream",
          "text": [
            "     49/100     0.577G        nan         12        416: 100%|██████████| 1/1 [00:00<00:00,  4.31it/s]\n",
            "               classes   top1_acc   top5_acc: 100%|██████████| 1/1 [00:00<00:00, 14.07it/s]"
          ]
        },
        {
          "name": "stdout",
          "output_type": "stream",
          "text": [
            "                   all     0.0833      0.583\n"
          ]
        },
        {
          "name": "stderr",
          "output_type": "stream",
          "text": [
            "\n"
          ]
        },
        {
          "name": "stdout",
          "output_type": "stream",
          "text": [
            "\n",
            "      Epoch    GPU_mem       loss  Instances       Size\n"
          ]
        },
        {
          "name": "stderr",
          "output_type": "stream",
          "text": [
            "     50/100     0.577G        nan         12        416: 100%|██████████| 1/1 [00:00<00:00,  4.53it/s]\n",
            "               classes   top1_acc   top5_acc: 100%|██████████| 1/1 [00:00<00:00, 14.03it/s]"
          ]
        },
        {
          "name": "stdout",
          "output_type": "stream",
          "text": [
            "                   all     0.0833      0.583\n"
          ]
        },
        {
          "name": "stderr",
          "output_type": "stream",
          "text": [
            "\n"
          ]
        },
        {
          "name": "stdout",
          "output_type": "stream",
          "text": [
            "\n",
            "      Epoch    GPU_mem       loss  Instances       Size\n"
          ]
        },
        {
          "name": "stderr",
          "output_type": "stream",
          "text": [
            "     51/100     0.577G        nan         12        416: 100%|██████████| 1/1 [00:00<00:00,  4.32it/s]\n",
            "               classes   top1_acc   top5_acc: 100%|██████████| 1/1 [00:00<00:00, 14.45it/s]"
          ]
        },
        {
          "name": "stdout",
          "output_type": "stream",
          "text": [
            "                   all     0.0833      0.583\n"
          ]
        },
        {
          "name": "stderr",
          "output_type": "stream",
          "text": [
            "\n"
          ]
        },
        {
          "name": "stdout",
          "output_type": "stream",
          "text": [
            "\n",
            "      Epoch    GPU_mem       loss  Instances       Size\n"
          ]
        },
        {
          "name": "stderr",
          "output_type": "stream",
          "text": [
            "     52/100     0.577G        nan         12        416: 100%|██████████| 1/1 [00:00<00:00,  4.60it/s]\n",
            "               classes   top1_acc   top5_acc: 100%|██████████| 1/1 [00:00<00:00, 14.80it/s]"
          ]
        },
        {
          "name": "stdout",
          "output_type": "stream",
          "text": [
            "                   all     0.0833      0.583\n"
          ]
        },
        {
          "name": "stderr",
          "output_type": "stream",
          "text": [
            "\n"
          ]
        },
        {
          "name": "stdout",
          "output_type": "stream",
          "text": [
            "\n",
            "      Epoch    GPU_mem       loss  Instances       Size\n"
          ]
        },
        {
          "name": "stderr",
          "output_type": "stream",
          "text": [
            "     53/100     0.579G        nan         12        416: 100%|██████████| 1/1 [00:00<00:00,  4.50it/s]\n",
            "               classes   top1_acc   top5_acc: 100%|██████████| 1/1 [00:00<00:00, 14.84it/s]"
          ]
        },
        {
          "name": "stdout",
          "output_type": "stream",
          "text": [
            "                   all     0.0833      0.583\n"
          ]
        },
        {
          "name": "stderr",
          "output_type": "stream",
          "text": [
            "\n"
          ]
        },
        {
          "name": "stdout",
          "output_type": "stream",
          "text": [
            "\n",
            "      Epoch    GPU_mem       loss  Instances       Size\n"
          ]
        },
        {
          "name": "stderr",
          "output_type": "stream",
          "text": [
            "     54/100     0.579G        nan         12        416: 100%|██████████| 1/1 [00:00<00:00,  4.28it/s]\n",
            "               classes   top1_acc   top5_acc: 100%|██████████| 1/1 [00:00<00:00, 14.35it/s]"
          ]
        },
        {
          "name": "stdout",
          "output_type": "stream",
          "text": [
            "                   all     0.0833      0.583\n"
          ]
        },
        {
          "name": "stderr",
          "output_type": "stream",
          "text": [
            "\n"
          ]
        },
        {
          "name": "stdout",
          "output_type": "stream",
          "text": [
            "\n",
            "      Epoch    GPU_mem       loss  Instances       Size\n"
          ]
        },
        {
          "name": "stderr",
          "output_type": "stream",
          "text": [
            "     55/100     0.577G        nan         12        416: 100%|██████████| 1/1 [00:00<00:00,  4.62it/s]\n",
            "               classes   top1_acc   top5_acc: 100%|██████████| 1/1 [00:00<00:00, 14.44it/s]"
          ]
        },
        {
          "name": "stdout",
          "output_type": "stream",
          "text": [
            "                   all     0.0833      0.583\n"
          ]
        },
        {
          "name": "stderr",
          "output_type": "stream",
          "text": [
            "\n"
          ]
        },
        {
          "name": "stdout",
          "output_type": "stream",
          "text": [
            "\n",
            "      Epoch    GPU_mem       loss  Instances       Size\n"
          ]
        },
        {
          "name": "stderr",
          "output_type": "stream",
          "text": [
            "     56/100     0.579G        nan         12        416: 100%|██████████| 1/1 [00:00<00:00,  4.59it/s]\n",
            "               classes   top1_acc   top5_acc: 100%|██████████| 1/1 [00:00<00:00, 14.95it/s]"
          ]
        },
        {
          "name": "stdout",
          "output_type": "stream",
          "text": [
            "                   all     0.0833      0.583\n"
          ]
        },
        {
          "name": "stderr",
          "output_type": "stream",
          "text": [
            "\n"
          ]
        },
        {
          "name": "stdout",
          "output_type": "stream",
          "text": [
            "\n",
            "      Epoch    GPU_mem       loss  Instances       Size\n"
          ]
        },
        {
          "name": "stderr",
          "output_type": "stream",
          "text": [
            "     57/100     0.577G        nan         12        416: 100%|██████████| 1/1 [00:00<00:00,  4.23it/s]\n",
            "               classes   top1_acc   top5_acc: 100%|██████████| 1/1 [00:00<00:00, 14.67it/s]"
          ]
        },
        {
          "name": "stdout",
          "output_type": "stream",
          "text": [
            "                   all     0.0833      0.583\n"
          ]
        },
        {
          "name": "stderr",
          "output_type": "stream",
          "text": [
            "\n"
          ]
        },
        {
          "name": "stdout",
          "output_type": "stream",
          "text": [
            "\n",
            "      Epoch    GPU_mem       loss  Instances       Size\n"
          ]
        },
        {
          "name": "stderr",
          "output_type": "stream",
          "text": [
            "     58/100     0.577G        nan         12        416: 100%|██████████| 1/1 [00:00<00:00,  4.61it/s]\n",
            "               classes   top1_acc   top5_acc: 100%|██████████| 1/1 [00:00<00:00, 14.21it/s]"
          ]
        },
        {
          "name": "stdout",
          "output_type": "stream",
          "text": [
            "                   all     0.0833      0.583\n"
          ]
        },
        {
          "name": "stderr",
          "output_type": "stream",
          "text": [
            "\n"
          ]
        },
        {
          "name": "stdout",
          "output_type": "stream",
          "text": [
            "\n",
            "      Epoch    GPU_mem       loss  Instances       Size\n"
          ]
        },
        {
          "name": "stderr",
          "output_type": "stream",
          "text": [
            "     59/100     0.579G        nan         12        416: 100%|██████████| 1/1 [00:00<00:00,  4.56it/s]\n",
            "               classes   top1_acc   top5_acc: 100%|██████████| 1/1 [00:00<00:00, 14.42it/s]"
          ]
        },
        {
          "name": "stdout",
          "output_type": "stream",
          "text": [
            "                   all     0.0833      0.583\n"
          ]
        },
        {
          "name": "stderr",
          "output_type": "stream",
          "text": [
            "\n"
          ]
        },
        {
          "name": "stdout",
          "output_type": "stream",
          "text": [
            "\n",
            "      Epoch    GPU_mem       loss  Instances       Size\n"
          ]
        },
        {
          "name": "stderr",
          "output_type": "stream",
          "text": [
            "     60/100     0.577G        nan         12        416: 100%|██████████| 1/1 [00:00<00:00,  3.94it/s]\n",
            "               classes   top1_acc   top5_acc: 100%|██████████| 1/1 [00:00<00:00, 13.59it/s]"
          ]
        },
        {
          "name": "stdout",
          "output_type": "stream",
          "text": [
            "                   all     0.0833      0.583\n"
          ]
        },
        {
          "name": "stderr",
          "output_type": "stream",
          "text": [
            "\n"
          ]
        },
        {
          "name": "stdout",
          "output_type": "stream",
          "text": [
            "\n",
            "      Epoch    GPU_mem       loss  Instances       Size\n"
          ]
        },
        {
          "name": "stderr",
          "output_type": "stream",
          "text": [
            "     61/100     0.577G        nan         12        416: 100%|██████████| 1/1 [00:00<00:00,  4.59it/s]\n",
            "               classes   top1_acc   top5_acc: 100%|██████████| 1/1 [00:00<00:00, 14.54it/s]"
          ]
        },
        {
          "name": "stdout",
          "output_type": "stream",
          "text": [
            "                   all     0.0833      0.583\n"
          ]
        },
        {
          "name": "stderr",
          "output_type": "stream",
          "text": [
            "\n"
          ]
        },
        {
          "name": "stdout",
          "output_type": "stream",
          "text": [
            "\n",
            "      Epoch    GPU_mem       loss  Instances       Size\n"
          ]
        },
        {
          "name": "stderr",
          "output_type": "stream",
          "text": [
            "     62/100     0.579G        nan         12        416: 100%|██████████| 1/1 [00:00<00:00,  4.62it/s]\n",
            "               classes   top1_acc   top5_acc: 100%|██████████| 1/1 [00:00<00:00, 14.45it/s]"
          ]
        },
        {
          "name": "stdout",
          "output_type": "stream",
          "text": [
            "                   all     0.0833      0.583\n"
          ]
        },
        {
          "name": "stderr",
          "output_type": "stream",
          "text": [
            "\n"
          ]
        },
        {
          "name": "stdout",
          "output_type": "stream",
          "text": [
            "\n",
            "      Epoch    GPU_mem       loss  Instances       Size\n"
          ]
        },
        {
          "name": "stderr",
          "output_type": "stream",
          "text": [
            "     63/100     0.579G        nan         12        416: 100%|██████████| 1/1 [00:00<00:00,  4.30it/s]\n",
            "               classes   top1_acc   top5_acc: 100%|██████████| 1/1 [00:00<00:00, 14.23it/s]"
          ]
        },
        {
          "name": "stdout",
          "output_type": "stream",
          "text": [
            "                   all     0.0833      0.583\n"
          ]
        },
        {
          "name": "stderr",
          "output_type": "stream",
          "text": [
            "\n"
          ]
        },
        {
          "name": "stdout",
          "output_type": "stream",
          "text": [
            "\n",
            "      Epoch    GPU_mem       loss  Instances       Size\n"
          ]
        },
        {
          "name": "stderr",
          "output_type": "stream",
          "text": [
            "     64/100     0.577G        nan         12        416: 100%|██████████| 1/1 [00:00<00:00,  4.64it/s]\n",
            "               classes   top1_acc   top5_acc: 100%|██████████| 1/1 [00:00<00:00, 14.65it/s]"
          ]
        },
        {
          "name": "stdout",
          "output_type": "stream",
          "text": [
            "                   all     0.0833      0.583\n"
          ]
        },
        {
          "name": "stderr",
          "output_type": "stream",
          "text": [
            "\n"
          ]
        },
        {
          "name": "stdout",
          "output_type": "stream",
          "text": [
            "\n",
            "      Epoch    GPU_mem       loss  Instances       Size\n"
          ]
        },
        {
          "name": "stderr",
          "output_type": "stream",
          "text": [
            "     65/100     0.577G        nan         12        416: 100%|██████████| 1/1 [00:00<00:00,  4.75it/s]\n",
            "               classes   top1_acc   top5_acc: 100%|██████████| 1/1 [00:00<00:00, 15.59it/s]"
          ]
        },
        {
          "name": "stdout",
          "output_type": "stream",
          "text": [
            "                   all     0.0833      0.583\n"
          ]
        },
        {
          "name": "stderr",
          "output_type": "stream",
          "text": [
            "\n"
          ]
        },
        {
          "name": "stdout",
          "output_type": "stream",
          "text": [
            "\n",
            "      Epoch    GPU_mem       loss  Instances       Size\n"
          ]
        },
        {
          "name": "stderr",
          "output_type": "stream",
          "text": [
            "     66/100     0.577G        nan         12        416: 100%|██████████| 1/1 [00:00<00:00,  4.23it/s]\n",
            "               classes   top1_acc   top5_acc: 100%|██████████| 1/1 [00:00<00:00, 13.49it/s]"
          ]
        },
        {
          "name": "stdout",
          "output_type": "stream",
          "text": [
            "                   all     0.0833      0.583\n"
          ]
        },
        {
          "name": "stderr",
          "output_type": "stream",
          "text": [
            "\n"
          ]
        },
        {
          "name": "stdout",
          "output_type": "stream",
          "text": [
            "\n",
            "      Epoch    GPU_mem       loss  Instances       Size\n"
          ]
        },
        {
          "name": "stderr",
          "output_type": "stream",
          "text": [
            "     67/100     0.577G        nan         12        416: 100%|██████████| 1/1 [00:00<00:00,  4.58it/s]\n",
            "               classes   top1_acc   top5_acc: 100%|██████████| 1/1 [00:00<00:00, 14.91it/s]"
          ]
        },
        {
          "name": "stdout",
          "output_type": "stream",
          "text": [
            "                   all     0.0833      0.583\n"
          ]
        },
        {
          "name": "stderr",
          "output_type": "stream",
          "text": [
            "\n"
          ]
        },
        {
          "name": "stdout",
          "output_type": "stream",
          "text": [
            "\n",
            "      Epoch    GPU_mem       loss  Instances       Size\n"
          ]
        },
        {
          "name": "stderr",
          "output_type": "stream",
          "text": [
            "     68/100     0.579G        nan         12        416: 100%|██████████| 1/1 [00:00<00:00,  5.02it/s]\n",
            "               classes   top1_acc   top5_acc: 100%|██████████| 1/1 [00:00<00:00, 16.69it/s]"
          ]
        },
        {
          "name": "stdout",
          "output_type": "stream",
          "text": [
            "                   all     0.0833      0.583\n"
          ]
        },
        {
          "name": "stderr",
          "output_type": "stream",
          "text": [
            "\n"
          ]
        },
        {
          "name": "stdout",
          "output_type": "stream",
          "text": [
            "\n",
            "      Epoch    GPU_mem       loss  Instances       Size\n"
          ]
        },
        {
          "name": "stderr",
          "output_type": "stream",
          "text": [
            "     69/100     0.577G        nan         12        416: 100%|██████████| 1/1 [00:00<00:00,  4.51it/s]\n",
            "               classes   top1_acc   top5_acc: 100%|██████████| 1/1 [00:00<00:00, 15.35it/s]"
          ]
        },
        {
          "name": "stdout",
          "output_type": "stream",
          "text": [
            "                   all     0.0833      0.583\n"
          ]
        },
        {
          "name": "stderr",
          "output_type": "stream",
          "text": [
            "\n"
          ]
        },
        {
          "name": "stdout",
          "output_type": "stream",
          "text": [
            "\n",
            "      Epoch    GPU_mem       loss  Instances       Size\n"
          ]
        },
        {
          "name": "stderr",
          "output_type": "stream",
          "text": [
            "     70/100     0.577G        nan         12        416: 100%|██████████| 1/1 [00:00<00:00,  5.19it/s]\n",
            "               classes   top1_acc   top5_acc: 100%|██████████| 1/1 [00:00<00:00, 15.68it/s]"
          ]
        },
        {
          "name": "stdout",
          "output_type": "stream",
          "text": [
            "                   all     0.0833      0.583\n"
          ]
        },
        {
          "name": "stderr",
          "output_type": "stream",
          "text": [
            "\n"
          ]
        },
        {
          "name": "stdout",
          "output_type": "stream",
          "text": [
            "\n",
            "      Epoch    GPU_mem       loss  Instances       Size\n"
          ]
        },
        {
          "name": "stderr",
          "output_type": "stream",
          "text": [
            "     71/100     0.577G        nan         12        416: 100%|██████████| 1/1 [00:00<00:00,  4.26it/s]\n",
            "               classes   top1_acc   top5_acc: 100%|██████████| 1/1 [00:00<00:00, 16.83it/s]"
          ]
        },
        {
          "name": "stdout",
          "output_type": "stream",
          "text": [
            "                   all     0.0833      0.583\n"
          ]
        },
        {
          "name": "stderr",
          "output_type": "stream",
          "text": [
            "\n"
          ]
        },
        {
          "name": "stdout",
          "output_type": "stream",
          "text": [
            "\n",
            "      Epoch    GPU_mem       loss  Instances       Size\n"
          ]
        },
        {
          "name": "stderr",
          "output_type": "stream",
          "text": [
            "     72/100     0.577G        nan         12        416: 100%|██████████| 1/1 [00:00<00:00,  4.63it/s]\n",
            "               classes   top1_acc   top5_acc: 100%|██████████| 1/1 [00:00<00:00, 15.55it/s]"
          ]
        },
        {
          "name": "stdout",
          "output_type": "stream",
          "text": [
            "                   all     0.0833      0.583\n"
          ]
        },
        {
          "name": "stderr",
          "output_type": "stream",
          "text": [
            "\n"
          ]
        },
        {
          "name": "stdout",
          "output_type": "stream",
          "text": [
            "\n",
            "      Epoch    GPU_mem       loss  Instances       Size\n"
          ]
        },
        {
          "name": "stderr",
          "output_type": "stream",
          "text": [
            "     73/100     0.577G        nan         12        416: 100%|██████████| 1/1 [00:00<00:00,  4.45it/s]\n",
            "               classes   top1_acc   top5_acc: 100%|██████████| 1/1 [00:00<00:00, 14.99it/s]"
          ]
        },
        {
          "name": "stdout",
          "output_type": "stream",
          "text": [
            "                   all     0.0833      0.583\n"
          ]
        },
        {
          "name": "stderr",
          "output_type": "stream",
          "text": [
            "\n"
          ]
        },
        {
          "name": "stdout",
          "output_type": "stream",
          "text": [
            "\n",
            "      Epoch    GPU_mem       loss  Instances       Size\n"
          ]
        },
        {
          "name": "stderr",
          "output_type": "stream",
          "text": [
            "     74/100     0.577G        nan         12        416: 100%|██████████| 1/1 [00:00<00:00,  4.96it/s]\n",
            "               classes   top1_acc   top5_acc: 100%|██████████| 1/1 [00:00<00:00, 14.89it/s]"
          ]
        },
        {
          "name": "stdout",
          "output_type": "stream",
          "text": [
            "                   all     0.0833      0.583\n"
          ]
        },
        {
          "name": "stderr",
          "output_type": "stream",
          "text": [
            "\n"
          ]
        },
        {
          "name": "stdout",
          "output_type": "stream",
          "text": [
            "\n",
            "      Epoch    GPU_mem       loss  Instances       Size\n"
          ]
        },
        {
          "name": "stderr",
          "output_type": "stream",
          "text": [
            "     75/100     0.577G        nan         12        416: 100%|██████████| 1/1 [00:00<00:00,  4.08it/s]\n",
            "               classes   top1_acc   top5_acc: 100%|██████████| 1/1 [00:00<00:00, 16.61it/s]"
          ]
        },
        {
          "name": "stdout",
          "output_type": "stream",
          "text": [
            "                   all     0.0833      0.583\n"
          ]
        },
        {
          "name": "stderr",
          "output_type": "stream",
          "text": [
            "\n"
          ]
        },
        {
          "name": "stdout",
          "output_type": "stream",
          "text": [
            "\n",
            "      Epoch    GPU_mem       loss  Instances       Size\n"
          ]
        },
        {
          "name": "stderr",
          "output_type": "stream",
          "text": [
            "     76/100     0.577G        nan         12        416: 100%|██████████| 1/1 [00:00<00:00,  4.84it/s]\n",
            "               classes   top1_acc   top5_acc: 100%|██████████| 1/1 [00:00<00:00, 14.75it/s]"
          ]
        },
        {
          "name": "stdout",
          "output_type": "stream",
          "text": [
            "                   all     0.0833      0.583\n"
          ]
        },
        {
          "name": "stderr",
          "output_type": "stream",
          "text": [
            "\n"
          ]
        },
        {
          "name": "stdout",
          "output_type": "stream",
          "text": [
            "\n",
            "      Epoch    GPU_mem       loss  Instances       Size\n"
          ]
        },
        {
          "name": "stderr",
          "output_type": "stream",
          "text": [
            "     77/100     0.577G        nan         12        416: 100%|██████████| 1/1 [00:00<00:00,  4.90it/s]\n",
            "               classes   top1_acc   top5_acc: 100%|██████████| 1/1 [00:00<00:00, 15.49it/s]"
          ]
        },
        {
          "name": "stdout",
          "output_type": "stream",
          "text": [
            "                   all     0.0833      0.583\n"
          ]
        },
        {
          "name": "stderr",
          "output_type": "stream",
          "text": [
            "\n"
          ]
        },
        {
          "name": "stdout",
          "output_type": "stream",
          "text": [
            "\n",
            "      Epoch    GPU_mem       loss  Instances       Size\n"
          ]
        },
        {
          "name": "stderr",
          "output_type": "stream",
          "text": [
            "     78/100     0.579G        nan         12        416: 100%|██████████| 1/1 [00:00<00:00,  4.87it/s]\n",
            "               classes   top1_acc   top5_acc: 100%|██████████| 1/1 [00:00<00:00, 16.36it/s]"
          ]
        },
        {
          "name": "stdout",
          "output_type": "stream",
          "text": [
            "                   all     0.0833      0.583\n"
          ]
        },
        {
          "name": "stderr",
          "output_type": "stream",
          "text": [
            "\n"
          ]
        },
        {
          "name": "stdout",
          "output_type": "stream",
          "text": [
            "\n",
            "      Epoch    GPU_mem       loss  Instances       Size\n"
          ]
        },
        {
          "name": "stderr",
          "output_type": "stream",
          "text": [
            "     79/100     0.577G        nan         12        416: 100%|██████████| 1/1 [00:00<00:00,  4.98it/s]\n",
            "               classes   top1_acc   top5_acc: 100%|██████████| 1/1 [00:00<00:00, 16.13it/s]"
          ]
        },
        {
          "name": "stdout",
          "output_type": "stream",
          "text": [
            "                   all     0.0833      0.583\n"
          ]
        },
        {
          "name": "stderr",
          "output_type": "stream",
          "text": [
            "\n"
          ]
        },
        {
          "name": "stdout",
          "output_type": "stream",
          "text": [
            "\n",
            "      Epoch    GPU_mem       loss  Instances       Size\n"
          ]
        },
        {
          "name": "stderr",
          "output_type": "stream",
          "text": [
            "     80/100     0.579G        nan         12        416: 100%|██████████| 1/1 [00:00<00:00,  5.03it/s]\n",
            "               classes   top1_acc   top5_acc: 100%|██████████| 1/1 [00:00<00:00, 15.11it/s]"
          ]
        },
        {
          "name": "stdout",
          "output_type": "stream",
          "text": [
            "                   all     0.0833      0.583\n"
          ]
        },
        {
          "name": "stderr",
          "output_type": "stream",
          "text": [
            "\n"
          ]
        },
        {
          "name": "stdout",
          "output_type": "stream",
          "text": [
            "\n",
            "      Epoch    GPU_mem       loss  Instances       Size\n"
          ]
        },
        {
          "name": "stderr",
          "output_type": "stream",
          "text": [
            "     81/100     0.577G        nan         12        416: 100%|██████████| 1/1 [00:00<00:00,  4.53it/s]\n",
            "               classes   top1_acc   top5_acc: 100%|██████████| 1/1 [00:00<00:00, 16.63it/s]"
          ]
        },
        {
          "name": "stdout",
          "output_type": "stream",
          "text": [
            "                   all     0.0833      0.583\n"
          ]
        },
        {
          "name": "stderr",
          "output_type": "stream",
          "text": [
            "\n"
          ]
        },
        {
          "name": "stdout",
          "output_type": "stream",
          "text": [
            "\n",
            "      Epoch    GPU_mem       loss  Instances       Size\n"
          ]
        },
        {
          "name": "stderr",
          "output_type": "stream",
          "text": [
            "     82/100     0.577G        nan         12        416: 100%|██████████| 1/1 [00:00<00:00,  5.06it/s]\n",
            "               classes   top1_acc   top5_acc: 100%|██████████| 1/1 [00:00<00:00, 14.86it/s]"
          ]
        },
        {
          "name": "stdout",
          "output_type": "stream",
          "text": [
            "                   all     0.0833      0.583\n"
          ]
        },
        {
          "name": "stderr",
          "output_type": "stream",
          "text": [
            "\n"
          ]
        },
        {
          "name": "stdout",
          "output_type": "stream",
          "text": [
            "\n",
            "      Epoch    GPU_mem       loss  Instances       Size\n"
          ]
        },
        {
          "name": "stderr",
          "output_type": "stream",
          "text": [
            "     83/100     0.579G        nan         12        416: 100%|██████████| 1/1 [00:00<00:00,  4.77it/s]\n",
            "               classes   top1_acc   top5_acc: 100%|██████████| 1/1 [00:00<00:00, 16.35it/s]"
          ]
        },
        {
          "name": "stdout",
          "output_type": "stream",
          "text": [
            "                   all     0.0833      0.583\n"
          ]
        },
        {
          "name": "stderr",
          "output_type": "stream",
          "text": [
            "\n"
          ]
        },
        {
          "name": "stdout",
          "output_type": "stream",
          "text": [
            "\n",
            "      Epoch    GPU_mem       loss  Instances       Size\n"
          ]
        },
        {
          "name": "stderr",
          "output_type": "stream",
          "text": [
            "     84/100     0.577G        nan         12        416: 100%|██████████| 1/1 [00:00<00:00,  4.43it/s]\n",
            "               classes   top1_acc   top5_acc: 100%|██████████| 1/1 [00:00<00:00, 14.96it/s]"
          ]
        },
        {
          "name": "stdout",
          "output_type": "stream",
          "text": [
            "                   all     0.0833      0.583\n"
          ]
        },
        {
          "name": "stderr",
          "output_type": "stream",
          "text": [
            "\n"
          ]
        },
        {
          "name": "stdout",
          "output_type": "stream",
          "text": [
            "\n",
            "      Epoch    GPU_mem       loss  Instances       Size\n"
          ]
        },
        {
          "name": "stderr",
          "output_type": "stream",
          "text": [
            "     85/100     0.577G        nan         12        416: 100%|██████████| 1/1 [00:00<00:00,  4.81it/s]\n",
            "               classes   top1_acc   top5_acc: 100%|██████████| 1/1 [00:00<00:00, 15.17it/s]"
          ]
        },
        {
          "name": "stdout",
          "output_type": "stream",
          "text": [
            "                   all     0.0833      0.583\n"
          ]
        },
        {
          "name": "stderr",
          "output_type": "stream",
          "text": [
            "\n"
          ]
        },
        {
          "name": "stdout",
          "output_type": "stream",
          "text": [
            "\n",
            "      Epoch    GPU_mem       loss  Instances       Size\n"
          ]
        },
        {
          "name": "stderr",
          "output_type": "stream",
          "text": [
            "     86/100     0.579G        nan         12        416: 100%|██████████| 1/1 [00:00<00:00,  4.60it/s]\n",
            "               classes   top1_acc   top5_acc: 100%|██████████| 1/1 [00:00<00:00, 15.44it/s]"
          ]
        },
        {
          "name": "stdout",
          "output_type": "stream",
          "text": [
            "                   all     0.0833      0.583\n"
          ]
        },
        {
          "name": "stderr",
          "output_type": "stream",
          "text": [
            "\n"
          ]
        },
        {
          "name": "stdout",
          "output_type": "stream",
          "text": [
            "\n",
            "      Epoch    GPU_mem       loss  Instances       Size\n"
          ]
        },
        {
          "name": "stderr",
          "output_type": "stream",
          "text": [
            "     87/100     0.579G        nan         12        416: 100%|██████████| 1/1 [00:00<00:00,  4.80it/s]\n",
            "               classes   top1_acc   top5_acc: 100%|██████████| 1/1 [00:00<00:00, 15.24it/s]"
          ]
        },
        {
          "name": "stdout",
          "output_type": "stream",
          "text": [
            "                   all     0.0833      0.583\n"
          ]
        },
        {
          "name": "stderr",
          "output_type": "stream",
          "text": [
            "\n"
          ]
        },
        {
          "name": "stdout",
          "output_type": "stream",
          "text": [
            "\n",
            "      Epoch    GPU_mem       loss  Instances       Size\n"
          ]
        },
        {
          "name": "stderr",
          "output_type": "stream",
          "text": [
            "     88/100     0.579G        nan         12        416: 100%|██████████| 1/1 [00:00<00:00,  4.40it/s]\n",
            "               classes   top1_acc   top5_acc: 100%|██████████| 1/1 [00:00<00:00, 15.25it/s]"
          ]
        },
        {
          "name": "stdout",
          "output_type": "stream",
          "text": [
            "                   all     0.0833      0.583\n"
          ]
        },
        {
          "name": "stderr",
          "output_type": "stream",
          "text": [
            "\n"
          ]
        },
        {
          "name": "stdout",
          "output_type": "stream",
          "text": [
            "\n",
            "      Epoch    GPU_mem       loss  Instances       Size\n"
          ]
        },
        {
          "name": "stderr",
          "output_type": "stream",
          "text": [
            "     89/100     0.577G        nan         12        416: 100%|██████████| 1/1 [00:00<00:00,  4.82it/s]\n",
            "               classes   top1_acc   top5_acc: 100%|██████████| 1/1 [00:00<00:00, 15.47it/s]"
          ]
        },
        {
          "name": "stdout",
          "output_type": "stream",
          "text": [
            "                   all     0.0833      0.583\n"
          ]
        },
        {
          "name": "stderr",
          "output_type": "stream",
          "text": [
            "\n"
          ]
        },
        {
          "name": "stdout",
          "output_type": "stream",
          "text": [
            "\n",
            "      Epoch    GPU_mem       loss  Instances       Size\n"
          ]
        },
        {
          "name": "stderr",
          "output_type": "stream",
          "text": [
            "     90/100     0.577G        nan         12        416: 100%|██████████| 1/1 [00:00<00:00,  4.99it/s]\n",
            "               classes   top1_acc   top5_acc: 100%|██████████| 1/1 [00:00<00:00, 15.77it/s]"
          ]
        },
        {
          "name": "stdout",
          "output_type": "stream",
          "text": [
            "                   all     0.0833      0.583\n"
          ]
        },
        {
          "name": "stderr",
          "output_type": "stream",
          "text": [
            "\n"
          ]
        },
        {
          "name": "stdout",
          "output_type": "stream",
          "text": [
            "\n",
            "      Epoch    GPU_mem       loss  Instances       Size\n"
          ]
        },
        {
          "name": "stderr",
          "output_type": "stream",
          "text": [
            "     91/100     0.577G        nan         12        416: 100%|██████████| 1/1 [00:09<00:00,  9.29s/it]\n",
            "               classes   top1_acc   top5_acc: 100%|██████████| 1/1 [00:00<00:00, 13.03it/s]"
          ]
        },
        {
          "name": "stdout",
          "output_type": "stream",
          "text": [
            "                   all     0.0833      0.583\n"
          ]
        },
        {
          "name": "stderr",
          "output_type": "stream",
          "text": [
            "\n"
          ]
        },
        {
          "name": "stdout",
          "output_type": "stream",
          "text": [
            "\n",
            "      Epoch    GPU_mem       loss  Instances       Size\n"
          ]
        },
        {
          "name": "stderr",
          "output_type": "stream",
          "text": [
            "     92/100     0.577G        nan         12        416: 100%|██████████| 1/1 [00:00<00:00,  4.08it/s]\n",
            "               classes   top1_acc   top5_acc: 100%|██████████| 1/1 [00:00<00:00, 12.48it/s]"
          ]
        },
        {
          "name": "stdout",
          "output_type": "stream",
          "text": [
            "                   all     0.0833      0.583\n"
          ]
        },
        {
          "name": "stderr",
          "output_type": "stream",
          "text": [
            "\n"
          ]
        },
        {
          "name": "stdout",
          "output_type": "stream",
          "text": [
            "\n",
            "      Epoch    GPU_mem       loss  Instances       Size\n"
          ]
        },
        {
          "name": "stderr",
          "output_type": "stream",
          "text": [
            "     93/100     0.577G        nan         12        416: 100%|██████████| 1/1 [00:00<00:00,  4.49it/s]\n",
            "               classes   top1_acc   top5_acc: 100%|██████████| 1/1 [00:00<00:00, 12.63it/s]"
          ]
        },
        {
          "name": "stdout",
          "output_type": "stream",
          "text": [
            "                   all     0.0833      0.583\n"
          ]
        },
        {
          "name": "stderr",
          "output_type": "stream",
          "text": [
            "\n"
          ]
        },
        {
          "name": "stdout",
          "output_type": "stream",
          "text": [
            "\n",
            "      Epoch    GPU_mem       loss  Instances       Size\n"
          ]
        },
        {
          "name": "stderr",
          "output_type": "stream",
          "text": [
            "     94/100     0.579G        nan         12        416: 100%|██████████| 1/1 [00:00<00:00,  4.49it/s]\n",
            "               classes   top1_acc   top5_acc: 100%|██████████| 1/1 [00:00<00:00, 14.44it/s]"
          ]
        },
        {
          "name": "stdout",
          "output_type": "stream",
          "text": [
            "                   all     0.0833      0.583\n"
          ]
        },
        {
          "name": "stderr",
          "output_type": "stream",
          "text": [
            "\n"
          ]
        },
        {
          "name": "stdout",
          "output_type": "stream",
          "text": [
            "\n",
            "      Epoch    GPU_mem       loss  Instances       Size\n"
          ]
        },
        {
          "name": "stderr",
          "output_type": "stream",
          "text": [
            "     95/100     0.579G        nan         12        416: 100%|██████████| 1/1 [00:00<00:00,  4.24it/s]\n",
            "               classes   top1_acc   top5_acc: 100%|██████████| 1/1 [00:00<00:00, 13.81it/s]"
          ]
        },
        {
          "name": "stdout",
          "output_type": "stream",
          "text": [
            "                   all     0.0833      0.583\n"
          ]
        },
        {
          "name": "stderr",
          "output_type": "stream",
          "text": [
            "\n"
          ]
        },
        {
          "name": "stdout",
          "output_type": "stream",
          "text": [
            "\n",
            "      Epoch    GPU_mem       loss  Instances       Size\n"
          ]
        },
        {
          "name": "stderr",
          "output_type": "stream",
          "text": [
            "     96/100     0.577G        nan         12        416: 100%|██████████| 1/1 [00:00<00:00,  4.16it/s]\n",
            "               classes   top1_acc   top5_acc: 100%|██████████| 1/1 [00:00<00:00, 14.30it/s]"
          ]
        },
        {
          "name": "stdout",
          "output_type": "stream",
          "text": [
            "                   all     0.0833      0.583\n"
          ]
        },
        {
          "name": "stderr",
          "output_type": "stream",
          "text": [
            "\n"
          ]
        },
        {
          "name": "stdout",
          "output_type": "stream",
          "text": [
            "\n",
            "      Epoch    GPU_mem       loss  Instances       Size\n"
          ]
        },
        {
          "name": "stderr",
          "output_type": "stream",
          "text": [
            "     97/100     0.577G        nan         12        416: 100%|██████████| 1/1 [00:00<00:00,  4.54it/s]\n",
            "               classes   top1_acc   top5_acc: 100%|██████████| 1/1 [00:00<00:00, 14.35it/s]"
          ]
        },
        {
          "name": "stdout",
          "output_type": "stream",
          "text": [
            "                   all     0.0833      0.583\n"
          ]
        },
        {
          "name": "stderr",
          "output_type": "stream",
          "text": [
            "\n"
          ]
        },
        {
          "name": "stdout",
          "output_type": "stream",
          "text": [
            "\n",
            "      Epoch    GPU_mem       loss  Instances       Size\n"
          ]
        },
        {
          "name": "stderr",
          "output_type": "stream",
          "text": [
            "     98/100     0.579G        nan         12        416: 100%|██████████| 1/1 [00:00<00:00,  4.35it/s]\n",
            "               classes   top1_acc   top5_acc: 100%|██████████| 1/1 [00:00<00:00, 13.79it/s]"
          ]
        },
        {
          "name": "stdout",
          "output_type": "stream",
          "text": [
            "                   all     0.0833      0.583\n"
          ]
        },
        {
          "name": "stderr",
          "output_type": "stream",
          "text": [
            "\n"
          ]
        },
        {
          "name": "stdout",
          "output_type": "stream",
          "text": [
            "\n",
            "      Epoch    GPU_mem       loss  Instances       Size\n"
          ]
        },
        {
          "name": "stderr",
          "output_type": "stream",
          "text": [
            "     99/100     0.577G        nan         12        416: 100%|██████████| 1/1 [00:00<00:00,  4.50it/s]\n",
            "               classes   top1_acc   top5_acc: 100%|██████████| 1/1 [00:00<00:00, 14.53it/s]"
          ]
        },
        {
          "name": "stdout",
          "output_type": "stream",
          "text": [
            "                   all     0.0833      0.583\n"
          ]
        },
        {
          "name": "stderr",
          "output_type": "stream",
          "text": [
            "\n"
          ]
        },
        {
          "name": "stdout",
          "output_type": "stream",
          "text": [
            "\n",
            "      Epoch    GPU_mem       loss  Instances       Size\n"
          ]
        },
        {
          "name": "stderr",
          "output_type": "stream",
          "text": [
            "    100/100     0.579G        nan         12        416: 100%|██████████| 1/1 [00:00<00:00,  4.24it/s]\n",
            "               classes   top1_acc   top5_acc: 100%|██████████| 1/1 [00:00<00:00, 14.56it/s]"
          ]
        },
        {
          "name": "stdout",
          "output_type": "stream",
          "text": [
            "                   all     0.0833      0.583\n"
          ]
        },
        {
          "name": "stderr",
          "output_type": "stream",
          "text": [
            "\n"
          ]
        },
        {
          "name": "stdout",
          "output_type": "stream",
          "text": [
            "\n",
            "100 epochs completed in 0.022 hours.\n",
            "Optimizer stripped from runs\\classify\\train25\\weights\\last.pt, 3.0MB\n",
            "Optimizer stripped from runs\\classify\\train25\\weights\\best.pt, 3.0MB\n",
            "\n",
            "Validating runs\\classify\\train25\\weights\\best.pt...\n",
            "Ultralytics YOLOv8.1.47  Python-3.11.7 torch-2.3.0 CUDA:0 (NVIDIA GeForce GTX 1650, 4096MiB)\n",
            "YOLOv8n-cls summary (fused): 73 layers, 1447690 parameters, 0 gradients, 3.3 GFLOPs\n",
            "\u001b[34m\u001b[1mtrain:\u001b[0m D:\\Work\\ProjectC-Model\\datasets\\imagenet10\\train... found 12 images in 10 classes  \n",
            "\u001b[34m\u001b[1mval:\u001b[0m D:\\Work\\ProjectC-Model\\datasets\\imagenet10\\val... found 12 images in 10 classes  \n",
            "\u001b[34m\u001b[1mtest:\u001b[0m None...\n"
          ]
        },
        {
          "name": "stderr",
          "output_type": "stream",
          "text": [
            "               classes   top1_acc   top5_acc: 100%|██████████| 1/1 [00:00<00:00, 11.36it/s]\n"
          ]
        },
        {
          "name": "stdout",
          "output_type": "stream",
          "text": [
            "                   all     0.0833      0.583\n",
            "Speed: 0.4ms preprocess, 5.2ms inference, 0.0ms loss, 0.0ms postprocess per image\n",
            "Results saved to \u001b[1mruns\\classify\\train25\u001b[0m\n",
            "Results saved to \u001b[1mruns\\classify\\train25\u001b[0m\n",
            "\n",
            "0: 416x416 cock nan, stingray nan, hammerhead nan, electric_ray nan, goldfish nan, 2.6ms\n",
            "1: 416x416 cock nan, stingray nan, hammerhead nan, electric_ray nan, goldfish nan, 2.6ms\n",
            "2: 416x416 cock nan, stingray nan, hammerhead nan, electric_ray nan, goldfish nan, 2.6ms\n",
            "3: 416x416 cock nan, stingray nan, hammerhead nan, electric_ray nan, goldfish nan, 2.6ms\n",
            "4: 416x416 cock nan, stingray nan, hammerhead nan, electric_ray nan, goldfish nan, 2.6ms\n",
            "5: 416x416 cock nan, stingray nan, hammerhead nan, electric_ray nan, goldfish nan, 2.6ms\n",
            "6: 416x416 cock nan, stingray nan, hammerhead nan, electric_ray nan, goldfish nan, 2.6ms\n",
            "7: 416x416 cock nan, stingray nan, hammerhead nan, electric_ray nan, goldfish nan, 2.6ms\n",
            "8: 416x416 cock nan, stingray nan, hammerhead nan, electric_ray nan, goldfish nan, 2.6ms\n",
            "9: 416x416 cock nan, stingray nan, hammerhead nan, electric_ray nan, goldfish nan, 2.6ms\n",
            "10: 416x416 cock nan, stingray nan, hammerhead nan, electric_ray nan, goldfish nan, 2.6ms\n",
            "11: 416x416 cock nan, stingray nan, hammerhead nan, electric_ray nan, goldfish nan, 2.6ms\n",
            "12: 416x416 cock nan, stingray nan, hammerhead nan, electric_ray nan, goldfish nan, 2.6ms\n",
            "13: 416x416 cock nan, stingray nan, hammerhead nan, electric_ray nan, goldfish nan, 2.6ms\n",
            "14: 416x416 cock nan, stingray nan, hammerhead nan, electric_ray nan, goldfish nan, 2.6ms\n",
            "15: 416x416 cock nan, stingray nan, hammerhead nan, electric_ray nan, goldfish nan, 2.6ms\n",
            "16: 416x416 cock nan, stingray nan, hammerhead nan, electric_ray nan, goldfish nan, 2.6ms\n",
            "17: 416x416 cock nan, stingray nan, hammerhead nan, electric_ray nan, goldfish nan, 2.6ms\n",
            "18: 416x416 cock nan, stingray nan, hammerhead nan, electric_ray nan, goldfish nan, 2.6ms\n",
            "19: 416x416 cock nan, stingray nan, hammerhead nan, electric_ray nan, goldfish nan, 2.6ms\n",
            "20: 416x416 cock nan, stingray nan, hammerhead nan, electric_ray nan, goldfish nan, 2.6ms\n",
            "21: 416x416 cock nan, stingray nan, hammerhead nan, electric_ray nan, goldfish nan, 2.6ms\n",
            "22: 416x416 cock nan, stingray nan, hammerhead nan, electric_ray nan, goldfish nan, 2.6ms\n",
            "23: 416x416 cock nan, stingray nan, hammerhead nan, electric_ray nan, goldfish nan, 2.6ms\n",
            "24: 416x416 cock nan, stingray nan, hammerhead nan, electric_ray nan, goldfish nan, 2.6ms\n",
            "25: 416x416 cock nan, stingray nan, hammerhead nan, electric_ray nan, goldfish nan, 2.6ms\n",
            "26: 416x416 cock nan, stingray nan, hammerhead nan, electric_ray nan, goldfish nan, 2.6ms\n",
            "27: 416x416 cock nan, stingray nan, hammerhead nan, electric_ray nan, goldfish nan, 2.6ms\n",
            "28: 416x416 cock nan, stingray nan, hammerhead nan, electric_ray nan, goldfish nan, 2.6ms\n",
            "29: 416x416 cock nan, stingray nan, hammerhead nan, electric_ray nan, goldfish nan, 2.6ms\n",
            "30: 416x416 cock nan, stingray nan, hammerhead nan, electric_ray nan, goldfish nan, 2.6ms\n",
            "31: 416x416 cock nan, stingray nan, hammerhead nan, electric_ray nan, goldfish nan, 2.6ms\n",
            "Speed: 0.3ms preprocess, 2.6ms inference, 5.6ms postprocess per image at shape (1, 3, 416, 416)\n"
          ]
        },
        {
          "ename": "TypeError",
          "evalue": "max() received an invalid combination of arguments - got (list, int), but expected one of:\n * (Tensor input, *, Tensor out)\n * (Tensor input, Tensor other, *, Tensor out)\n * (Tensor input, int dim, bool keepdim, *, tuple of Tensors out)\n * (Tensor input, name dim, bool keepdim, *, tuple of Tensors out)\n",
          "output_type": "error",
          "traceback": [
            "\u001b[1;31m---------------------------------------------------------------------------\u001b[0m",
            "\u001b[1;31mTypeError\u001b[0m                                 Traceback (most recent call last)",
            "Cell \u001b[1;32mIn[1], line 49\u001b[0m\n\u001b[0;32m     46\u001b[0m     \u001b[38;5;28;01mreturn\u001b[39;00m precision, recall, f1\n\u001b[0;32m     48\u001b[0m \u001b[38;5;66;03m# Run the custom validation loop\u001b[39;00m\n\u001b[1;32m---> 49\u001b[0m precision, recall, f1 \u001b[38;5;241m=\u001b[39m validate(model, val_loader)\n\u001b[0;32m     51\u001b[0m \u001b[38;5;28mprint\u001b[39m(\u001b[38;5;124mf\u001b[39m\u001b[38;5;124m'\u001b[39m\u001b[38;5;124mPrecision: \u001b[39m\u001b[38;5;132;01m{\u001b[39;00mprecision\u001b[38;5;132;01m:\u001b[39;00m\u001b[38;5;124m.4f\u001b[39m\u001b[38;5;132;01m}\u001b[39;00m\u001b[38;5;124m'\u001b[39m)\n\u001b[0;32m     52\u001b[0m \u001b[38;5;28mprint\u001b[39m(\u001b[38;5;124mf\u001b[39m\u001b[38;5;124m'\u001b[39m\u001b[38;5;124mRecall: \u001b[39m\u001b[38;5;132;01m{\u001b[39;00mrecall\u001b[38;5;132;01m:\u001b[39;00m\u001b[38;5;124m.4f\u001b[39m\u001b[38;5;132;01m}\u001b[39;00m\u001b[38;5;124m'\u001b[39m)\n",
            "Cell \u001b[1;32mIn[1], line 34\u001b[0m, in \u001b[0;36mvalidate\u001b[1;34m(model, val_loader)\u001b[0m\n\u001b[0;32m     32\u001b[0m \u001b[38;5;28;01mfor\u001b[39;00m images, labels \u001b[38;5;129;01min\u001b[39;00m val_loader:\n\u001b[0;32m     33\u001b[0m     outputs \u001b[38;5;241m=\u001b[39m model(images)\n\u001b[1;32m---> 34\u001b[0m     _, preds \u001b[38;5;241m=\u001b[39m torch\u001b[38;5;241m.\u001b[39mmax(outputs, \u001b[38;5;241m1\u001b[39m)\n\u001b[0;32m     35\u001b[0m     all_preds\u001b[38;5;241m.\u001b[39mextend(preds\u001b[38;5;241m.\u001b[39mcpu()\u001b[38;5;241m.\u001b[39mnumpy())\n\u001b[0;32m     36\u001b[0m     all_labels\u001b[38;5;241m.\u001b[39mextend(labels\u001b[38;5;241m.\u001b[39mcpu()\u001b[38;5;241m.\u001b[39mnumpy())\n",
            "\u001b[1;31mTypeError\u001b[0m: max() received an invalid combination of arguments - got (list, int), but expected one of:\n * (Tensor input, *, Tensor out)\n * (Tensor input, Tensor other, *, Tensor out)\n * (Tensor input, int dim, bool keepdim, *, tuple of Tensors out)\n * (Tensor input, name dim, bool keepdim, *, tuple of Tensors out)\n"
          ]
        }
      ],
      "source": [
        "from ultralytics import YOLO\n",
        "import torch\n",
        "from torch.utils.data import DataLoader\n",
        "from torchvision import datasets, transforms\n",
        "from sklearn.metrics import precision_score, recall_score, f1_score\n",
        "import os\n",
        "\n",
        "# Load the YOLO model\n",
        "model = YOLO('D:\\\\Work\\\\ProjectC-Model\\\\app\\\\Model\\\\run20\\\\best.pt')\n",
        "\n",
        "# Prepare the dataset\n",
        "# Define the transformations including resizing to the appropriate size\n",
        "transform = transforms.Compose([\n",
        "    transforms.Resize((416, 416)),  # Ensure size is compatible with the model\n",
        "    transforms.ToTensor(),\n",
        "])\n",
        "\n",
        "# Path to the validation dataset\n",
        "val_data_path = 'D:\\\\Work\\\\ProjectC-Model\\\\notebookData\\\\data\\\\val'\n",
        "\n",
        "# Create the dataset and dataloader\n",
        "val_dataset = datasets.ImageFolder(val_data_path, transform=transform)\n",
        "val_loader = DataLoader(val_dataset, batch_size=32, shuffle=False)\n",
        "\n",
        "# Function to perform the evaluation\n",
        "\n",
        "\n",
        "def validate(model, val_loader):\n",
        "    model.eval()  # Set the model to evaluation mode\n",
        "    all_preds = []\n",
        "    all_labels = []\n",
        "\n",
        "    with torch.no_grad():\n",
        "        for images, labels in val_loader:\n",
        "            outputs = model(images)\n",
        "            _, preds = torch.max(outputs, 1)\n",
        "            all_preds.extend(preds.cpu().numpy())\n",
        "            all_labels.extend(labels.cpu().numpy())\n",
        "\n",
        "    # Convert all_preds to a tensor\n",
        "    all_preds = torch.tensor(all_preds)\n",
        "\n",
        "    # Calculate Precision, Recall, and F1 Score\n",
        "    precision = precision_score(all_labels, all_preds, average='macro')\n",
        "    recall = recall_score(all_labels, all_preds, average='macro')\n",
        "    f1 = f1_score(all_labels, all_preds, average='macro')\n",
        "\n",
        "    return precision, recall, f1\n",
        "\n",
        "\n",
        "# Run the custom validation loop\n",
        "precision, recall, f1 = validate(model, val_loader)\n",
        "\n",
        "print(f'Precision: {precision:.4f}')\n",
        "print(f'Recall: {recall:.4f}')\n",
        "print(f'F1 Score: {f1:.4f}')"
      ]
    },
    {
      "cell_type": "code",
      "execution_count": null,
      "metadata": {},
      "outputs": [],
      "source": []
    },
    {
      "cell_type": "code",
      "execution_count": 41,
      "metadata": {},
      "outputs": [
        {
          "name": "stdout",
          "output_type": "stream",
          "text": [
            "Macro Precision: 0.9936\n",
            "Macro Recall: 0.9934\n",
            "Macro F1 Score: 0.9935\n"
          ]
        }
      ],
      "source": [
        "import numpy as np\n",
        "from sklearn.metrics import precision_score, recall_score, f1_score, confusion_matrix\n",
        "\n",
        "# Example confusion matrix (replace this with your actual data)\n",
        "conf_matrix = np.array([\n",
        "    [504, 0, 0, 0, 0, 0, 0, 0, 0, 0, 0, 0, 0, 0, 0, 0, 0, 0, 0, 0, 0],\n",
        "    [0, 496, 0, 0, 0, 0, 0, 0, 0, 0, 0, 0, 0, 0, 0, 0, 0, 0, 0, 0, 0],\n",
        "    [0, 1, 440, 0, 0, 0, 0, 0, 0, 0, 0, 0, 0, 0, 0, 0, 0, 0, 0, 0, 0],\n",
        "    [0, 0, 0, 502, 0, 0, 0, 0, 0, 0, 0, 0, 0, 0, 0, 0, 0, 0, 0, 0, 0],\n",
        "    [0, 0, 0, 0, 400, 1, 19, 0, 0, 0, 0, 0, 0, 0, 0, 0, 0, 0, 0, 0, 0],\n",
        "    [0, 0, 0, 0, 0, 476, 0, 0, 0, 0, 0, 0, 0, 0, 0, 0, 0, 0, 0, 0, 0],\n",
        "    [0, 0, 0, 0, 10, 0, 458, 0, 0, 0, 0, 0, 0, 0, 0, 0, 0, 0, 0, 0, 0],\n",
        "    [0, 0, 0, 0, 0, 0, 0, 465, 0, 0, 0, 0, 0, 0, 0, 0, 0, 0, 0, 0, 0],\n",
        "    [0, 0, 0, 0, 0, 0, 0, 0, 485, 0, 0, 0, 0, 1, 0, 0, 0, 0, 0, 0, 0],\n",
        "    [0, 0, 0, 0, 0, 0, 0, 0, 0, 485, 0, 0, 0, 0, 0, 0, 0, 0, 0, 0, 0],\n",
        "    [0, 0, 0, 0, 0, 0, 0, 0, 0, 0, 456, 1, 0, 0, 0, 0, 0, 0, 0, 0, 0],\n",
        "    [0, 0, 0, 0, 0, 0, 0, 0, 0, 0, 0, 423, 1, 0, 0, 0, 0, 2, 4, 0, 0],\n",
        "    [0, 0, 0, 0, 0, 0, 0, 0, 0, 0, 0, 1, 473, 3, 0, 2, 0, 0, 0, 0, 0],\n",
        "    [0, 0, 0, 0, 0, 0, 0, 0, 0, 0, 0, 0, 2, 458, 0, 0, 0, 0, 0, 0, 0],\n",
        "    [0, 0, 0, 0, 0, 0, 0, 0, 0, 0, 0, 0, 0, 0, 470, 0, 0, 0, 0, 0, 0],\n",
        "    [0, 0, 0, 0, 0, 0, 0, 0, 0, 0, 0, 0, 0, 1, 0, 433, 0, 3, 0, 0, 0],\n",
        "    [0, 0, 0, 0, 0, 0, 0, 0, 0, 0, 0, 0, 0, 0, 0, 1, 435, 6, 0, 0, 0],\n",
        "    [0, 0, 0, 0, 0, 0, 0, 0, 0, 0, 0, 0, 0, 0, 0, 0, 0, 445, 0, 0, 0],\n",
        "    [0, 0, 0, 0, 0, 0, 0, 0, 0, 0, 0, 0, 0, 0, 0, 0, 0, 0, 486, 0, 0],\n",
        "    [0, 0, 0, 0, 0, 0, 0, 0, 0, 0, 0, 0, 0, 0, 0, 0, 0, 0, 0, 448, 0],\n",
        "    [0, 0, 0, 0, 0, 0, 0, 0, 0, 0, 0, 0, 0, 1, 0, 0, 0, 1, 0, 0, 481],\n",
        "])\n",
        "\n",
        "# Calculate metrics for each class\n",
        "TP = np.diag(conf_matrix)\n",
        "FP = conf_matrix.sum(axis=0) - TP\n",
        "FN = conf_matrix.sum(axis=1) - TP\n",
        "\n",
        "# Calculate precision, recall, and F1 score for each class\n",
        "precision = TP / (TP + FP)\n",
        "recall = TP / (TP + FN)\n",
        "f1 = 2 * precision * recall / (precision + recall)\n",
        "\n",
        "# Calculate macro precision, recall, and F1 score\n",
        "macro_precision = np.mean(precision)\n",
        "macro_recall = np.mean(recall)\n",
        "macro_f1 = np.mean(f1)\n",
        "\n",
        "print(f'Macro Precision: {macro_precision:.4f}')\n",
        "print(f'Macro Recall: {macro_recall:.4f}')\n",
        "print(f'Macro F1 Score: {macro_f1:.4f}')"
      ]
    },
    {
      "cell_type": "code",
      "execution_count": 3,
      "metadata": {},
      "outputs": [
        {
          "name": "stdout",
          "output_type": "stream",
          "text": [
            "WARNING  imgsz=[400] must be multiple of max stride 32, updating to [416]\n",
            "Ultralytics YOLOv8.1.47  Python-3.11.7 torch-2.3.0 CUDA:0 (NVIDIA GeForce GTX 1650, 4096MiB)\n"
          ]
        },
        {
          "name": "stdout",
          "output_type": "stream",
          "text": [
            "YOLOv8n-cls summary (fused): 73 layers, 1483558 parameters, 0 gradients, 3.3 GFLOPs\n",
            "\u001b[34m\u001b[1mtrain:\u001b[0m D:\\Work\\ProjectC-Model\\notebook\\Data\\new\\new\\train... found 60930 images in 33 classes  \n",
            "\u001b[34m\u001b[1mval:\u001b[0m D:\\Work\\ProjectC-Model\\notebook\\Data\\new\\new\\val... found 15231 images in 33 classes  \n",
            "\u001b[34m\u001b[1mtest:\u001b[0m D:\\Work\\ProjectC-Model\\notebook\\Data\\new\\new\\test... found 33 images in 8 classes: ERROR  requires 33 classes, not 8\n"
          ]
        },
        {
          "name": "stderr",
          "output_type": "stream",
          "text": [
            "\u001b[34m\u001b[1mval: \u001b[0mScanning D:\\Work\\ProjectC-Model\\notebook\\Data\\new\\new\\val... 15231 images, 0 corrupt: 100%|██████████| 15231/15231 [00:15<00:00, 982.29it/s] \n"
          ]
        },
        {
          "name": "stdout",
          "output_type": "stream",
          "text": [
            "\u001b[34m\u001b[1mval: \u001b[0mNew cache created: D:\\Work\\ProjectC-Model\\notebook\\Data\\new\\new\\val.cache\n"
          ]
        },
        {
          "name": "stderr",
          "output_type": "stream",
          "text": [
            "               classes   top1_acc   top5_acc: 100%|██████████| 952/952 [00:57<00:00, 16.48it/s]\n"
          ]
        },
        {
          "name": "stdout",
          "output_type": "stream",
          "text": [
            "                   all      0.127      0.354\n",
            "Speed: 0.4ms preprocess, 1.3ms inference, 0.0ms loss, 0.0ms postprocess per image\n",
            "Results saved to \u001b[1mruns\\classify\\val9\u001b[0m\n"
          ]
        },
        {
          "data": {
            "text/plain": [
              "ultralytics.utils.metrics.ClassifyMetrics object with attributes:\n",
              "\n",
              "confusion_matrix: <ultralytics.utils.metrics.ConfusionMatrix object at 0x000002AE48DF9950>\n",
              "curves: []\n",
              "curves_results: []\n",
              "fitness: 0.24059484153985977\n",
              "keys: ['metrics/accuracy_top1', 'metrics/accuracy_top5']\n",
              "results_dict: {'metrics/accuracy_top1': 0.12743745744228363, 'metrics/accuracy_top5': 0.3537522256374359, 'fitness': 0.24059484153985977}\n",
              "save_dir: WindowsPath('runs/classify/val9')\n",
              "speed: {'preprocess': 0.39963482417262597, 'inference': 1.2744168538335319, 'loss': 0.0018182958262660625, 'postprocess': 0.0009547700619605214}\n",
              "task: 'classify'\n",
              "top1: 0.12743745744228363\n",
              "top5: 0.3537522256374359"
            ]
          },
          "execution_count": 3,
          "metadata": {},
          "output_type": "execute_result"
        }
      ],
      "source": [
        "from ultralytics import YOLO\n",
        "\n",
        "model = YOLO(\"D:\\\\Work\\\\ProjectC-Model\\\\notebook\\\\runs\\\\classify\\\\train17\\\\weights\\\\best.pt\")\n",
        "\n",
        "\n",
        "model.val(data=\"D:\\\\Work\\\\ProjectC-Model\\\\notebook\\\\Data\\\\new\\\\new\", imgsz=400)\n"
      ]
    },
    {
      "cell_type": "code",
      "execution_count": 19,
      "metadata": {},
      "outputs": [
        {
          "name": "stdout",
          "output_type": "stream",
          "text": [
            "22\n"
          ]
        }
      ],
      "source": [
        "import numpy as np\n",
        "\n",
        "# Manually extracted confusion matrix from the provided image\n",
        "conf_matrix = np.array([\n",
        "    [504,  0,   0,   0,   0,   0,   0,   0,   0,   0,   0,   0,   0,   0,   0,   0,\n",
        "        0,   0,   0,   0,   0,   0,   0,   0,   0,   0,   0,   0,   0,   0,   0,   0, 0],\n",
        "    [0, 496,   0,   0,   0,   0,   0,   0,   0,   0,   0,   0,   0,   0,   0,   0,\n",
        "        0,   0,   0,   0,   0,   0,   0,   0,   0,   0,   0,   0,   0,   0,   0,   0, 0],\n",
        "    [1,   0, 440,   0,   0,   0,   0,   0,   0,   0,   0,   0,   0,   0,   0,   0,\n",
        "        0,   0,   0,   0,   0,   0,   0,   0,   0,   0,   0,   0,   0,   0,   0,   0, 0],\n",
        "    [0,   0,   0, 502,   0,   0,   0,   0,   0,   0,   0,   0,   0,   0,   0,   0,\n",
        "        0,   0,   0,   0,   0,   0,   0,   0,   0,   0,   0,   0,   0,   0,   0,   0],\n",
        "    [0,   0,   1,   0, 400,   1,   0,   0,   0,   0,   0,   0,   0,   0,   0,   0,\n",
        "        0,   0,   0,   0,   0,   0,   0,   0,   0,   0,   0,   0,   0,   0,   0,  19],\n",
        "    [0,   0,   0,   0,   0, 476,   0,   0,   0,   0,   0,   0,   0,   0,   0,   0,\n",
        "        0,   0,   0,   0,   0,   0,   0,   0,   0,   0,   0,   0,   0,   0,   0,   0],\n",
        "    [0,  10,   0,   0,   0,   0, 458,   0,   0,   0,   0,   0,   0,   0,   0,   0,\n",
        "        0,   0,   0,   0,   0,   0,   0,   0,   0,   0,   0,   0,   0,   0,   0,   0],\n",
        "    [0,   0,   0,   0,   0,   0,   0, 465,   0,   0,   0,   0,   0,   0,   0,   0,\n",
        "        0,   0,   0,   0,   0,   0,   0,   0,   0,   0,   0,   0,   0,   0,   0,   0],\n",
        "    [0,   0,   0,   0,   0,   0,   0,   0, 485,   0,   0,   0,   0,   0,   0,   0,\n",
        "        0,   0,   0,   0,   0,   0,   0,   0,   0,   0,   0,   0,   0,   0,   0,   0],\n",
        "    [0,   0,   0,   0,   0,   0,   0,   0,   0, 485,   0,   0,   0,   0,   0,   0,\n",
        "        0,   0,   0,   0,   0,   0,   0,   0,   0,   0,   0,   0,   0,   0,   0,   0],\n",
        "    [0,   0,   0,   0,   0,   0,   0,   0,   0,   0, 456,   1,   0,   0,   0,   0,\n",
        "        0,   0,   0,   0,   0,   0,   0,   0,   0,   0,   0,   0,   0,   0,   0,   0],\n",
        "    [0,   0,   0,   0,   0,   0,   0,   0,   0,   0,   0, 423,   1,   0,   0,   0,\n",
        "        0,   0,   0,   0,   0,   0,   0,   0,   0,   0,   0,   0,   0,   0,   0,   0],\n",
        "    [0,   0,   0,   0,   0,   0,   0,   0,   0,   0,   0,   1, 476,   0,   0,   0,\n",
        "        0,   0,   0,   0,   0,   0,   0,   0,   0,   0,   0,   0,   0,   0,   0,   0],\n",
        "    [0,   0,   0,   0,   0,   0,   0,   0,   0,   0,   0,   2,   3, 458,   0,   0,\n",
        "        0,   0,   0,   0,   0,   0,   0,   0,   0,   0,   0,   0,   0,   0,   0,   0],\n",
        "    [0,   0,   0,   0,   0,   0,   0,   0,   0,   0,   0,   0,   0,   0, 470,   0,\n",
        "        0,   0,   0,   0,   0,   0,   0,   0,   0,   0,   0,   0,   0,   0,   0,   0],\n",
        "    [0,   0,   0,   0,   0,   0,   0,   0,   0,   0,   0,   0,   0,   0,   0, 433,\n",
        "        1,   0,   0,   0,   0,   0,   0,   0,   0,   0,   0,   0,   0,   0,   3,   0],\n",
        "    [0,   0,   0,   0,   0,   0,   0,   0,   0,   0,   0,   0,   0,   0,   0,   1,\n",
        "        435,   6,   0,   0,   0,   0,   0,   0,   0,   0,   0,   0,   0,   0,   0,   0],\n",
        "    [0,   0,   0,   0,   0,   0,   0,   0,   0,   0,   0,   0,   0,   0,   0,   0,\n",
        "        0, 445,   0,   0,   0,   0,   0,   0,   0,   0,   0,   0,   0,   0,   0,   0],\n",
        "    [0,   0,   0,   0,   0,   0,   0,   0,   0,   0,   0,   0,   0,   0,   0,   0,\n",
        "        0,   0, 486,   0,   0,   0,   0,   0,   0,   0,   0,   0,   0,   0,   0,   0],\n",
        "    [0,   0,   0,   0,   0,   0,   0,   0,   0,   0,   0,   0,   0,   0,   0,   0,\n",
        "        0,   0,   0, 448,   0,   0,   0,   0,   0,   0,   0,   0,   0,   0,   0,   0],\n",
        "    [0,   0,   0,   0,   0,   0,   0,   0,   0,   0,   0,   0,   0,   0,   0,   0,\n",
        "        0,   0,   0,   1, 481,   0,   0,   0,   0,   0,   0,   0,   0,   0,   0,   0],\n",
        "    [0,   0,   0,   0,   0,   0,   0,   0,   0,   0,   0,   0,   0,   0,   0,   0,\n",
        "        0,   0,   0,   0,   0,   0,   0,   0,   0,   0,   0,   0,   0,   0,   0,   0]\n",
        "])\n",
        "\n",
        "print(len(conf_matrix))\n",
        "\n",
        "# # Calculate metrics for each class\n",
        "# TP = np.diag(conf_matrix)\n",
        "# FP = conf_matrix.sum(axis=0) - TP\n",
        "# FN = conf_matrix.sum(axis=1) - TP\n",
        "\n",
        "# # Calculate precision, recall, and F1 score for each class\n",
        "# precision = TP / (TP + FP)\n",
        "# recall = TP / (TP + FN)\n",
        "# f1 = 2 * precision * recall / (precision + recall)\n",
        "\n",
        "# # Calculate macro precision, recall, and F1 score\n",
        "# macro_precision = np.mean(precision)\n",
        "# macro_recall = np.mean(recall)\n",
        "# macro_f1 = np.mean(f1)\n",
        "\n",
        "# print(f'Macro Precision: {macro_precision:.4f}')\n",
        "# print(f'Macro Recall: {macro_recall:.4f}')\n",
        "# print(f'Macro F1 Score: {macro_f1:.4f}')"
      ]
    },
    {
      "cell_type": "code",
      "execution_count": 129,
      "metadata": {},
      "outputs": [
        {
          "name": "stdout",
          "output_type": "stream",
          "text": [
            "['Apple___Apple_scab', 'Apple___Black_rot', 'Apple___Cedar_apple_rust', 'Apple___healthy', 'Cherry_(including_sour)___Powdery_mildew', 'Cherry_(including_sour)___healthy', 'Corn_(maize)___Cercospora_leaf_spot Gray_leaf_spot', 'Corn_(maize)___Common_rust_', 'Corn_(maize)___Northern_Leaf_Blight', 'Corn_(maize)___healthy', 'Grape___Black_rot', 'Grape___Esca_(Black_Measles)', 'Grape___Leaf_blight_(Isariopsis_Leaf_Spot)', 'Grape___healthy', 'Peach___Bacterial_spot', 'Peach___healthy', 'Pepper,_bell___Bacterial_spot', 'Pepper,_bell___healthy', 'Potato___Early_blight', 'Potato___Late_blight', 'Potato___healthy', 'Strawberry___Leaf_scorch', 'Strawberry___healthy', 'Tomato___Bacterial_spot', 'Tomato___Early_blight', 'Tomato___Late_blight', 'Tomato___Leaf_Mold', 'Tomato___Septoria_leaf_spot', 'Tomato___Spider_mites Two-spotted_spider_mite', 'Tomato___Target_Spot', 'Tomato___Tomato_Yellow_Leaf_Curl_Virus', 'Tomato___Tomato_mosaic_virus', 'Tomato___healthy']\n"
          ]
        }
      ],
      "source": [
        "from ultralytics import YOLO\n",
        "\n",
        "model = YOLO('D:\\Work\\\\ProjectC-Model\\\\app\\Model\\\\run20\\\\best.pt')\n",
        "\n",
        "class_name = list(model.names.items())\n",
        "\n",
        "newList = [i[1] for i in class_name]\n",
        "\n",
        "print(newList)"
      ]
    },
    {
      "cell_type": "code",
      "execution_count": 134,
      "metadata": {},
      "outputs": [
        {
          "data": {
            "text/plain": [
              "array([[2, 0, 0],\n",
              "       [0, 0, 0],\n",
              "       [1, 0, 2]], dtype=int64)"
            ]
          },
          "execution_count": 134,
          "metadata": {},
          "output_type": "execute_result"
        }
      ],
      "source": [
        "y_true = [\"cat\", \"ant\", \"cat\", \"cat\", \"ant\", \"bird\"]\n",
        "y_pred = [\"ant\", \"ant\", \"cat\", \"cat\", \"ant\", \"cat\"]\n",
        "confusion_matrix(y_true, y_pred, labels=[\"ant\", \"cat\", \"cat\"])"
      ]
    },
    {
      "cell_type": "code",
      "execution_count": 4,
      "metadata": {},
      "outputs": [
        {
          "name": "stdout",
          "output_type": "stream",
          "text": [
            "\n",
            "image 1/1 D:\\Work\\ProjectC-Model\\notebookData\\test\\AppleCedarRust1.JPG: 416x416 Apple___Cedar_apple_rust 1.00, Apple___Black_rot 0.00, Tomato___Target_Spot 0.00, Apple___Apple_scab 0.00, Apple___healthy 0.00, 12.0ms\n",
            "Speed: 6.5ms preprocess, 12.0ms inference, 0.0ms postprocess per image at shape (1, 3, 416, 416)\n",
            "\n",
            "image 1/1 D:\\Work\\ProjectC-Model\\notebookData\\test\\AppleCedarRust2.JPG: 416x416 Apple___Cedar_apple_rust 1.00, Cherry_(including_sour)___Powdery_mildew 0.00, Grape___Esca_(Black_Measles) 0.00, Apple___Black_rot 0.00, Peach___Bacterial_spot 0.00, 21.0ms\n",
            "Speed: 6.5ms preprocess, 21.0ms inference, 1.0ms postprocess per image at shape (1, 3, 416, 416)\n",
            "\n",
            "image 1/1 D:\\Work\\ProjectC-Model\\notebookData\\test\\AppleCedarRust3.JPG: 416x416 Apple___Cedar_apple_rust 1.00, Cherry_(including_sour)___Powdery_mildew 0.00, Peach___Bacterial_spot 0.00, Apple___Black_rot 0.00, Tomato___Late_blight 0.00, 11.5ms\n",
            "Speed: 6.5ms preprocess, 11.5ms inference, 0.0ms postprocess per image at shape (1, 3, 416, 416)\n",
            "\n",
            "image 1/1 D:\\Work\\ProjectC-Model\\notebookData\\test\\AppleCedarRust4.JPG: 416x416 Apple___Cedar_apple_rust 1.00, Cherry_(including_sour)___Powdery_mildew 0.00, Grape___Esca_(Black_Measles) 0.00, Peach___Bacterial_spot 0.00, Tomato___Bacterial_spot 0.00, 13.5ms\n",
            "Speed: 5.5ms preprocess, 13.5ms inference, 0.0ms postprocess per image at shape (1, 3, 416, 416)\n",
            "\n",
            "image 1/1 D:\\Work\\ProjectC-Model\\notebookData\\test\\AppleScab1.JPG: 416x416 Apple___Apple_scab 1.00, Apple___Cedar_apple_rust 0.00, Cherry_(including_sour)___Powdery_mildew 0.00, Peach___Bacterial_spot 0.00, Tomato___Bacterial_spot 0.00, 6.0ms\n",
            "Speed: 5.1ms preprocess, 6.0ms inference, 0.0ms postprocess per image at shape (1, 3, 416, 416)\n",
            "\n",
            "image 1/1 D:\\Work\\ProjectC-Model\\notebookData\\test\\AppleScab2.JPG: 416x416 Apple___Apple_scab 1.00, Apple___Cedar_apple_rust 0.00, Cherry_(including_sour)___Powdery_mildew 0.00, Tomato___Leaf_Mold 0.00, Apple___healthy 0.00, 7.5ms\n",
            "Speed: 5.0ms preprocess, 7.5ms inference, 0.0ms postprocess per image at shape (1, 3, 416, 416)\n",
            "\n",
            "image 1/1 D:\\Work\\ProjectC-Model\\notebookData\\test\\AppleScab3.JPG: 416x416 Apple___Apple_scab 1.00, Corn_(maize)___Cercospora_leaf_spot Gray_leaf_spot 0.00, Potato___Late_blight 0.00, Grape___Leaf_blight_(Isariopsis_Leaf_Spot) 0.00, Strawberry___healthy 0.00, 7.0ms\n",
            "Speed: 5.0ms preprocess, 7.0ms inference, 0.0ms postprocess per image at shape (1, 3, 416, 416)\n",
            "\n",
            "image 1/1 D:\\Work\\ProjectC-Model\\notebookData\\test\\CornCommonRust1.JPG: 416x416 Corn_(maize)___Common_rust_ 1.00, Tomato___Late_blight 0.00, Tomato___Early_blight 0.00, Pepper,_bell___healthy 0.00, Apple___Apple_scab 0.00, 7.0ms\n",
            "Speed: 4.5ms preprocess, 7.0ms inference, 0.0ms postprocess per image at shape (1, 3, 416, 416)\n",
            "\n",
            "image 1/1 D:\\Work\\ProjectC-Model\\notebookData\\test\\CornCommonRust2.JPG: 416x416 Corn_(maize)___Common_rust_ 1.00, Pepper,_bell___healthy 0.00, Peach___healthy 0.00, Tomato___Late_blight 0.00, Pepper,_bell___Bacterial_spot 0.00, 5.0ms\n",
            "Speed: 4.0ms preprocess, 5.0ms inference, 0.0ms postprocess per image at shape (1, 3, 416, 416)\n",
            "\n",
            "image 1/1 D:\\Work\\ProjectC-Model\\notebookData\\test\\CornCommonRust3.JPG: 416x416 Corn_(maize)___Common_rust_ 1.00, Tomato___Late_blight 0.00, Apple___Cedar_apple_rust 0.00, Tomato___Early_blight 0.00, Peach___healthy 0.00, 7.5ms\n",
            "Speed: 5.5ms preprocess, 7.5ms inference, 0.0ms postprocess per image at shape (1, 3, 416, 416)\n",
            "\n",
            "image 1/1 D:\\Work\\ProjectC-Model\\notebookData\\test\\PotatoEarlyBlight1.JPG: 416x416 Potato___Early_blight 1.00, Potato___Late_blight 0.00, Strawberry___Leaf_scorch 0.00, Tomato___Late_blight 0.00, Grape___Leaf_blight_(Isariopsis_Leaf_Spot) 0.00, 6.5ms\n",
            "Speed: 5.0ms preprocess, 6.5ms inference, 0.0ms postprocess per image at shape (1, 3, 416, 416)\n",
            "\n",
            "image 1/1 D:\\Work\\ProjectC-Model\\notebookData\\test\\PotatoEarlyBlight2.JPG: 416x416 Potato___Early_blight 1.00, Potato___Late_blight 0.00, Apple___Apple_scab 0.00, Tomato___healthy 0.00, Tomato___Late_blight 0.00, 7.5ms\n",
            "Speed: 5.0ms preprocess, 7.5ms inference, 0.0ms postprocess per image at shape (1, 3, 416, 416)\n",
            "\n",
            "image 1/1 D:\\Work\\ProjectC-Model\\notebookData\\test\\PotatoEarlyBlight3.JPG: 416x416 Potato___Early_blight 1.00, Potato___Late_blight 0.00, Tomato___Early_blight 0.00, Peach___Bacterial_spot 0.00, Grape___Black_rot 0.00, 6.0ms\n",
            "Speed: 3.5ms preprocess, 6.0ms inference, 0.0ms postprocess per image at shape (1, 3, 416, 416)\n",
            "\n",
            "image 1/1 D:\\Work\\ProjectC-Model\\notebookData\\test\\PotatoEarlyBlight4.JPG: 416x416 Potato___Early_blight 1.00, Tomato___Septoria_leaf_spot 0.00, Pepper,_bell___Bacterial_spot 0.00, Grape___Leaf_blight_(Isariopsis_Leaf_Spot) 0.00, Tomato___Late_blight 0.00, 6.0ms\n",
            "Speed: 4.5ms preprocess, 6.0ms inference, 0.0ms postprocess per image at shape (1, 3, 416, 416)\n",
            "\n",
            "image 1/1 D:\\Work\\ProjectC-Model\\notebookData\\test\\PotatoEarlyBlight5.JPG: 416x416 Potato___Early_blight 1.00, Potato___Late_blight 0.00, Peach___Bacterial_spot 0.00, Apple___Apple_scab 0.00, Tomato___Early_blight 0.00, 6.1ms\n",
            "Speed: 4.0ms preprocess, 6.1ms inference, 0.0ms postprocess per image at shape (1, 3, 416, 416)\n",
            "\n",
            "image 1/1 D:\\Work\\ProjectC-Model\\notebookData\\test\\TomatoHealthy1.JPG: 416x416 Tomato___healthy 1.00, Tomato___Early_blight 0.00, Tomato___Target_Spot 0.00, Tomato___Spider_mites Two-spotted_spider_mite 0.00, Apple___healthy 0.00, 7.5ms\n",
            "Speed: 4.0ms preprocess, 7.5ms inference, 0.0ms postprocess per image at shape (1, 3, 416, 416)\n",
            "\n",
            "image 1/1 D:\\Work\\ProjectC-Model\\notebookData\\test\\TomatoHealthy2.JPG: 416x416 Tomato___healthy 1.00, Tomato___Late_blight 0.00, Strawberry___healthy 0.00, Tomato___Bacterial_spot 0.00, Grape___healthy 0.00, 7.1ms\n",
            "Speed: 6.0ms preprocess, 7.1ms inference, 0.0ms postprocess per image at shape (1, 3, 416, 416)\n",
            "\n",
            "image 1/1 D:\\Work\\ProjectC-Model\\notebookData\\test\\TomatoHealthy3.JPG: 416x416 Tomato___healthy 1.00, Tomato___Target_Spot 0.00, Tomato___Tomato_mosaic_virus 0.00, Strawberry___healthy 0.00, Apple___Apple_scab 0.00, 6.5ms\n",
            "Speed: 8.0ms preprocess, 6.5ms inference, 1.0ms postprocess per image at shape (1, 3, 416, 416)\n",
            "\n",
            "image 1/1 D:\\Work\\ProjectC-Model\\notebookData\\test\\TomatoHealthy4.JPG: 416x416 Tomato___healthy 1.00, Tomato___Target_Spot 0.00, Tomato___Spider_mites Two-spotted_spider_mite 0.00, Tomato___Tomato_mosaic_virus 0.00, Tomato___Early_blight 0.00, 6.0ms\n",
            "Speed: 5.5ms preprocess, 6.0ms inference, 1.5ms postprocess per image at shape (1, 3, 416, 416)\n",
            "\n",
            "image 1/1 D:\\Work\\ProjectC-Model\\notebookData\\test\\TomatoYellowCurlVirus1.JPG: 416x416 Tomato___Tomato_Yellow_Leaf_Curl_Virus 1.00, Tomato___Spider_mites Two-spotted_spider_mite 0.00, Tomato___Leaf_Mold 0.00, Tomato___Tomato_mosaic_virus 0.00, Tomato___Septoria_leaf_spot 0.00, 6.5ms\n",
            "Speed: 5.0ms preprocess, 6.5ms inference, 1.0ms postprocess per image at shape (1, 3, 416, 416)\n",
            "\n",
            "image 1/1 D:\\Work\\ProjectC-Model\\notebookData\\test\\TomatoYellowCurlVirus2.JPG: 416x416 Tomato___Tomato_Yellow_Leaf_Curl_Virus 1.00, Tomato___Tomato_mosaic_virus 0.00, Tomato___Spider_mites Two-spotted_spider_mite 0.00, Tomato___Leaf_Mold 0.00, Tomato___Bacterial_spot 0.00, 6.0ms\n",
            "Speed: 6.5ms preprocess, 6.0ms inference, 0.0ms postprocess per image at shape (1, 3, 416, 416)\n",
            "\n",
            "image 1/1 D:\\Work\\ProjectC-Model\\notebookData\\test\\TomatoYellowCurlVirus3.JPG: 416x416 Tomato___Tomato_Yellow_Leaf_Curl_Virus 1.00, Tomato___Tomato_mosaic_virus 0.00, Tomato___Leaf_Mold 0.00, Tomato___Bacterial_spot 0.00, Tomato___Early_blight 0.00, 7.5ms\n",
            "Speed: 5.0ms preprocess, 7.5ms inference, 0.0ms postprocess per image at shape (1, 3, 416, 416)\n",
            "\n",
            "image 1/1 D:\\Work\\ProjectC-Model\\notebookData\\test\\TomatoYellowCurlVirus4.JPG: 416x416 Tomato___Tomato_Yellow_Leaf_Curl_Virus 1.00, Tomato___Bacterial_spot 0.00, Tomato___Tomato_mosaic_virus 0.00, Tomato___Spider_mites Two-spotted_spider_mite 0.00, Cherry_(including_sour)___Powdery_mildew 0.00, 7.5ms\n",
            "Speed: 7.0ms preprocess, 7.5ms inference, 0.0ms postprocess per image at shape (1, 3, 416, 416)\n",
            "\n",
            "image 1/1 D:\\Work\\ProjectC-Model\\notebookData\\test\\TomatoYellowCurlVirus5.JPG: 416x416 Tomato___Tomato_Yellow_Leaf_Curl_Virus 1.00, Tomato___Bacterial_spot 0.00, Tomato___Early_blight 0.00, Tomato___Late_blight 0.00, Tomato___Septoria_leaf_spot 0.00, 7.5ms\n",
            "Speed: 6.5ms preprocess, 7.5ms inference, 0.0ms postprocess per image at shape (1, 3, 416, 416)\n",
            "\n",
            "image 1/1 D:\\Work\\ProjectC-Model\\notebookData\\test\\TomatoYellowCurlVirus6.JPG: 416x416 Tomato___Tomato_Yellow_Leaf_Curl_Virus 1.00, Tomato___Bacterial_spot 0.00, Strawberry___healthy 0.00, Tomato___Early_blight 0.00, Cherry_(including_sour)___Powdery_mildew 0.00, 6.0ms\n",
            "Speed: 6.2ms preprocess, 6.0ms inference, 0.0ms postprocess per image at shape (1, 3, 416, 416)\n",
            "[0, 0, 0, 0, 1, 1, 1, 2, 2, 2, 3, 3, 3, 3, 3, 4, 4, 4, 4, 5, 5, 5, 5, 5, 5]\n"
          ]
        }
      ],
      "source": [
        "from ultralytics import YOLO\n",
        "import numpy as np\n",
        "\n",
        "model = YOLO('D:\\\\Work\\\\ProjectC-Model\\\\app\\\\Model\\\\run20\\\\best.pt')\n",
        "\n",
        "\n",
        "data = [\n",
        "    \"D:/Work/ProjectC-Model/notebookData/test/AppleCedarRust1.JPG\",\n",
        "    \"D:/Work/ProjectC-Model/notebookData/test/AppleCedarRust2.JPG\",\n",
        "    \"D:/Work/ProjectC-Model/notebookData/test/AppleCedarRust3.JPG\",\n",
        "    \"D:/Work/ProjectC-Model/notebookData/test/AppleCedarRust4.JPG\",\n",
        "    \"D:/Work/ProjectC-Model/notebookData/test/AppleScab1.JPG\",\n",
        "    \"D:/Work/ProjectC-Model/notebookData/test/AppleScab2.JPG\",\n",
        "    \"D:/Work/ProjectC-Model/notebookData/test/AppleScab3.JPG\",\n",
        "    \"D:/Work/ProjectC-Model/notebookData/test/CornCommonRust1.JPG\",\n",
        "    \"D:/Work/ProjectC-Model/notebookData/test/CornCommonRust2.JPG\",\n",
        "    \"D:/Work/ProjectC-Model/notebookData/test/CornCommonRust3.JPG\",\n",
        "    \"D:/Work/ProjectC-Model/notebookData/test/PotatoEarlyBlight1.JPG\",\n",
        "    \"D:/Work/ProjectC-Model/notebookData/test/PotatoEarlyBlight2.JPG\",\n",
        "    \"D:/Work/ProjectC-Model/notebookData/test/PotatoEarlyBlight3.JPG\",\n",
        "    \"D:/Work/ProjectC-Model/notebookData/test/PotatoEarlyBlight4.JPG\",\n",
        "    \"D:/Work/ProjectC-Model/notebookData/test/PotatoEarlyBlight5.JPG\",\n",
        "    \"D:/Work/ProjectC-Model/notebookData/test/TomatoHealthy1.JPG\",\n",
        "    \"D:/Work/ProjectC-Model/notebookData/test/TomatoHealthy2.JPG\",\n",
        "    \"D:/Work/ProjectC-Model/notebookData/test/TomatoHealthy3.JPG\",\n",
        "    \"D:/Work/ProjectC-Model/notebookData/test/TomatoHealthy4.JPG\",\n",
        "    \"D:/Work/ProjectC-Model/notebookData/test/TomatoYellowCurlVirus1.JPG\",\n",
        "    \"D:/Work/ProjectC-Model/notebookData/test/TomatoYellowCurlVirus2.JPG\",\n",
        "    \"D:/Work/ProjectC-Model/notebookData/test/TomatoYellowCurlVirus3.JPG\",\n",
        "    \"D:/Work/ProjectC-Model/notebookData/test/TomatoYellowCurlVirus4.JPG\",\n",
        "    \"D:/Work/ProjectC-Model/notebookData/test/TomatoYellowCurlVirus5.JPG\",\n",
        "    \"D:/Work/ProjectC-Model/notebookData/test/TomatoYellowCurlVirus6.JPG\",\n",
        "]\n",
        "\n",
        "preds = []\n",
        "\n",
        "\n",
        "DiseasesName = ['Apple___Cedar_apple_rust', 'Apple___Apple_scab',\n",
        "                'Corn_(maize)___Common_rust_', 'Potato___Early_blight', 'Tomato___healthy', 'Tomato___Tomato_Yellow_Leaf_Curl_Virus']\n",
        "\n",
        "for i in data:\n",
        "    results = model.predict(i, stream=False)\n",
        "    names_dict = results[0].names\n",
        "    probs = results[0].probs.data.tolist()\n",
        "    preds.append(names_dict[np.argmax(probs)])\n",
        "\n",
        "\n",
        "for i in range(len(preds)):\n",
        "    if preds[i] in DiseasesName:\n",
        "        preds[i] = DiseasesName.index(preds[i])\n",
        "\n",
        "\n",
        "print(preds)"
      ]
    },
    {
      "cell_type": "code",
      "execution_count": 3,
      "metadata": {},
      "outputs": [
        {
          "data": {
            "image/png": "[encoded data removed]",
            "text/plain": [
              "<Figure size 1000x700 with 2 Axes>"
            ]
          },
          "metadata": {},
          "output_type": "display_data"
        }
      ],
      "source": [
        "import numpy as np\n",
        "import pandas as pd\n",
        "from sklearn.metrics import confusion_matrix\n",
        "import matplotlib.pyplot as plt\n",
        "import seaborn as sn\n",
        "\n",
        "\n",
        "def conf_matrics():\n",
        "\n",
        "    ground_truth_labels = np.array(preds)\n",
        "    predicted_labels = np.array(preds)\n",
        "\n",
        "    conf_matrix = confusion_matrix(ground_truth_labels, predicted_labels)\n",
        "    class_names = ['Apple___Cedar_apple_rust', 'Apple___Apple_scab',\n",
        "                   'Corn_(maize)___Common_rust_', 'Potato___Early_blight', 'Tomato___healthy', 'Tomato___Tomato_Yellow_Leaf_Curl_Virus']\n",
        "    df_cm = pd.DataFrame(conf_matrix, index=class_names, columns=class_names)\n",
        "\n",
        "    plt.figure(figsize=(10, 7))\n",
        "    sn.heatmap(df_cm, annot=True, fmt='d')\n",
        "    plt.title('Confusion Matrix')\n",
        "    plt.xlabel('Predicted Labels')\n",
        "    plt.ylabel('True Labels')\n",
        "    plt.show()\n",
        "\n",
        "\n",
        "conf_matrics()"
      ]
    },
    {
      "cell_type": "code",
      "execution_count": 2,
      "metadata": {},
      "outputs": [
        {
          "name": "stdout",
          "output_type": "stream",
          "text": [
            "WARNING  'source' is missing. Using 'source=D:\\anaconda\\Lib\\site-packages\\ultralytics\\assets'.\n",
            "\n",
            "image 1/2 D:\\anaconda\\Lib\\site-packages\\ultralytics\\assets\\bus.jpg: 416x416 Tomato___Early_blight 0.56, Tomato___Late_blight 0.20, Corn_(maize)___healthy 0.17, Corn_(maize)___Cercospora_leaf_spot Gray_leaf_spot 0.03, Potato___Early_blight 0.02, 17.5ms\n",
            "image 2/2 D:\\anaconda\\Lib\\site-packages\\ultralytics\\assets\\zidane.jpg: 416x416 Tomato___Early_blight 0.63, Tomato___Late_blight 0.37, Apple___Cedar_apple_rust 0.00, Tomato___Bacterial_spot 0.00, Apple___Apple_scab 0.00, 10.7ms\n",
            "Speed: 14.5ms preprocess, 14.1ms inference, 0.0ms postprocess per image at shape (1, 3, 416, 416)\n",
            "[ultralytics.engine.results.Results object with attributes:\n",
            "\n",
            "boxes: None\n",
            "keypoints: None\n",
            "masks: None\n",
            "names: {0: 'Apple___Apple_scab', 1: 'Apple___Black_rot', 2: 'Apple___Cedar_apple_rust', 3: 'Apple___healthy', 4: 'Corn_(maize)___Cercospora_leaf_spot Gray_leaf_spot', 5: 'Corn_(maize)___Common_rust_', 6: 'Corn_(maize)___Northern_Leaf_Blight', 7: 'Corn_(maize)___healthy', 8: 'Potato___Early_blight', 9: 'Potato___Late_blight', 10: 'Potato___healthy', 11: 'Tomato___Bacterial_spot', 12: 'Tomato___Early_blight', 13: 'Tomato___Late_blight', 14: 'Tomato___Leaf_Mold', 15: 'Tomato___Septoria_leaf_spot', 16: 'Tomato___Spider_mites Two-spotted_spider_mite', 17: 'Tomato___Target_Spot', 18: 'Tomato___Tomato_Yellow_Leaf_Curl_Virus', 19: 'Tomato___Tomato_mosaic_virus', 20: 'Tomato___healthy'}\n",
            "obb: None\n",
            "orig_img: array([[[119, 146, 172],\n",
            "        [121, 148, 174],\n",
            "        [122, 152, 177],\n",
            "        ...,\n",
            "        [161, 171, 188],\n",
            "        [160, 170, 187],\n",
            "        [160, 170, 187]],\n",
            "\n",
            "       [[120, 147, 173],\n",
            "        [122, 149, 175],\n",
            "        [123, 153, 178],\n",
            "        ...,\n",
            "        [161, 171, 188],\n",
            "        [160, 170, 187],\n",
            "        [160, 170, 187]],\n",
            "\n",
            "       [[123, 150, 176],\n",
            "        [124, 151, 177],\n",
            "        [125, 155, 180],\n",
            "        ...,\n",
            "        [161, 171, 188],\n",
            "        [160, 170, 187],\n",
            "        [160, 170, 187]],\n",
            "\n",
            "       ...,\n",
            "\n",
            "       [[183, 182, 186],\n",
            "        [179, 178, 182],\n",
            "        [180, 179, 183],\n",
            "        ...,\n",
            "        [121, 111, 117],\n",
            "        [113, 103, 109],\n",
            "        [115, 105, 111]],\n",
            "\n",
            "       [[165, 164, 168],\n",
            "        [173, 172, 176],\n",
            "        [187, 186, 190],\n",
            "        ...,\n",
            "        [102,  92,  98],\n",
            "        [101,  91,  97],\n",
            "        [103,  93,  99]],\n",
            "\n",
            "       [[123, 122, 126],\n",
            "        [145, 144, 148],\n",
            "        [176, 175, 179],\n",
            "        ...,\n",
            "        [ 95,  85,  91],\n",
            "        [ 96,  86,  92],\n",
            "        [ 98,  88,  94]]], dtype=uint8)\n",
            "orig_shape: (1080, 810)\n",
            "path: 'D:\\\\anaconda\\\\Lib\\\\site-packages\\\\ultralytics\\\\assets\\\\bus.jpg'\n",
            "probs: ultralytics.engine.results.Probs object\n",
            "save_dir: 'runs\\\\classify\\\\predict'\n",
            "speed: {'preprocess': 13.54360580444336, 'inference': 17.52305030822754, 'postprocess': 0.0}, ultralytics.engine.results.Results object with attributes:\n",
            "\n",
            "boxes: None\n",
            "keypoints: None\n",
            "masks: None\n",
            "names: {0: 'Apple___Apple_scab', 1: 'Apple___Black_rot', 2: 'Apple___Cedar_apple_rust', 3: 'Apple___healthy', 4: 'Corn_(maize)___Cercospora_leaf_spot Gray_leaf_spot', 5: 'Corn_(maize)___Common_rust_', 6: 'Corn_(maize)___Northern_Leaf_Blight', 7: 'Corn_(maize)___healthy', 8: 'Potato___Early_blight', 9: 'Potato___Late_blight', 10: 'Potato___healthy', 11: 'Tomato___Bacterial_spot', 12: 'Tomato___Early_blight', 13: 'Tomato___Late_blight', 14: 'Tomato___Leaf_Mold', 15: 'Tomato___Septoria_leaf_spot', 16: 'Tomato___Spider_mites Two-spotted_spider_mite', 17: 'Tomato___Target_Spot', 18: 'Tomato___Tomato_Yellow_Leaf_Curl_Virus', 19: 'Tomato___Tomato_mosaic_virus', 20: 'Tomato___healthy'}\n",
            "obb: None\n",
            "orig_img: array([[[44, 51, 76],\n",
            "        [43, 50, 75],\n",
            "        [41, 48, 73],\n",
            "        ...,\n",
            "        [20, 18, 54],\n",
            "        [18, 16, 52],\n",
            "        [17, 15, 51]],\n",
            "\n",
            "       [[44, 51, 76],\n",
            "        [43, 50, 75],\n",
            "        [41, 48, 73],\n",
            "        ...,\n",
            "        [20, 18, 54],\n",
            "        [18, 16, 52],\n",
            "        [18, 16, 52]],\n",
            "\n",
            "       [[44, 51, 76],\n",
            "        [43, 50, 75],\n",
            "        [41, 48, 73],\n",
            "        ...,\n",
            "        [21, 18, 57],\n",
            "        [19, 16, 55],\n",
            "        [18, 15, 54]],\n",
            "\n",
            "       ...,\n",
            "\n",
            "       [[53, 44, 40],\n",
            "        [52, 43, 39],\n",
            "        [51, 42, 38],\n",
            "        ...,\n",
            "        [50, 50, 38],\n",
            "        [51, 51, 39],\n",
            "        [52, 52, 40]],\n",
            "\n",
            "       [[53, 44, 40],\n",
            "        [52, 43, 39],\n",
            "        [51, 42, 38],\n",
            "        ...,\n",
            "        [50, 50, 38],\n",
            "        [51, 51, 39],\n",
            "        [52, 52, 40]],\n",
            "\n",
            "       [[53, 44, 40],\n",
            "        [52, 43, 39],\n",
            "        [51, 42, 38],\n",
            "        ...,\n",
            "        [49, 49, 37],\n",
            "        [51, 51, 39],\n",
            "        [52, 52, 40]]], dtype=uint8)\n",
            "orig_shape: (720, 1280)\n",
            "path: 'D:\\\\anaconda\\\\Lib\\\\site-packages\\\\ultralytics\\\\assets\\\\zidane.jpg'\n",
            "probs: ultralytics.engine.results.Probs object\n",
            "save_dir: 'runs\\\\classify\\\\predict'\n",
            "speed: {'preprocess': 15.524148941040039, 'inference': 10.68568229675293, 'postprocess': 0.0}]\n"
          ]
        }
      ],
      "source": [
        "from ultralytics import YOLO\n",
        "\n",
        "model = YOLO(\n",
        "    'D:\\\\Work\\\\ProjectC-Model\\\\notebook\\\\colab\\\\runs\\\\classify\\\\train2\\\\weights\\\\best.pt')\n",
        "\n",
        "result = model.predict(\n",
        "    data=\"D:\\\\Work\\\\ProjectC-Model\\\\notebookData\\\\test\", stream=False)\n",
        "\n",
        "\n",
        "print(result)"
      ]
    },
    {
      "cell_type": "code",
      "execution_count": 186,
      "metadata": {},
      "outputs": [
        {
          "data": {
            "image/png": "[encoded data removed]",
            "text/plain": [
              "<Figure size 1000x700 with 2 Axes>"
            ]
          },
          "metadata": {},
          "output_type": "display_data"
        }
      ],
      "source": [
        "import numpy as np\n",
        "import pandas as pd\n",
        "from sklearn.metrics import confusion_matrix\n",
        "import matplotlib.pyplot as plt\n",
        "import seaborn as sn\n",
        "\n",
        "\n",
        "def test_confusion_matrix():\n",
        "    # Define ground truth and predicted labels\n",
        "    ground_truth_labels = np.array([0, 1, 1, 0, 1, 2])\n",
        "    predicted_labels = np.array([0, 1, 1, 0, 2, 2])\n",
        "\n",
        "    # Create confustion matrix\n",
        "    conf_matrix = confusion_matrix(ground_truth_labels, predicted_labels)\n",
        "\n",
        "    # Create a dataframe for plotting\n",
        "    class_names = ['Class 0', 'Class 1', 'Class 2']\n",
        "    df_cm = pd.DataFrame(conf_matrix, index=class_names, columns=class_names)\n",
        "\n",
        "    # Plot the confusion matrix\n",
        "    plt.figure(figsize=(10, 7))\n",
        "    sn.heatmap(df_cm, annot=True, fmt='d')\n",
        "    plt.title('Confusion Matrix')\n",
        "    plt.xlabel('Predicted Labels')\n",
        "    plt.ylabel('True Labels')\n",
        "    plt.show()\n",
        "\n",
        "\n",
        "# Run the test\n",
        "test_confusion_matrix()"
      ]
    },
    {
      "cell_type": "code",
      "execution_count": 139,
      "metadata": {},
      "outputs": [
        {
          "data": {
            "image/png": "[encoded data removed]",
            "text/plain": [
              "<Figure size 1000x700 with 2 Axes>"
            ]
          },
          "metadata": {},
          "output_type": "display_data"
        }
      ],
      "source": [
        "import numpy as np\n",
        "import pandas as pd\n",
        "from sklearn.metrics import confusion_matrix\n",
        "import matplotlib.pyplot as plt\n",
        "import seaborn as sn\n",
        "\n",
        "\n",
        "def test_confusion_matrix():\n",
        "    # Define ground truth and predicted labels\n",
        "    ground_truth_labels = np.array([0, 1, 2, 0, 1, 2])\n",
        "    predicted_labels = np.array([0, 1, 1, 0, 2, 2])\n",
        "\n",
        "    # Create confustion matrix\n",
        "    conf_matrix = confusion_matrix(ground_truth_labels, predicted_labels)\n",
        "\n",
        "    # Create a dataframe for plotting\n",
        "    class_names = ['Class 0', 'Class 1', 'Class 2']\n",
        "    df_cm = pd.DataFrame(conf_matrix, index=class_names, columns=class_names)\n",
        "\n",
        "    # Plot the confusion matrix\n",
        "    plt.figure(figsize=(10, 7))\n",
        "    sn.heatmap(df_cm, annot=True, fmt='d')\n",
        "    plt.title('Confusion Matrix')\n",
        "    plt.xlabel('Predicted Labels')\n",
        "    plt.ylabel('True Labels')\n",
        "    plt.show()\n",
        "\n",
        "\n",
        "# Run the test\n",
        "test_confusion_matrix()"
      ]
    },
    {
      "cell_type": "code",
      "execution_count": 2,
      "metadata": {},
      "outputs": [
        {
          "name": "stdout",
          "output_type": "stream",
          "text": [
            "Ultralytics YOLOv8.1.47  Python-3.11.7 torch-2.3.0 CUDA:0 (NVIDIA GeForce GTX 1650, 4096MiB)\n",
            "YOLOv8n-cls summary (fused): 73 layers, 1461781 parameters, 0 gradients, 3.3 GFLOPs\n",
            "\u001b[34m\u001b[1mtrain:\u001b[0m D:\\Work\\ProjectC-Model\\notebookData\\data\\train... found 39134 images in 21 classes  \n",
            "\u001b[34m\u001b[1mval:\u001b[0m D:\\Work\\ProjectC-Model\\notebookData\\data\\val... found 9783 images in 21 classes  \n",
            "\u001b[34m\u001b[1mtest:\u001b[0m None...\n"
          ]
        },
        {
          "name": "stderr",
          "output_type": "stream",
          "text": [
            "\u001b[34m\u001b[1mval: \u001b[0mScanning D:\\Work\\ProjectC-Model\\notebookData\\data\\val... 9783 images, 0 corrupt: 100%|██████████| 9783/9783 [00:10<00:00, 917.22it/s]\n"
          ]
        },
        {
          "name": "stdout",
          "output_type": "stream",
          "text": [
            "\u001b[34m\u001b[1mval: \u001b[0mNew cache created: D:\\Work\\ProjectC-Model\\notebookData\\data\\val.cache\n"
          ]
        },
        {
          "name": "stderr",
          "output_type": "stream",
          "text": [
            "               classes   top1_acc   top5_acc: 100%|██████████| 612/612 [00:37<00:00, 16.24it/s]\n"
          ]
        },
        {
          "name": "stdout",
          "output_type": "stream",
          "text": [
            "                   all      0.994          1\n",
            "Speed: 0.4ms preprocess, 1.5ms inference, 0.0ms loss, 0.0ms postprocess per image\n",
            "Results saved to \u001b[1mruns\\classify\\val7\u001b[0m\n"
          ]
        },
        {
          "data": {
            "text/plain": [
              "<ultralytics.utils.metrics.ConfusionMatrix at 0x1d6ea576450>"
            ]
          },
          "execution_count": 2,
          "metadata": {},
          "output_type": "execute_result"
        }
      ],
      "source": [
        "from ultralytics import YOLO\n",
        "\n",
        "model = YOLO(\n",
        "    'D:\\\\Work\\\\ProjectC-Model\\\\notebook\\\\colab\\\\runs\\\\classify\\\\train2\\\\weights\\\\best.pt')\n",
        "\n",
        "metrics = model.val(data=\"D:\\\\Work\\\\ProjectC-Model\\\\notebookData\\\\data\")\n",
        "metrics.confusion_matrix"
      ]
    }
  ],
  "metadata": {
    "accelerator": "GPU",
    "colab": {
      "gpuType": "T4",
      "include_colab_link": true,
      "provenance": []
    },
    "kernelspec": {
      "display_name": "Python 3",
      "name": "python3"
    },
    "language_info": {
      "codemirror_mode": {
        "name": "ipython",
        "version": 3
      },
      "file_extension": ".py",
      "mimetype": "text/x-python",
      "name": "python",
      "nbconvert_exporter": "python",
      "pygments_lexer": "ipython3",
      "version": "3.11.7"
    }
  },
  "nbformat": 4,
  "nbformat_minor": 0
}
