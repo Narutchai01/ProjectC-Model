{
  "cells": [
    {
      "cell_type": "markdown",
      "metadata": {
        "colab_type": "text",
        "id": "view-in-github"
      },
      "source": [
        "<a href=\"https://colab.research.google.com/github/Narutchai01/ProjectC-Model/blob/main/notebook/interface.ipynb\" target=\"_parent\"><img src=\"https://colab.research.google.com/assets/colab-badge.svg\" alt=\"Open In Colab\"/></a>"
      ]
    },
    {
      "cell_type": "code",
      "execution_count": 5,
      "metadata": {},
      "outputs": [
        {
          "name": "stdout",
          "output_type": "stream",
          "text": [
            "Thu May  9 02:55:15 2024       \n",
            "+-----------------------------------------------------------------------------------------+\n",
            "| NVIDIA-SMI 551.78                 Driver Version: 551.78         CUDA Version: 12.4     |\n",
            "|-----------------------------------------+------------------------+----------------------+\n",
            "| GPU  Name                     TCC/WDDM  | Bus-Id          Disp.A | Volatile Uncorr. ECC |\n",
            "| Fan  Temp   Perf          Pwr:Usage/Cap |           Memory-Usage | GPU-Util  Compute M. |\n",
            "|                                         |                        |               MIG M. |\n",
            "|=========================================+========================+======================|\n",
            "|   0  NVIDIA GeForce GTX 1650      WDDM  |   00000000:01:00.0  On |                  N/A |\n",
            "| N/A   60C    P3             12W /   62W |    2379MiB /   4096MiB |     27%      Default |\n",
            "|                                         |                        |                  N/A |\n",
            "+-----------------------------------------+------------------------+----------------------+\n",
            "                                                                                         \n",
            "+-----------------------------------------------------------------------------------------+\n",
            "| Processes:                                                                              |\n",
            "|  GPU   GI   CI        PID   Type   Process name                              GPU Memory |\n",
            "|        ID   ID                                                               Usage      |\n",
            "|=========================================================================================|\n",
            "|    0   N/A  N/A      2016    C+G   ...5n1h2txyewy\\ShellExperienceHost.exe      N/A      |\n",
            "|    0   N/A  N/A      2336      C   D:\\anaconda\\python.exe                      N/A      |\n",
            "|    0   N/A  N/A      4240    C+G   ...nr4m\\radeonsoftware\\AMDRSSrcExt.exe      N/A      |\n",
            "|    0   N/A  N/A      6068    C+G   ...452_x64__8wekyb3d8bbwe\\ms-teams.exe      N/A      |\n",
            "|    0   N/A  N/A      6268    C+G   ...les\\Microsoft OneDrive\\OneDrive.exe      N/A      |\n",
            "|    0   N/A  N/A      6320    C+G   C:\\Windows\\explorer.exe                     N/A      |\n",
            "|    0   N/A  N/A      7656    C+G   ...esktop\\app-3.3.15\\GitHubDesktop.exe      N/A      |\n",
            "|    0   N/A  N/A     10520    C+G   ...siveControlPanel\\SystemSettings.exe      N/A      |\n",
            "|    0   N/A  N/A     10932    C+G   ...GeForce Experience\\NVIDIA Share.exe      N/A      |\n",
            "|    0   N/A  N/A     11944    C+G   ...ocal\\Postman\\app-11.0.7\\Postman.exe      N/A      |\n",
            "|    0   N/A  N/A     12408    C+G   ...nt.CBS_cw5n1h2txyewy\\SearchHost.exe      N/A      |\n",
            "|    0   N/A  N/A     12492    C+G   ...2txyewy\\StartMenuExperienceHost.exe      N/A      |\n",
            "|    0   N/A  N/A     12760    C+G   ...US\\ArmouryDevice\\asus_framework.exe      N/A      |\n",
            "|    0   N/A  N/A     14652    C+G   ...on\\124.0.2478.80\\msedgewebview2.exe      N/A      |\n",
            "|    0   N/A  N/A     14964    C+G   ...t.LockApp_cw5n1h2txyewy\\LockApp.exe      N/A      |\n",
            "|    0   N/A  N/A     17260    C+G   ...5n1h2txyewy\\AccountsControlHost.exe      N/A      |\n",
            "|    0   N/A  N/A     17312    C+G   ...GeForce Experience\\NVIDIA Share.exe      N/A      |\n",
            "|    0   N/A  N/A     17748    C+G   ..._8wekyb3d8bbwe\\PAD.Console.Host.exe      N/A      |\n",
            "|    0   N/A  N/A     18260    C+G   ...crosoft\\Edge\\Application\\msedge.exe      N/A      |\n",
            "|    0   N/A  N/A     19296    C+G   ...64__8xx8rvfyw5nnt\\app\\Messenger.exe      N/A      |\n",
            "|    0   N/A  N/A     20408    C+G   ...CBS_cw5n1h2txyewy\\TextInputHost.exe      N/A      |\n",
            "|    0   N/A  N/A     21716    C+G   ...al\\Discord\\app-1.0.9146\\Discord.exe      N/A      |\n",
            "|    0   N/A  N/A     23408    C+G   ...Brave-Browser\\Application\\brave.exe      N/A      |\n",
            "|    0   N/A  N/A     24712    C+G   ...al\\Discord\\app-1.0.9146\\Discord.exe      N/A      |\n",
            "|    0   N/A  N/A     25764    C+G   ...ograms\\cron-web\\Notion Calendar.exe      N/A      |\n",
            "|    0   N/A  N/A     26560    C+G   D:\\WingetUI\\WingetUI.exe                    N/A      |\n",
            "|    0   N/A  N/A     26852    C+G   ...\\cef\\cef.win7x64\\steamwebhelper.exe      N/A      |\n",
            "|    0   N/A  N/A     27800    C+G   ...on\\124.0.2478.80\\msedgewebview2.exe      N/A      |\n",
            "|    0   N/A  N/A     28288    C+G   ...m\\radeonsoftware\\RadeonSoftware.exe      N/A      |\n",
            "|    0   N/A  N/A     30040    C+G   ...__8wekyb3d8bbwe\\WindowsTerminal.exe      N/A      |\n",
            "|    0   N/A  N/A     30312    C+G   D:\\Microsoft VS Code\\Code.exe               N/A      |\n",
            "|    0   N/A  N/A     32968    C+G   ...\\Docker\\frontend\\Docker Desktop.exe      N/A      |\n",
            "|    0   N/A  N/A     34968      C   D:\\anaconda\\python.exe                      N/A      |\n",
            "|    0   N/A  N/A     40664    C+G   ...ekyb3d8bbwe\\PhoneExperienceHost.exe      N/A      |\n",
            "+-----------------------------------------------------------------------------------------+\n"
          ]
        }
      ],
      "source": [
        "!nvidia-smi"
      ]
    },
    {
      "cell_type": "code",
      "execution_count": null,
      "metadata": {
        "id": "Wx9SXD40bKgj"
      },
      "outputs": [],
      "source": [
        "from google.colab import drive"
      ]
    },
    {
      "cell_type": "code",
      "execution_count": null,
      "metadata": {
        "id": "3Gm9fe7idr5S"
      },
      "outputs": [],
      "source": [
        "drive.mount('/content/gdrive')"
      ]
    },
    {
      "cell_type": "code",
      "execution_count": null,
      "metadata": {
        "id": "ndaI3rXtdsE3"
      },
      "outputs": [],
      "source": [
        "!unzip gdrive/MyDrive/DateSet/archive.zip"
      ]
    },
    {
      "cell_type": "code",
      "execution_count": null,
      "metadata": {
        "id": "l2dwy-aedpod"
      },
      "outputs": [],
      "source": [
        "!unzip gdrive/MyDrive/DateSet/Dataset\\ for\\ Crop\\ Pest\\ and\\ Disease\\ Detection.zip"
      ]
    },
    {
      "cell_type": "code",
      "execution_count": null,
      "metadata": {
        "id": "VSmBISksdu6S"
      },
      "outputs": [],
      "source": [
        "%pip install ultralytics\n",
        "%pip install -r requirements.txt"
      ]
    },
    {
      "cell_type": "code",
      "execution_count": 3,
      "metadata": {},
      "outputs": [
        {
          "name": "stdout",
          "output_type": "stream",
          "text": [
            "Collecting ultralytics\n",
            "  Using cached ultralytics-8.2.10-py3-none-any.whl.metadata (40 kB)\n",
            "Requirement already satisfied: matplotlib>=3.3.0 in e:\\programs\\anaconda\\lib\\site-packages (from ultralytics) (3.8.0)\n",
            "Collecting opencv-python>=4.6.0 (from ultralytics)\n",
            "  Using cached opencv_python-4.9.0.80-cp37-abi3-win_amd64.whl.metadata (20 kB)\n",
            "Requirement already satisfied: pillow>=7.1.2 in e:\\programs\\anaconda\\lib\\site-packages (from ultralytics) (10.2.0)\n",
            "Requirement already satisfied: pyyaml>=5.3.1 in e:\\programs\\anaconda\\lib\\site-packages (from ultralytics) (6.0.1)\n",
            "Requirement already satisfied: requests>=2.23.0 in e:\\programs\\anaconda\\lib\\site-packages (from ultralytics) (2.31.0)\n",
            "Requirement already satisfied: scipy>=1.4.1 in e:\\programs\\anaconda\\lib\\site-packages (from ultralytics) (1.10.1)\n",
            "Requirement already satisfied: torch>=1.8.0 in e:\\programs\\anaconda\\lib\\site-packages (from ultralytics) (2.3.0)\n",
            "Requirement already satisfied: torchvision>=0.9.0 in e:\\programs\\anaconda\\lib\\site-packages (from ultralytics) (0.18.0)\n",
            "Requirement already satisfied: tqdm>=4.64.0 in e:\\programs\\anaconda\\lib\\site-packages (from ultralytics) (4.65.0)\n",
            "Requirement already satisfied: psutil in e:\\programs\\anaconda\\lib\\site-packages (from ultralytics) (5.9.0)\n",
            "Requirement already satisfied: py-cpuinfo in e:\\programs\\anaconda\\lib\\site-packages (from ultralytics) (9.0.0)\n",
            "Collecting thop>=0.1.1 (from ultralytics)\n",
            "  Using cached thop-0.1.1.post2209072238-py3-none-any.whl.metadata (2.7 kB)\n",
            "Requirement already satisfied: pandas>=1.1.4 in e:\\programs\\anaconda\\lib\\site-packages (from ultralytics) (2.1.4)\n",
            "Requirement already satisfied: seaborn>=0.11.0 in e:\\programs\\anaconda\\lib\\site-packages (from ultralytics) (0.12.2)\n",
            "Requirement already satisfied: contourpy>=1.0.1 in e:\\programs\\anaconda\\lib\\site-packages (from matplotlib>=3.3.0->ultralytics) (1.2.0)\n",
            "Requirement already satisfied: cycler>=0.10 in e:\\programs\\anaconda\\lib\\site-packages (from matplotlib>=3.3.0->ultralytics) (0.11.0)\n",
            "Requirement already satisfied: fonttools>=4.22.0 in e:\\programs\\anaconda\\lib\\site-packages (from matplotlib>=3.3.0->ultralytics) (4.25.0)\n",
            "Requirement already satisfied: kiwisolver>=1.0.1 in e:\\programs\\anaconda\\lib\\site-packages (from matplotlib>=3.3.0->ultralytics) (1.4.4)\n",
            "Requirement already satisfied: numpy<2,>=1.21 in e:\\programs\\anaconda\\lib\\site-packages (from matplotlib>=3.3.0->ultralytics) (1.24.3)\n",
            "Requirement already satisfied: packaging>=20.0 in e:\\programs\\anaconda\\lib\\site-packages (from matplotlib>=3.3.0->ultralytics) (23.1)\n",
            "Requirement already satisfied: pyparsing>=2.3.1 in e:\\programs\\anaconda\\lib\\site-packages (from matplotlib>=3.3.0->ultralytics) (3.0.9)\n",
            "Requirement already satisfied: python-dateutil>=2.7 in e:\\programs\\anaconda\\lib\\site-packages (from matplotlib>=3.3.0->ultralytics) (2.8.2)\n",
            "Requirement already satisfied: pytz>=2020.1 in e:\\programs\\anaconda\\lib\\site-packages (from pandas>=1.1.4->ultralytics) (2023.3.post1)\n",
            "Requirement already satisfied: tzdata>=2022.1 in e:\\programs\\anaconda\\lib\\site-packages (from pandas>=1.1.4->ultralytics) (2023.3)\n",
            "Requirement already satisfied: charset-normalizer<4,>=2 in e:\\programs\\anaconda\\lib\\site-packages (from requests>=2.23.0->ultralytics) (2.0.4)\n",
            "Requirement already satisfied: idna<4,>=2.5 in e:\\programs\\anaconda\\lib\\site-packages (from requests>=2.23.0->ultralytics) (3.4)\n",
            "Requirement already satisfied: urllib3<3,>=1.21.1 in e:\\programs\\anaconda\\lib\\site-packages (from requests>=2.23.0->ultralytics) (2.0.7)\n",
            "Requirement already satisfied: certifi>=2017.4.17 in e:\\programs\\anaconda\\lib\\site-packages (from requests>=2.23.0->ultralytics) (2024.2.2)\n",
            "Requirement already satisfied: filelock in e:\\programs\\anaconda\\lib\\site-packages (from torch>=1.8.0->ultralytics) (3.13.1)\n",
            "Requirement already satisfied: typing-extensions>=4.8.0 in e:\\programs\\anaconda\\lib\\site-packages (from torch>=1.8.0->ultralytics) (4.9.0)\n",
            "Requirement already satisfied: sympy in e:\\programs\\anaconda\\lib\\site-packages (from torch>=1.8.0->ultralytics) (1.12)\n",
            "Requirement already satisfied: networkx in e:\\programs\\anaconda\\lib\\site-packages (from torch>=1.8.0->ultralytics) (3.1)\n",
            "Requirement already satisfied: jinja2 in e:\\programs\\anaconda\\lib\\site-packages (from torch>=1.8.0->ultralytics) (3.1.3)\n",
            "Requirement already satisfied: fsspec in e:\\programs\\anaconda\\lib\\site-packages (from torch>=1.8.0->ultralytics) (2023.10.0)\n",
            "Collecting mkl<=2021.4.0,>=2021.1.1 (from torch>=1.8.0->ultralytics)\n",
            "  Using cached mkl-2021.4.0-py2.py3-none-win_amd64.whl.metadata (1.4 kB)\n",
            "Requirement already satisfied: colorama in e:\\programs\\anaconda\\lib\\site-packages (from tqdm>=4.64.0->ultralytics) (0.4.6)\n",
            "Collecting intel-openmp==2021.* (from mkl<=2021.4.0,>=2021.1.1->torch>=1.8.0->ultralytics)\n",
            "  Using cached intel_openmp-2021.4.0-py2.py3-none-win_amd64.whl.metadata (1.2 kB)\n",
            "Collecting tbb==2021.* (from mkl<=2021.4.0,>=2021.1.1->torch>=1.8.0->ultralytics)\n",
            "  Using cached tbb-2021.12.0-py3-none-win_amd64.whl.metadata (1.1 kB)\n",
            "Requirement already satisfied: six>=1.5 in e:\\programs\\anaconda\\lib\\site-packages (from python-dateutil>=2.7->matplotlib>=3.3.0->ultralytics) (1.16.0)\n",
            "Requirement already satisfied: MarkupSafe>=2.0 in e:\\programs\\anaconda\\lib\\site-packages (from jinja2->torch>=1.8.0->ultralytics) (2.1.3)\n",
            "Requirement already satisfied: mpmath>=0.19 in e:\\programs\\anaconda\\lib\\site-packages (from sympy->torch>=1.8.0->ultralytics) (1.3.0)\n",
            "Using cached ultralytics-8.2.10-py3-none-any.whl (755 kB)\n",
            "Using cached opencv_python-4.9.0.80-cp37-abi3-win_amd64.whl (38.6 MB)\n",
            "Using cached thop-0.1.1.post2209072238-py3-none-any.whl (15 kB)\n",
            "Downloading mkl-2021.4.0-py2.py3-none-win_amd64.whl (228.5 MB)\n",
            "   ---------------------------------------- 0.0/228.5 MB ? eta -:--:--\n",
            "   ---------------------------------------- 0.1/228.5 MB 2.0 MB/s eta 0:01:57\n",
            "   ---------------------------------------- 0.7/228.5 MB 7.2 MB/s eta 0:00:32\n",
            "   ---------------------------------------- 1.6/228.5 MB 11.0 MB/s eta 0:00:21\n",
            "   ---------------------------------------- 2.8/228.5 MB 14.8 MB/s eta 0:00:16\n",
            "    --------------------------------------- 4.2/228.5 MB 18.1 MB/s eta 0:00:13\n",
            "   - -------------------------------------- 6.2/228.5 MB 21.9 MB/s eta 0:00:11\n",
            "   - -------------------------------------- 8.6/228.5 MB 26.3 MB/s eta 0:00:09\n",
            "   -- ------------------------------------- 11.5/228.5 MB 40.9 MB/s eta 0:00:06\n",
            "   -- ------------------------------------- 14.5/228.5 MB 54.4 MB/s eta 0:00:04\n",
            "   --- ------------------------------------ 18.2/228.5 MB 65.2 MB/s eta 0:00:04\n",
            "   --- ------------------------------------ 22.3/228.5 MB 72.6 MB/s eta 0:00:03\n",
            "   ---- ----------------------------------- 27.2/228.5 MB 93.9 MB/s eta 0:00:03\n",
            "   ----- --------------------------------- 33.4/228.5 MB 110.0 MB/s eta 0:00:02\n",
            "   ------ -------------------------------- 40.4/228.5 MB 131.2 MB/s eta 0:00:02\n",
            "   -------- ------------------------------ 47.9/228.5 MB 165.0 MB/s eta 0:00:02\n",
            "   --------- ----------------------------- 54.5/228.5 MB 131.2 MB/s eta 0:00:02\n",
            "   ---------- ---------------------------- 61.8/228.5 MB 131.2 MB/s eta 0:00:02\n",
            "   ----------- --------------------------- 69.7/228.5 MB 162.4 MB/s eta 0:00:01\n",
            "   ------------- ------------------------- 77.4/228.5 MB 162.4 MB/s eta 0:00:01\n",
            "   -------------- ------------------------ 84.9/228.5 MB 165.0 MB/s eta 0:00:01\n",
            "   --------------- ----------------------- 90.7/228.5 MB 131.2 MB/s eta 0:00:02\n",
            "   ---------------- --------------------- 100.5/228.5 MB 165.0 MB/s eta 0:00:01\n",
            "   ------------------ ------------------- 109.9/228.5 MB 217.7 MB/s eta 0:00:01\n",
            "   ------------------- ------------------ 119.0/228.5 MB 162.4 MB/s eta 0:00:01\n",
            "   -------------------- ----------------- 124.7/228.5 MB 131.2 MB/s eta 0:00:01\n",
            "   --------------------- ---------------- 132.1/228.5 MB 165.0 MB/s eta 0:00:01\n",
            "   ---------------------- --------------- 136.0/228.5 MB 108.8 MB/s eta 0:00:01\n",
            "   ----------------------- -------------- 142.7/228.5 MB 110.0 MB/s eta 0:00:01\n",
            "   ------------------------- ------------ 150.8/228.5 MB 165.0 MB/s eta 0:00:01\n",
            "   -------------------------- ----------- 156.4/228.5 MB 131.2 MB/s eta 0:00:01\n",
            "   -------------------------- ----------- 162.0/228.5 MB 131.2 MB/s eta 0:00:01\n",
            "   --------------------------- ---------- 167.8/228.5 MB 108.8 MB/s eta 0:00:01\n",
            "   ---------------------------- --------- 173.3/228.5 MB 131.2 MB/s eta 0:00:01\n",
            "   ----------------------------- -------- 178.6/228.5 MB 131.2 MB/s eta 0:00:01\n",
            "   ------------------------------ ------- 184.1/228.5 MB 131.2 MB/s eta 0:00:01\n",
            "   ------------------------------- ------ 190.1/228.5 MB 131.2 MB/s eta 0:00:01\n",
            "   -------------------------------- ----- 195.3/228.5 MB 131.2 MB/s eta 0:00:01\n",
            "   --------------------------------- ---- 200.2/228.5 MB 108.8 MB/s eta 0:00:01\n",
            "   ---------------------------------- --- 206.0/228.5 MB 131.2 MB/s eta 0:00:01\n",
            "   ----------------------------------- -- 212.5/228.5 MB 131.2 MB/s eta 0:00:01\n",
            "   ------------------------------------ - 218.0/228.5 MB 131.2 MB/s eta 0:00:01\n",
            "   -------------------------------------  223.8/228.5 MB 131.2 MB/s eta 0:00:01\n",
            "   -------------------------------------  228.5/228.5 MB 131.2 MB/s eta 0:00:01\n",
            "   -------------------------------------  228.5/228.5 MB 131.2 MB/s eta 0:00:01\n",
            "   -------------------------------------  228.5/228.5 MB 131.2 MB/s eta 0:00:01\n",
            "   -------------------------------------  228.5/228.5 MB 131.2 MB/s eta 0:00:01\n",
            "   --------------------------------------- 228.5/228.5 MB 38.6 MB/s eta 0:00:00\n",
            "Downloading intel_openmp-2021.4.0-py2.py3-none-win_amd64.whl (3.5 MB)\n",
            "   ---------------------------------------- 0.0/3.5 MB ? eta -:--:--\n",
            "   ---------------------------------------- 3.5/3.5 MB 113.1 MB/s eta 0:00:00\n",
            "Downloading tbb-2021.12.0-py3-none-win_amd64.whl (286 kB)\n",
            "   ---------------------------------------- 0.0/286.4 kB ? eta -:--:--\n",
            "   ---------------------------------------- 286.4/286.4 kB ? eta 0:00:00\n",
            "Installing collected packages: tbb, intel-openmp, opencv-python, mkl, thop, ultralytics\n",
            "Successfully installed intel-openmp-2021.4.0 mkl-2021.4.0 opencv-python-4.9.0.80 tbb-2021.12.0 thop-0.1.1.post2209072238 ultralytics-8.2.10\n",
            "Note: you may need to restart the kernel to use updated packages.\n"
          ]
        }
      ],
      "source": [
        "%pip install -U ultralytics"
      ]
    },
    {
      "cell_type": "code",
      "execution_count": 1,
      "metadata": {},
      "outputs": [
        {
          "name": "stdout",
          "output_type": "stream",
          "text": [
            "d:\\Work\\ProjectC-Model\\notebook\n"
          ]
        }
      ],
      "source": [
        "import os\n",
        "\n",
        "HOME = os.getcwd()\n",
        "\n",
        "print(HOME)"
      ]
    },
    {
      "cell_type": "code",
      "execution_count": null,
      "metadata": {},
      "outputs": [],
      "source": [
        "from ultralytics import YOLO\n",
        "\n",
        "\n",
        "model = YOLO('yolov8n-cls.pt')\n",
        "\n",
        "model.train(data=HOME+'/Data/NewDataSet/Data', epochs=5, imgsz=400)"
      ]
    },
    {
      "cell_type": "code",
      "execution_count": null,
      "metadata": {},
      "outputs": [],
      "source": []
    },
    {
      "cell_type": "code",
      "execution_count": 3,
      "metadata": {},
      "outputs": [
        {
          "name": "stdout",
          "output_type": "stream",
          "text": [
            "New https://pypi.org/project/ultralytics/8.2.11 available  Update with 'pip install -U ultralytics'\n",
            "Ultralytics YOLOv8.1.47  Python-3.11.7 torch-2.3.0 CUDA:0 (NVIDIA GeForce GTX 1650, 4096MiB)\n",
            "\u001b[34m\u001b[1mengine\\trainer: \u001b[0mtask=classify, mode=train, model=yolov8n-cls.pt, data=d:\\Work\\ProjectC-Model\\notebook/Data/smallData, epochs=15, time=None, patience=100, batch=16, imgsz=400, save=True, save_period=-1, cache=False, device=None, workers=8, project=None, name=train19, exist_ok=False, pretrained=True, optimizer=auto, verbose=True, seed=0, deterministic=True, single_cls=False, rect=False, cos_lr=False, close_mosaic=10, resume=False, amp=True, fraction=1.0, profile=False, freeze=None, multi_scale=False, overlap_mask=True, mask_ratio=4, dropout=0.0, val=True, split=val, save_json=False, save_hybrid=False, conf=None, iou=0.7, max_det=300, half=False, dnn=False, plots=True, source=None, vid_stride=1, stream_buffer=False, visualize=False, augment=False, agnostic_nms=False, classes=None, retina_masks=False, embed=None, show=False, save_frames=False, save_txt=False, save_conf=False, save_crop=False, show_labels=True, show_conf=True, show_boxes=True, line_width=None, format=torchscript, keras=False, optimize=False, int8=False, dynamic=False, simplify=False, opset=None, workspace=4, nms=False, lr0=0.01, lrf=0.01, momentum=0.937, weight_decay=0.0005, warmup_epochs=3.0, warmup_momentum=0.8, warmup_bias_lr=0.1, box=7.5, cls=0.5, dfl=1.5, pose=12.0, kobj=1.0, label_smoothing=0.0, nbs=64, hsv_h=0.015, hsv_s=0.7, hsv_v=0.4, degrees=0.0, translate=0.1, scale=0.5, shear=0.0, perspective=0.0, flipud=0.0, fliplr=0.5, bgr=0.0, mosaic=1.0, mixup=0.0, copy_paste=0.0, auto_augment=randaugment, erasing=0.4, crop_fraction=1.0, cfg=None, tracker=botsort.yaml, save_dir=runs\\classify\\train19\n",
            "\u001b[34m\u001b[1mtrain:\u001b[0m D:\\Work\\ProjectC-Model\\notebook\\Data\\smallData\\train... found 70295 images in 38 classes  \n",
            "\u001b[34m\u001b[1mval:\u001b[0m D:\\Work\\ProjectC-Model\\notebook\\Data\\smallData\\val... found 17572 images in 38 classes  \n",
            "\u001b[34m\u001b[1mtest:\u001b[0m D:\\Work\\ProjectC-Model\\notebook\\Data\\smallData\\test... found 33 images in 8 classes: ERROR  requires 38 classes, not 8\n",
            "Overriding model.yaml nc=1000 with nc=38\n",
            "\n",
            "                   from  n    params  module                                       arguments                     \n",
            "  0                  -1  1       464  ultralytics.nn.modules.conv.Conv             [3, 16, 3, 2]                 \n",
            "  1                  -1  1      4672  ultralytics.nn.modules.conv.Conv             [16, 32, 3, 2]                \n",
            "  2                  -1  1      7360  ultralytics.nn.modules.block.C2f             [32, 32, 1, True]             \n",
            "  3                  -1  1     18560  ultralytics.nn.modules.conv.Conv             [32, 64, 3, 2]                \n",
            "  4                  -1  2     49664  ultralytics.nn.modules.block.C2f             [64, 64, 2, True]             \n",
            "  5                  -1  1     73984  ultralytics.nn.modules.conv.Conv             [64, 128, 3, 2]               \n",
            "  6                  -1  2    197632  ultralytics.nn.modules.block.C2f             [128, 128, 2, True]           \n",
            "  7                  -1  1    295424  ultralytics.nn.modules.conv.Conv             [128, 256, 3, 2]              \n",
            "  8                  -1  1    460288  ultralytics.nn.modules.block.C2f             [256, 256, 1, True]           \n",
            "  9                  -1  1    378918  ultralytics.nn.modules.head.Classify         [256, 38]                     \n",
            "YOLOv8n-cls summary: 99 layers, 1486966 parameters, 1486966 gradients, 3.4 GFLOPs\n",
            "Transferred 156/158 items from pretrained weights\n",
            "\u001b[34m\u001b[1mAMP: \u001b[0mrunning Automatic Mixed Precision (AMP) checks with YOLOv8n...\n"
          ]
        },
        {
          "name": "stderr",
          "output_type": "stream",
          "text": [
            "d:\\anaconda\\Lib\\site-packages\\torch\\nn\\modules\\conv.py:456: UserWarning: Plan failed with a cudnnException: CUDNN_BACKEND_EXECUTION_PLAN_DESCRIPTOR: cudnnFinalize Descriptor Failed cudnn_status: CUDNN_STATUS_NOT_SUPPORTED (Triggered internally at C:\\cb\\pytorch_1000000000000\\work\\aten\\src\\ATen\\native\\cudnn\\Conv_v8.cpp:919.)\n",
            "  return F.conv2d(input, weight, bias, self.stride,\n"
          ]
        },
        {
          "name": "stdout",
          "output_type": "stream",
          "text": [
            "\u001b[34m\u001b[1mAMP: \u001b[0mchecks passed \n",
            "WARNING  imgsz=[400] must be multiple of max stride 32, updating to [416]\n"
          ]
        },
        {
          "name": "stderr",
          "output_type": "stream",
          "text": [
            "\u001b[34m\u001b[1mtrain: \u001b[0mScanning D:\\Work\\ProjectC-Model\\notebook\\Data\\smallData\\train... 70295 images, 0 corrupt: 100%|██████████| 70295/70295 [01:29<00:00, 787.96it/s]\n"
          ]
        },
        {
          "name": "stdout",
          "output_type": "stream",
          "text": [
            "\u001b[34m\u001b[1mtrain: \u001b[0mNew cache created: D:\\Work\\ProjectC-Model\\notebook\\Data\\smallData\\train.cache\n"
          ]
        },
        {
          "name": "stderr",
          "output_type": "stream",
          "text": [
            "\u001b[34m\u001b[1mval: \u001b[0mScanning D:\\Work\\ProjectC-Model\\notebook\\Data\\smallData\\val... 17572 images, 0 corrupt: 100%|██████████| 17572/17572 [00:00<?, ?it/s]\n"
          ]
        },
        {
          "name": "stdout",
          "output_type": "stream",
          "text": [
            "\u001b[34m\u001b[1moptimizer:\u001b[0m 'optimizer=auto' found, ignoring 'lr0=0.01' and 'momentum=0.937' and determining best 'optimizer', 'lr0' and 'momentum' automatically... \n",
            "\u001b[34m\u001b[1moptimizer:\u001b[0m SGD(lr=0.01, momentum=0.9) with parameter groups 26 weight(decay=0.0), 27 weight(decay=0.0005), 27 bias(decay=0.0)\n",
            "Image sizes 416 train, 416 val\n",
            "Using 8 dataloader workers\n",
            "Logging results to \u001b[1mruns\\classify\\train19\u001b[0m\n",
            "Starting training for 15 epochs...\n",
            "\n",
            "      Epoch    GPU_mem       loss  Instances       Size\n"
          ]
        },
        {
          "name": "stderr",
          "output_type": "stream",
          "text": [
            "       1/15     0.692G      1.366          7        416: 100%|██████████| 4394/4394 [18:57<00:00,  3.86it/s]\n",
            "               classes   top1_acc   top5_acc: 100%|██████████| 550/550 [01:22<00:00,  6.66it/s]"
          ]
        },
        {
          "name": "stdout",
          "output_type": "stream",
          "text": [
            "                   all      0.958      0.999\n"
          ]
        },
        {
          "name": "stderr",
          "output_type": "stream",
          "text": [
            "\n"
          ]
        },
        {
          "name": "stdout",
          "output_type": "stream",
          "text": [
            "\n",
            "      Epoch    GPU_mem       loss  Instances       Size\n"
          ]
        },
        {
          "name": "stderr",
          "output_type": "stream",
          "text": [
            "       2/15     0.709G     0.2224          7        416: 100%|██████████| 4394/4394 [18:51<00:00,  3.88it/s]\n",
            "               classes   top1_acc   top5_acc: 100%|██████████| 550/550 [01:21<00:00,  6.72it/s]"
          ]
        },
        {
          "name": "stdout",
          "output_type": "stream",
          "text": [
            "                   all      0.982          1\n"
          ]
        },
        {
          "name": "stderr",
          "output_type": "stream",
          "text": [
            "\n"
          ]
        },
        {
          "name": "stdout",
          "output_type": "stream",
          "text": [
            "\n",
            "      Epoch    GPU_mem       loss  Instances       Size\n"
          ]
        },
        {
          "name": "stderr",
          "output_type": "stream",
          "text": [
            "       3/15     0.711G     0.1735          7        416: 100%|██████████| 4394/4394 [18:41<00:00,  3.92it/s]\n",
            "               classes   top1_acc   top5_acc: 100%|██████████| 550/550 [01:21<00:00,  6.73it/s]"
          ]
        },
        {
          "name": "stdout",
          "output_type": "stream",
          "text": [
            "                   all      0.985          1\n"
          ]
        },
        {
          "name": "stderr",
          "output_type": "stream",
          "text": [
            "\n"
          ]
        },
        {
          "name": "stdout",
          "output_type": "stream",
          "text": [
            "\n",
            "      Epoch    GPU_mem       loss  Instances       Size\n"
          ]
        },
        {
          "name": "stderr",
          "output_type": "stream",
          "text": [
            "       4/15       0.7G     0.1653          7        416: 100%|██████████| 4394/4394 [18:38<00:00,  3.93it/s]\n",
            "               classes   top1_acc   top5_acc: 100%|██████████| 550/550 [01:21<00:00,  6.74it/s]"
          ]
        },
        {
          "name": "stdout",
          "output_type": "stream",
          "text": [
            "                   all       0.99          1\n"
          ]
        },
        {
          "name": "stderr",
          "output_type": "stream",
          "text": [
            "\n"
          ]
        },
        {
          "name": "stdout",
          "output_type": "stream",
          "text": [
            "\n",
            "      Epoch    GPU_mem       loss  Instances       Size\n"
          ]
        },
        {
          "name": "stderr",
          "output_type": "stream",
          "text": [
            "       5/15     0.707G     0.1095          7        416: 100%|██████████| 4394/4394 [18:38<00:00,  3.93it/s]\n",
            "               classes   top1_acc   top5_acc: 100%|██████████| 550/550 [01:21<00:00,  6.71it/s]"
          ]
        },
        {
          "name": "stdout",
          "output_type": "stream",
          "text": [
            "                   all      0.994          1\n"
          ]
        },
        {
          "name": "stderr",
          "output_type": "stream",
          "text": [
            "\n"
          ]
        }
      ],
      "source": [
        "from ultralytics import YOLO\n",
        "\n",
        "\n",
        "model = YOLO('yolov8n-cls.pt')\n",
        "\n",
        "model.train(data=HOME+\"/Data/smallData\", epochs=15, imgsz=400)"
      ]
    },
    {
      "cell_type": "code",
      "execution_count": null,
      "metadata": {},
      "outputs": [],
      "source": [
        "from ultralytics import YOLO\n",
        "\n",
        "\n",
        "model = YOLO('yolov8n-cls.pt')\n",
        "\n",
        "model.train(data=HOME+'/Data/NewDataSet/Data', epochs=16, imgsz=400)"
      ]
    },
    {
      "cell_type": "code",
      "execution_count": 7,
      "metadata": {},
      "outputs": [
        {
          "name": "stdout",
          "output_type": "stream",
          "text": [
            "\n",
            "WARNING  Video stream unresponsive, please check your IP camera connection.\n",
            "WARNING  Video stream unresponsive, please check your IP camera connection.\n",
            "1/1: https://firebasestorage.googleapis.com/v0/b/pathfinder-bd7e8.appspot.com/o/image%2F02156625-8688-4519-937d-a761b379cbd9PotatoEarlyBlight2.JPG?alt=media&token=03290387-e36d-43b1-8a4f-589f981299a1... Success  (inf frames of shape 256x256 at 25.00 FPS)\n",
            "\n",
            "WARNING  Video stream unresponsive, please check your IP camera connection.\n",
            "\n",
            "WARNING  inference results will accumulate in RAM unless `stream=True` is passed, causing potential out-of-memory\n",
            "errors for large sources or long-running streams and videos. See https://docs.ultralytics.com/modes/predict/ for help.\n",
            "\n",
            "Example:\n",
            "    results = model(source=..., stream=True)  # generator of Results objects\n",
            "    for r in results:\n",
            "        boxes = r.boxes  # Boxes object for bbox outputs\n",
            "        masks = r.masks  # Masks object for segment masks outputs\n",
            "        probs = r.probs  # Class probabilities for classification outputs\n",
            "\n",
            "0: 416x416 Potato___Early_blight 1.00, Potato___Late_blight 0.00, Strawberry___Leaf_scorch 0.00, Grape___Leaf_blight_(Isariopsis_Leaf_Spot) 0.00, Apple___Apple_scab 0.00, 14.0ms\n"
          ]
        },
        {
          "ename": "error",
          "evalue": "OpenCV(4.8.1) D:\\a\\opencv-python\\opencv-python\\opencv\\modules\\highgui\\src\\window.cpp:1338: error: (-2:Unspecified error) The function is not implemented. Rebuild the library with Windows, GTK+ 2.x or Cocoa support. If you are on Ubuntu or Debian, install libgtk2.0-dev and pkg-config, then re-run cmake or configure script in function 'cvWaitKey'\n",
          "output_type": "error",
          "traceback": [
            "\u001b[1;31m---------------------------------------------------------------------------\u001b[0m",
            "\u001b[1;31merror\u001b[0m                                     Traceback (most recent call last)",
            "Cell \u001b[1;32mIn[7], line 10\u001b[0m\n\u001b[0;32m      5\u001b[0m result_model \u001b[38;5;241m=\u001b[39m \u001b[38;5;124m'\u001b[39m\u001b[38;5;124m./runs/classify/train18/weights/best.pt\u001b[39m\u001b[38;5;124m'\u001b[39m\n\u001b[0;32m      8\u001b[0m model \u001b[38;5;241m=\u001b[39m YOLO(result_model)  \u001b[38;5;66;03m# load a custom model\u001b[39;00m\n\u001b[1;32m---> 10\u001b[0m results \u001b[38;5;241m=\u001b[39m model\u001b[38;5;241m.\u001b[39mpredict(\u001b[38;5;124m'\u001b[39m\u001b[38;5;124mhttps://firebasestorage.googleapis.com/v0/b/pathfinder-bd7e8.appspot.com/o/image\u001b[39m\u001b[38;5;132;01m%2F\u001b[39;00m\u001b[38;5;124m02156625-8688-4519-937d-a761b379cbd9PotatoEarlyBlight2.JPG?alt=media&token=03290387-e36d-43b1-8a4f-589f981299a1\u001b[39m\u001b[38;5;124m'\u001b[39m,stream\u001b[38;5;241m=\u001b[39m\u001b[38;5;28;01mFalse\u001b[39;00m)  \u001b[38;5;66;03m# predict on an image\u001b[39;00m\n\u001b[0;32m     12\u001b[0m names_dict \u001b[38;5;241m=\u001b[39m results[\u001b[38;5;241m0\u001b[39m]\u001b[38;5;241m.\u001b[39mnames\n\u001b[0;32m     14\u001b[0m probs \u001b[38;5;241m=\u001b[39m results[\u001b[38;5;241m0\u001b[39m]\u001b[38;5;241m.\u001b[39mprobs\u001b[38;5;241m.\u001b[39mdata\u001b[38;5;241m.\u001b[39mtolist()\n",
            "File \u001b[1;32md:\\anaconda\\Lib\\site-packages\\ultralytics\\engine\\model.py:452\u001b[0m, in \u001b[0;36mModel.predict\u001b[1;34m(self, source, stream, predictor, **kwargs)\u001b[0m\n\u001b[0;32m    450\u001b[0m \u001b[38;5;28;01mif\u001b[39;00m prompts \u001b[38;5;129;01mand\u001b[39;00m \u001b[38;5;28mhasattr\u001b[39m(\u001b[38;5;28mself\u001b[39m\u001b[38;5;241m.\u001b[39mpredictor, \u001b[38;5;124m\"\u001b[39m\u001b[38;5;124mset_prompts\u001b[39m\u001b[38;5;124m\"\u001b[39m):  \u001b[38;5;66;03m# for SAM-type models\u001b[39;00m\n\u001b[0;32m    451\u001b[0m     \u001b[38;5;28mself\u001b[39m\u001b[38;5;241m.\u001b[39mpredictor\u001b[38;5;241m.\u001b[39mset_prompts(prompts)\n\u001b[1;32m--> 452\u001b[0m \u001b[38;5;28;01mreturn\u001b[39;00m \u001b[38;5;28mself\u001b[39m\u001b[38;5;241m.\u001b[39mpredictor\u001b[38;5;241m.\u001b[39mpredict_cli(source\u001b[38;5;241m=\u001b[39msource) \u001b[38;5;28;01mif\u001b[39;00m is_cli \u001b[38;5;28;01melse\u001b[39;00m \u001b[38;5;28mself\u001b[39m\u001b[38;5;241m.\u001b[39mpredictor(source\u001b[38;5;241m=\u001b[39msource, stream\u001b[38;5;241m=\u001b[39mstream)\n",
            "File \u001b[1;32md:\\anaconda\\Lib\\site-packages\\ultralytics\\engine\\predictor.py:168\u001b[0m, in \u001b[0;36mBasePredictor.__call__\u001b[1;34m(self, source, model, stream, *args, **kwargs)\u001b[0m\n\u001b[0;32m    166\u001b[0m     \u001b[38;5;28;01mreturn\u001b[39;00m \u001b[38;5;28mself\u001b[39m\u001b[38;5;241m.\u001b[39mstream_inference(source, model, \u001b[38;5;241m*\u001b[39margs, \u001b[38;5;241m*\u001b[39m\u001b[38;5;241m*\u001b[39mkwargs)\n\u001b[0;32m    167\u001b[0m \u001b[38;5;28;01melse\u001b[39;00m:\n\u001b[1;32m--> 168\u001b[0m     \u001b[38;5;28;01mreturn\u001b[39;00m \u001b[38;5;28mlist\u001b[39m(\u001b[38;5;28mself\u001b[39m\u001b[38;5;241m.\u001b[39mstream_inference(source, model, \u001b[38;5;241m*\u001b[39margs, \u001b[38;5;241m*\u001b[39m\u001b[38;5;241m*\u001b[39mkwargs))\n",
            "File \u001b[1;32md:\\anaconda\\Lib\\site-packages\\torch\\utils\\_contextlib.py:56\u001b[0m, in \u001b[0;36m_wrap_generator.<locals>.generator_context\u001b[1;34m(*args, **kwargs)\u001b[0m\n\u001b[0;32m     53\u001b[0m         \u001b[38;5;28;01melse\u001b[39;00m:\n\u001b[0;32m     54\u001b[0m             \u001b[38;5;66;03m# Pass the last request to the generator and get its response\u001b[39;00m\n\u001b[0;32m     55\u001b[0m             \u001b[38;5;28;01mwith\u001b[39;00m ctx_factory():\n\u001b[1;32m---> 56\u001b[0m                 response \u001b[38;5;241m=\u001b[39m gen\u001b[38;5;241m.\u001b[39msend(request)\n\u001b[0;32m     58\u001b[0m \u001b[38;5;66;03m# We let the exceptions raised above by the generator's `.throw` or\u001b[39;00m\n\u001b[0;32m     59\u001b[0m \u001b[38;5;66;03m# `.send` methods bubble up to our caller, except for StopIteration\u001b[39;00m\n\u001b[0;32m     60\u001b[0m \u001b[38;5;28;01mexcept\u001b[39;00m \u001b[38;5;167;01mStopIteration\u001b[39;00m \u001b[38;5;28;01mas\u001b[39;00m e:\n\u001b[0;32m     61\u001b[0m     \u001b[38;5;66;03m# The generator informed us that it is done: take whatever its\u001b[39;00m\n\u001b[0;32m     62\u001b[0m     \u001b[38;5;66;03m# returned value (if any) was and indicate that we're done too\u001b[39;00m\n\u001b[0;32m     63\u001b[0m     \u001b[38;5;66;03m# by returning it (see docs for python's return-statement).\u001b[39;00m\n",
            "File \u001b[1;32md:\\anaconda\\Lib\\site-packages\\ultralytics\\engine\\predictor.py:238\u001b[0m, in \u001b[0;36mBasePredictor.stream_inference\u001b[1;34m(self, source, model, *args, **kwargs)\u001b[0m\n\u001b[0;32m    232\u001b[0m profilers \u001b[38;5;241m=\u001b[39m (\n\u001b[0;32m    233\u001b[0m     ops\u001b[38;5;241m.\u001b[39mProfile(device\u001b[38;5;241m=\u001b[39m\u001b[38;5;28mself\u001b[39m\u001b[38;5;241m.\u001b[39mdevice),\n\u001b[0;32m    234\u001b[0m     ops\u001b[38;5;241m.\u001b[39mProfile(device\u001b[38;5;241m=\u001b[39m\u001b[38;5;28mself\u001b[39m\u001b[38;5;241m.\u001b[39mdevice),\n\u001b[0;32m    235\u001b[0m     ops\u001b[38;5;241m.\u001b[39mProfile(device\u001b[38;5;241m=\u001b[39m\u001b[38;5;28mself\u001b[39m\u001b[38;5;241m.\u001b[39mdevice),\n\u001b[0;32m    236\u001b[0m )\n\u001b[0;32m    237\u001b[0m \u001b[38;5;28mself\u001b[39m\u001b[38;5;241m.\u001b[39mrun_callbacks(\u001b[38;5;124m\"\u001b[39m\u001b[38;5;124mon_predict_start\u001b[39m\u001b[38;5;124m\"\u001b[39m)\n\u001b[1;32m--> 238\u001b[0m \u001b[38;5;28;01mfor\u001b[39;00m \u001b[38;5;28mself\u001b[39m\u001b[38;5;241m.\u001b[39mbatch \u001b[38;5;129;01min\u001b[39;00m \u001b[38;5;28mself\u001b[39m\u001b[38;5;241m.\u001b[39mdataset:\n\u001b[0;32m    239\u001b[0m     \u001b[38;5;28mself\u001b[39m\u001b[38;5;241m.\u001b[39mrun_callbacks(\u001b[38;5;124m\"\u001b[39m\u001b[38;5;124mon_predict_batch_start\u001b[39m\u001b[38;5;124m\"\u001b[39m)\n\u001b[0;32m    240\u001b[0m     paths, im0s, s \u001b[38;5;241m=\u001b[39m \u001b[38;5;28mself\u001b[39m\u001b[38;5;241m.\u001b[39mbatch\n",
            "File \u001b[1;32md:\\anaconda\\Lib\\site-packages\\ultralytics\\data\\loaders.py:162\u001b[0m, in \u001b[0;36mLoadStreams.__next__\u001b[1;34m(self)\u001b[0m\n\u001b[0;32m    159\u001b[0m \u001b[38;5;28;01mfor\u001b[39;00m i, x \u001b[38;5;129;01min\u001b[39;00m \u001b[38;5;28menumerate\u001b[39m(\u001b[38;5;28mself\u001b[39m\u001b[38;5;241m.\u001b[39mimgs):\n\u001b[0;32m    160\u001b[0m     \u001b[38;5;66;03m# Wait until a frame is available in each buffer\u001b[39;00m\n\u001b[0;32m    161\u001b[0m     \u001b[38;5;28;01mwhile\u001b[39;00m \u001b[38;5;129;01mnot\u001b[39;00m x:\n\u001b[1;32m--> 162\u001b[0m         \u001b[38;5;28;01mif\u001b[39;00m \u001b[38;5;129;01mnot\u001b[39;00m \u001b[38;5;28mself\u001b[39m\u001b[38;5;241m.\u001b[39mthreads[i]\u001b[38;5;241m.\u001b[39mis_alive() \u001b[38;5;129;01mor\u001b[39;00m cv2\u001b[38;5;241m.\u001b[39mwaitKey(\u001b[38;5;241m1\u001b[39m) \u001b[38;5;241m==\u001b[39m \u001b[38;5;28mord\u001b[39m(\u001b[38;5;124m\"\u001b[39m\u001b[38;5;124mq\u001b[39m\u001b[38;5;124m\"\u001b[39m):  \u001b[38;5;66;03m# q to quit\u001b[39;00m\n\u001b[0;32m    163\u001b[0m             \u001b[38;5;28mself\u001b[39m\u001b[38;5;241m.\u001b[39mclose()\n\u001b[0;32m    164\u001b[0m             \u001b[38;5;28;01mraise\u001b[39;00m \u001b[38;5;167;01mStopIteration\u001b[39;00m\n",
            "\u001b[1;31merror\u001b[0m: OpenCV(4.8.1) D:\\a\\opencv-python\\opencv-python\\opencv\\modules\\highgui\\src\\window.cpp:1338: error: (-2:Unspecified error) The function is not implemented. Rebuild the library with Windows, GTK+ 2.x or Cocoa support. If you are on Ubuntu or Debian, install libgtk2.0-dev and pkg-config, then re-run cmake or configure script in function 'cvWaitKey'\n"
          ]
        },
        {
          "name": "stdout",
          "output_type": "stream",
          "text": [
            "WARNING  Video stream unresponsive, please check your IP camera connection.\n",
            "WARNING  Video stream unresponsive, please check your IP camera connection.\n",
            "WARNING  Video stream unresponsive, please check your IP camera connection.\n",
            "WARNING  Video stream unresponsive, please check your IP camera connection.\n",
            "WARNING  Video stream unresponsive, please check your IP camera connection.\n",
            "WARNING  Video stream unresponsive, please check your IP camera connection.\n",
            "WARNING  Video stream unresponsive, please check your IP camera connection.\n",
            "WARNING  Video stream unresponsive, please check your IP camera connection.\n",
            "WARNING  Video stream unresponsive, please check your IP camera connection.\n",
            "WARNING  Video stream unresponsive, please check your IP camera connection.\n",
            "WARNING  Video stream unresponsive, please check your IP camera connection.\n",
            "WARNING  Video stream unresponsive, please check your IP camera connection.\n",
            "WARNING  Video stream unresponsive, please check your IP camera connection.\n",
            "WARNING  Video stream unresponsive, please check your IP camera connection.\n",
            "WARNING  Video stream unresponsive, please check your IP camera connection.\n",
            "WARNING  Video stream unresponsive, please check your IP camera connection.\n",
            "WARNING  Video stream unresponsive, please check your IP camera connection.\n",
            "WARNING  Video stream unresponsive, please check your IP camera connection.\n",
            "WARNING  Video stream unresponsive, please check your IP camera connection.\n",
            "WARNING  Video stream unresponsive, please check your IP camera connection.\n",
            "WARNING  Video stream unresponsive, please check your IP camera connection.\n",
            "WARNING  Video stream unresponsive, please check your IP camera connection.\n",
            "WARNING  Video stream unresponsive, please check your IP camera connection.\n",
            "WARNING  Video stream unresponsive, please check your IP camera connection.\n",
            "WARNING  Video stream unresponsive, please check your IP camera connection.\n",
            "WARNING  Video stream unresponsive, please check your IP camera connection.\n",
            "WARNING  Video stream unresponsive, please check your IP camera connection.\n",
            "WARNING  Video stream unresponsive, please check your IP camera connection.\n",
            "WARNING  Video stream unresponsive, please check your IP camera connection.\n",
            "WARNING  Video stream unresponsive, please check your IP camera connection.\n",
            "WARNING  Video stream unresponsive, please check your IP camera connection.\n",
            "WARNING  Video stream unresponsive, please check your IP camera connection.\n",
            "WARNING  Video stream unresponsive, please check your IP camera connection.\n",
            "WARNING  Video stream unresponsive, please check your IP camera connection.\n",
            "WARNING  Video stream unresponsive, please check your IP camera connection.\n",
            "WARNING  Video stream unresponsive, please check your IP camera connection.\n",
            "WARNING  Video stream unresponsive, please check your IP camera connection.\n",
            "WARNING  Video stream unresponsive, please check your IP camera connection.\n",
            "WARNING  Video stream unresponsive, please check your IP camera connection.\n",
            "WARNING  Video stream unresponsive, please check your IP camera connection.\n",
            "WARNING  Video stream unresponsive, please check your IP camera connection.\n",
            "WARNING  Video stream unresponsive, please check your IP camera connection.\n",
            "WARNING  Video stream unresponsive, please check your IP camera connection.\n",
            "WARNING  Video stream unresponsive, please check your IP camera connection.\n",
            "WARNING  Video stream unresponsive, please check your IP camera connection.\n",
            "WARNING  Video stream unresponsive, please check your IP camera connection.\n",
            "WARNING  Video stream unresponsive, please check your IP camera connection.\n",
            "WARNING  Video stream unresponsive, please check your IP camera connection.\n",
            "WARNING  Video stream unresponsive, please check your IP camera connection.\n",
            "WARNING  Video stream unresponsive, please check your IP camera connection.\n",
            "WARNING  Video stream unresponsive, please check your IP camera connection.\n",
            "WARNING  Video stream unresponsive, please check your IP camera connection.\n",
            "WARNING  Video stream unresponsive, please check your IP camera connection.\n",
            "WARNING  Video stream unresponsive, please check your IP camera connection.\n",
            "WARNING  Video stream unresponsive, please check your IP camera connection.\n",
            "WARNING  Video stream unresponsive, please check your IP camera connection.\n",
            "WARNING  Video stream unresponsive, please check your IP camera connection.\n",
            "WARNING  Video stream unresponsive, please check your IP camera connection.\n",
            "WARNING  Video stream unresponsive, please check your IP camera connection.\n",
            "WARNING  Video stream unresponsive, please check your IP camera connection.\n",
            "WARNING  Video stream unresponsive, please check your IP camera connection.\n",
            "WARNING  Video stream unresponsive, please check your IP camera connection.\n",
            "WARNING  Video stream unresponsive, please check your IP camera connection.\n",
            "WARNING  Video stream unresponsive, please check your IP camera connection.\n",
            "WARNING  Video stream unresponsive, please check your IP camera connection.\n",
            "WARNING  Video stream unresponsive, please check your IP camera connection.\n",
            "WARNING  Video stream unresponsive, please check your IP camera connection.\n",
            "WARNING  Video stream unresponsive, please check your IP camera connection.\n",
            "WARNING  Video stream unresponsive, please check your IP camera connection.\n",
            "WARNING  Video stream unresponsive, please check your IP camera connection.\n",
            "WARNING  Video stream unresponsive, please check your IP camera connection.\n",
            "WARNING  Video stream unresponsive, please check your IP camera connection.\n",
            "WARNING  Video stream unresponsive, please check your IP camera connection.\n",
            "WARNING  Video stream unresponsive, please check your IP camera connection.\n",
            "WARNING  Video stream unresponsive, please check your IP camera connection.\n",
            "WARNING  Video stream unresponsive, please check your IP camera connection.\n",
            "WARNING  Video stream unresponsive, please check your IP camera connection.\n",
            "WARNING  Video stream unresponsive, please check your IP camera connection.\n",
            "WARNING  Video stream unresponsive, please check your IP camera connection.\n",
            "WARNING  Video stream unresponsive, please check your IP camera connection.\n",
            "WARNING  Video stream unresponsive, please check your IP camera connection.\n",
            "WARNING  Video stream unresponsive, please check your IP camera connection.\n",
            "WARNING  Video stream unresponsive, please check your IP camera connection.\n",
            "WARNING  Video stream unresponsive, please check your IP camera connection.\n",
            "WARNING  Video stream unresponsive, please check your IP camera connection.\n",
            "WARNING  Video stream unresponsive, please check your IP camera connection.\n",
            "WARNING  Video stream unresponsive, please check your IP camera connection.\n",
            "WARNING  Video stream unresponsive, please check your IP camera connection.\n",
            "WARNING  Video stream unresponsive, please check your IP camera connection.\n",
            "WARNING  Video stream unresponsive, please check your IP camera connection.\n",
            "WARNING  Video stream unresponsive, please check your IP camera connection.\n",
            "WARNING  Video stream unresponsive, please check your IP camera connection.\n",
            "WARNING  Video stream unresponsive, please check your IP camera connection.\n",
            "WARNING  Video stream unresponsive, please check your IP camera connection.\n",
            "WARNING  Video stream unresponsive, please check your IP camera connection.\n",
            "WARNING  Video stream unresponsive, please check your IP camera connection.\n",
            "WARNING  Video stream unresponsive, please check your IP camera connection.\n",
            "WARNING  Video stream unresponsive, please check your IP camera connection.\n",
            "WARNING  Video stream unresponsive, please check your IP camera connection.\n",
            "WARNING  Video stream unresponsive, please check your IP camera connection.\n",
            "WARNING  Video stream unresponsive, please check your IP camera connection.\n",
            "WARNING  Video stream unresponsive, please check your IP camera connection.\n",
            "WARNING  Video stream unresponsive, please check your IP camera connection.\n",
            "WARNING  Video stream unresponsive, please check your IP camera connection.\n",
            "WARNING  Video stream unresponsive, please check your IP camera connection.\n",
            "WARNING  Video stream unresponsive, please check your IP camera connection.\n",
            "WARNING  Video stream unresponsive, please check your IP camera connection.\n",
            "WARNING  Video stream unresponsive, please check your IP camera connection.\n",
            "WARNING  Video stream unresponsive, please check your IP camera connection.\n",
            "WARNING  Video stream unresponsive, please check your IP camera connection.\n",
            "WARNING  Video stream unresponsive, please check your IP camera connection.\n",
            "WARNING  Video stream unresponsive, please check your IP camera connection.\n",
            "WARNING  Video stream unresponsive, please check your IP camera connection.\n",
            "WARNING  Video stream unresponsive, please check your IP camera connection.\n",
            "WARNING  Video stream unresponsive, please check your IP camera connection.\n",
            "WARNING  Video stream unresponsive, please check your IP camera connection.\n",
            "WARNING  Video stream unresponsive, please check your IP camera connection.\n",
            "WARNING  Video stream unresponsive, please check your IP camera connection.\n"
          ]
        }
      ],
      "source": [
        "import numpy as np\n",
        "from ultralytics import YOLO\n",
        "\n",
        "\n",
        "result_model = './runs/classify/train18/weights/best.pt'\n",
        "\n",
        "\n",
        "model = YOLO(result_model)  # load a custom model\n",
        "\n",
        "results = model.predict('https://firebasestorage.googleapis.com/v0/b/pathfinder-bd7e8.appspot.com/o/image%2F02156625-8688-4519-937d-a761b379cbd9PotatoEarlyBlight2.JPG?alt=media&token=03290387-e36d-43b1-8a4f-589f981299a1',stream=False)  # predict on an image\n",
        "\n",
        "names_dict = results[0].names\n",
        "\n",
        "probs = results[0].probs.data.tolist()\n",
        "\n",
        "print(names_dict)\n",
        "print(probs)\n",
        "\n",
        "print(names_dict[np.argmax(probs)])"
      ]
    },
    {
      "cell_type": "code",
      "execution_count": 1,
      "metadata": {},
      "outputs": [
        {
          "name": "stdout",
          "output_type": "stream",
          "text": [
            "a\n"
          ]
        }
      ],
      "source": [
        "namesARR = [\"a\",\"a\",\"a\",\"b\",\"b\"]\n",
        "\n",
        "\n",
        "print(max(set(namesARR), key = namesARR.count))\n",
        "\n",
        "\n"
      ]
    },
    {
      "cell_type": "code",
      "execution_count": 3,
      "metadata": {},
      "outputs": [
        {
          "name": "stdout",
          "output_type": "stream",
          "text": [
            "WARNING  imgsz=[400] must be multiple of max stride 32, updating to [416]\n"
          ]
        },
        {
          "name": "stdout",
          "output_type": "stream",
          "text": [
            "Ultralytics YOLOv8.1.47  Python-3.11.7 torch-2.3.0 CUDA:0 (NVIDIA GeForce GTX 1650, 4096MiB)\n",
            "YOLOv8n-cls summary (fused): 73 layers, 1483558 parameters, 0 gradients, 3.3 GFLOPs\n",
            "\u001b[34m\u001b[1mtrain:\u001b[0m D:\\Work\\ProjectC-Model\\notebook\\Data\\smallData\\train... found 70295 images in 38 classes  \n",
            "\u001b[34m\u001b[1mval:\u001b[0m D:\\Work\\ProjectC-Model\\notebook\\Data\\smallData\\val... found 17572 images in 38 classes  \n",
            "\u001b[34m\u001b[1mtest:\u001b[0m D:\\Work\\ProjectC-Model\\notebook\\Data\\smallData\\test... found 33 images in 8 classes: ERROR  requires 38 classes, not 8\n"
          ]
        },
        {
          "name": "stderr",
          "output_type": "stream",
          "text": [
            "\u001b[34m\u001b[1mval: \u001b[0mScanning D:\\Work\\ProjectC-Model\\notebook\\Data\\smallData\\val... 17572 images, 0 corrupt: 100%|██████████| 17572/17572 [00:00<?, ?it/s]\n",
            "               classes   top1_acc   top5_acc: 100%|██████████| 1099/1099 [01:31<00:00, 12.01it/s]\n"
          ]
        },
        {
          "name": "stdout",
          "output_type": "stream",
          "text": [
            "                   all      0.999          1\n",
            "Speed: 0.4ms preprocess, 1.6ms inference, 0.0ms loss, 0.0ms postprocess per image\n",
            "Results saved to \u001b[1mruns\\classify\\val5\u001b[0m\n"
          ]
        },
        {
          "data": {
            "text/plain": [
              "ultralytics.utils.metrics.ClassifyMetrics object with attributes:\n",
              "\n",
              "confusion_matrix: <ultralytics.utils.metrics.ConfusionMatrix object at 0x00000203787D2E50>\n",
              "curves: []\n",
              "curves_results: []\n",
              "fitness: 0.9992601573467255\n",
              "keys: ['metrics/accuracy_top1', 'metrics/accuracy_top5']\n",
              "results_dict: {'metrics/accuracy_top1': 0.9985772371292114, 'metrics/accuracy_top5': 0.9999430775642395, 'fitness': 0.9992601573467255}\n",
              "save_dir: WindowsPath('runs/classify/val5')\n",
              "speed: {'preprocess': 0.4114759909979119, 'inference': 1.5983076945486574, 'loss': 0.0023647291416625834, 'postprocess': 0.0013371358394297169}\n",
              "task: 'classify'\n",
              "top1: 0.9985772371292114\n",
              "top5: 0.9999430775642395"
            ]
          },
          "execution_count": 3,
          "metadata": {},
          "output_type": "execute_result"
        }
      ],
      "source": [
        "import os \n",
        "from ultralytics import YOLO\n",
        "\n",
        "result_model = './runs/classify/train18/weights/best.pt'\n",
        "\n",
        "\n",
        "model = YOLO(result_model)\n",
        "\n",
        "model.val(data=HOME+'/Data/smallData', imgsz=400)\n"
      ]
    },
    {
      "cell_type": "code",
      "execution_count": 4,
      "metadata": {},
      "outputs": [
        {
          "data": {
            "text/plain": [
              "<Figure size 640x480 with 1 Axes>"
            ]
          },
          "metadata": {},
          "output_type": "display_data"
        },
        {
          "data": {
            "text/plain": [
              "<Figure size 640x480 with 1 Axes>"
            ]
          },
          "metadata": {},
          "output_type": "display_data"
        }
      ],
      "source": [
        "import os\n",
        "import pandas as pd\n",
        "import matplotlib.pyplot as plt\n",
        "\n",
        "\n",
        "results_path = './runs/classify/train18/results.csv'\n",
        "\n",
        "results = pd.read_csv(results_path)\n",
        "\n",
        "plt.figure()\n",
        "plt.plot(results['                  epoch'], results['             train/loss'], label='train loss')\n",
        "plt.plot(results['                  epoch'], results['               val/loss'] ,label='val loss', c='red')\n",
        "plt.grid()\n",
        "plt.title('Loss vs epochs')\n",
        "plt.ylabel('loss')\n",
        "plt.xlabel('epochs')\n",
        "plt.legend()\n",
        "\n",
        "\n",
        "plt.figure()\n",
        "plt.plot(results['                  epoch'], results['  metrics/accuracy_top1'] * 100 , label='top1 accuracy')\n",
        "plt.plot(results['                  epoch'], results['  metrics/accuracy_top5'] * 100 , label='top5 accuracy',)\n",
        "plt.grid()\n",
        "plt.title('Validation accuracy vs epochs')\n",
        "plt.ylabel('accuracy (%)')\n",
        "plt.xlabel('epochs')\n",
        "\n",
        "\n",
        "\n",
        "plt.show()\n"
      ]
    }
  ],
  "metadata": {
    "accelerator": "GPU",
    "colab": {
      "gpuType": "T4",
      "include_colab_link": true,
      "provenance": []
    },
    "kernelspec": {
      "display_name": "Python 3",
      "name": "python3"
    },
    "language_info": {
      "codemirror_mode": {
        "name": "ipython",
        "version": 3
      },
      "file_extension": ".py",
      "mimetype": "text/x-python",
      "name": "python",
      "nbconvert_exporter": "python",
      "pygments_lexer": "ipython3",
      "version": "3.11.7"
    }
  },
  "nbformat": 4,
  "nbformat_minor": 0
}
