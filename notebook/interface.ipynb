{
  "cells": [
    {
      "cell_type": "markdown",
      "metadata": {
        "colab_type": "text",
        "id": "view-in-github"
      },
      "source": [
        "<a href=\"https://colab.research.google.com/github/Narutchai01/ProjectC-Model/blob/main/notebook/interface.ipynb\" target=\"_parent\"><img src=\"https://colab.research.google.com/assets/colab-badge.svg\" alt=\"Open In Colab\"/></a>"
      ]
    },
    {
      "cell_type": "code",
      "execution_count": 1,
      "metadata": {},
      "outputs": [
        {
          "name": "stdout",
          "output_type": "stream",
          "text": [
            "Fri Apr 12 00:37:13 2024       \n",
            "+---------------------------------------------------------------------------------------+\n",
            "| NVIDIA-SMI 546.33                 Driver Version: 546.33       CUDA Version: 12.3     |\n",
            "|-----------------------------------------+----------------------+----------------------+\n",
            "| GPU  Name                     TCC/WDDM  | Bus-Id        Disp.A | Volatile Uncorr. ECC |\n",
            "| Fan  Temp   Perf          Pwr:Usage/Cap |         Memory-Usage | GPU-Util  Compute M. |\n",
            "|                                         |                      |               MIG M. |\n",
            "|=========================================+======================+======================|\n",
            "|   0  NVIDIA GeForce GTX 1650      WDDM  | 00000000:01:00.0  On |                  N/A |\n",
            "| N/A   53C    P8               3W /  61W |   1369MiB /  4096MiB |      5%      Default |\n",
            "|                                         |                      |                  N/A |\n",
            "+-----------------------------------------+----------------------+----------------------+\n",
            "                                                                                         \n",
            "+---------------------------------------------------------------------------------------+\n",
            "| Processes:                                                                            |\n",
            "|  GPU   GI   CI        PID   Type   Process name                            GPU Memory |\n",
            "|        ID   ID                                                             Usage      |\n",
            "|=======================================================================================|\n",
            "|    0   N/A  N/A      6892    C+G   C:\\Windows\\explorer.exe                   N/A      |\n",
            "|    0   N/A  N/A      8576    C+G   ...ograms\\cron-web\\Notion Calendar.exe    N/A      |\n",
            "|    0   N/A  N/A      9128    C+G   ...63.0_x64__zpdnekdrzrea0\\Spotify.exe    N/A      |\n",
            "|    0   N/A  N/A     11676    C+G   ...Brave-Browser\\Application\\brave.exe    N/A      |\n",
            "|    0   N/A  N/A     12496    C+G   ...nt.CBS_cw5n1h2txyewy\\SearchHost.exe    N/A      |\n",
            "|    0   N/A  N/A     12532    C+G   ...2txyewy\\StartMenuExperienceHost.exe    N/A      |\n",
            "|    0   N/A  N/A     13772    C+G   ...siveControlPanel\\SystemSettings.exe    N/A      |\n",
            "|    0   N/A  N/A     13856    C+G   ...GeForce Experience\\NVIDIA Share.exe    N/A      |\n",
            "|    0   N/A  N/A     16120    C+G   ...t.LockApp_cw5n1h2txyewy\\LockApp.exe    N/A      |\n",
            "|    0   N/A  N/A     16480    C+G   ...US\\ArmouryDevice\\asus_framework.exe    N/A      |\n",
            "|    0   N/A  N/A     17168    C+G   ...5n1h2txyewy\\ShellExperienceHost.exe    N/A      |\n",
            "|    0   N/A  N/A     18272    C+G   ...GeForce Experience\\NVIDIA Share.exe    N/A      |\n",
            "|    0   N/A  N/A     19132    C+G   ...CBS_cw5n1h2txyewy\\TextInputHost.exe    N/A      |\n",
            "|    0   N/A  N/A     20740    C+G   ...crosoft\\Edge\\Application\\msedge.exe    N/A      |\n",
            "|    0   N/A  N/A     21576    C+G   ...nr4m\\radeonsoftware\\AMDRSSrcExt.exe    N/A      |\n",
            "|    0   N/A  N/A     22740    C+G   ...les\\Microsoft OneDrive\\OneDrive.exe    N/A      |\n",
            "|    0   N/A  N/A     23108    C+G   ...al\\Discord\\app-1.0.9041\\Discord.exe    N/A      |\n",
            "|    0   N/A  N/A     23936    C+G   D:\\Microsoft VS Code\\Code.exe             N/A      |\n",
            "|    0   N/A  N/A     23940    C+G   ...al\\Discord\\app-1.0.9041\\Discord.exe    N/A      |\n",
            "|    0   N/A  N/A     25692    C+G   ...B\\system_tray\\lghub_system_tray.exe    N/A      |\n",
            "|    0   N/A  N/A     26976    C+G   ...m\\radeonsoftware\\RadeonSoftware.exe    N/A      |\n",
            "|    0   N/A  N/A     27052    C+G   ...m Files (x86)\\Overwolf\\Overwolf.exe    N/A      |\n",
            "|    0   N/A  N/A     27084    C+G   ...\\Docker\\frontend\\Docker Desktop.exe    N/A      |\n",
            "|    0   N/A  N/A     29640    C+G   ...esktop\\app-3.3.13\\GitHubDesktop.exe    N/A      |\n",
            "|    0   N/A  N/A     30244    C+G   ...rwolf\\0.243.1.1\\OverwolfBrowser.exe    N/A      |\n",
            "|    0   N/A  N/A     30328    C+G   ...64__8xx8rvfyw5nnt\\app\\Messenger.exe    N/A      |\n",
            "|    0   N/A  N/A     30532    C+G   ...pcy8vm99wrpcg\\ModernFlyoutsHost.exe    N/A      |\n",
            "|    0   N/A  N/A     32648    C+G   ...500_x64__8wekyb3d8bbwe\\ms-teams.exe    N/A      |\n",
            "|    0   N/A  N/A     32776    C+G   ...on\\123.0.2420.81\\msedgewebview2.exe    N/A      |\n",
            "|    0   N/A  N/A     34196    C+G   ...on\\123.0.2420.81\\msedgewebview2.exe    N/A      |\n",
            "+---------------------------------------------------------------------------------------+\n"
          ]
        }
      ],
      "source": [
        "!nvidia-smi"
      ]
    },
    {
      "cell_type": "code",
      "execution_count": null,
      "metadata": {
        "id": "Wx9SXD40bKgj"
      },
      "outputs": [],
      "source": [
        "from google.colab import drive"
      ]
    },
    {
      "cell_type": "code",
      "execution_count": null,
      "metadata": {
        "id": "3Gm9fe7idr5S"
      },
      "outputs": [],
      "source": [
        "drive.mount('/content/gdrive')"
      ]
    },
    {
      "cell_type": "code",
      "execution_count": null,
      "metadata": {
        "id": "ndaI3rXtdsE3"
      },
      "outputs": [],
      "source": [
        "!unzip gdrive/MyDrive/DateSet/archive.zip"
      ]
    },
    {
      "cell_type": "code",
      "execution_count": null,
      "metadata": {
        "id": "l2dwy-aedpod"
      },
      "outputs": [],
      "source": [
        "!unzip gdrive/MyDrive/DateSet/Dataset\\ for\\ Crop\\ Pest\\ and\\ Disease\\ Detection.zip"
      ]
    },
    {
      "cell_type": "code",
      "execution_count": null,
      "metadata": {
        "id": "VSmBISksdu6S"
      },
      "outputs": [],
      "source": [
        "%pip install ultralytics\n",
        "%pip install -r requirements.txt"
      ]
    },
    {
      "cell_type": "code",
      "execution_count": null,
      "metadata": {},
      "outputs": [],
      "source": [
        "%pip install -U ultralytics"
      ]
    },
    {
      "cell_type": "code",
      "execution_count": 2,
      "metadata": {},
      "outputs": [
        {
          "name": "stdout",
          "output_type": "stream",
          "text": [
            "d:\\Work\\ProjectC-Model\\notebook\n"
          ]
        }
      ],
      "source": [
        "import os\n",
        "\n",
        "HOME = os.getcwd()\n",
        "\n",
        "print(HOME)"
      ]
    },
    {
      "cell_type": "code",
      "execution_count": 4,
      "metadata": {},
      "outputs": [
        {
          "name": "stdout",
          "output_type": "stream",
          "text": [
            "Ultralytics YOLOv8.1.47  Python-3.11.5 torch-2.2.0 CUDA:0 (NVIDIA GeForce GTX 1650, 4096MiB)\n",
            "\u001b[34m\u001b[1mengine\\trainer: \u001b[0mtask=classify, mode=train, model=yolov8n-cls.pt, data=d:\\Work\\ProjectC-Model\\notebook/Data/NewDataSet/Data, epochs=5, time=None, patience=100, batch=16, imgsz=400, save=True, save_period=-1, cache=False, device=None, workers=8, project=None, name=train6, exist_ok=False, pretrained=True, optimizer=auto, verbose=True, seed=0, deterministic=True, single_cls=False, rect=False, cos_lr=False, close_mosaic=10, resume=False, amp=True, fraction=1.0, profile=False, freeze=None, multi_scale=False, overlap_mask=True, mask_ratio=4, dropout=0.0, val=True, split=val, save_json=False, save_hybrid=False, conf=None, iou=0.7, max_det=300, half=False, dnn=False, plots=True, source=None, vid_stride=1, stream_buffer=False, visualize=False, augment=False, agnostic_nms=False, classes=None, retina_masks=False, embed=None, show=False, save_frames=False, save_txt=False, save_conf=False, save_crop=False, show_labels=True, show_conf=True, show_boxes=True, line_width=None, format=torchscript, keras=False, optimize=False, int8=False, dynamic=False, simplify=False, opset=None, workspace=4, nms=False, lr0=0.01, lrf=0.01, momentum=0.937, weight_decay=0.0005, warmup_epochs=3.0, warmup_momentum=0.8, warmup_bias_lr=0.1, box=7.5, cls=0.5, dfl=1.5, pose=12.0, kobj=1.0, label_smoothing=0.0, nbs=64, hsv_h=0.015, hsv_s=0.7, hsv_v=0.4, degrees=0.0, translate=0.1, scale=0.5, shear=0.0, perspective=0.0, flipud=0.0, fliplr=0.5, bgr=0.0, mosaic=1.0, mixup=0.0, copy_paste=0.0, auto_augment=randaugment, erasing=0.4, crop_fraction=1.0, cfg=None, tracker=botsort.yaml, save_dir=runs\\classify\\train6\n",
            "\u001b[34m\u001b[1mtrain:\u001b[0m D:\\Work\\ProjectC-Model\\notebook\\Data\\NewDataSet\\Data\\train... found 118256 images in 35 classes  \n",
            "\u001b[34m\u001b[1mval:\u001b[0m None...\n",
            "\u001b[34m\u001b[1mtest:\u001b[0m D:\\Work\\ProjectC-Model\\notebook\\Data\\NewDataSet\\Data\\test... found 33721 images in 34 classes: ERROR  requires 35 classes, not 34\n",
            "Overriding model.yaml nc=1000 with nc=35\n",
            "\n",
            "                   from  n    params  module                                       arguments                     \n",
            "  0                  -1  1       464  ultralytics.nn.modules.conv.Conv             [3, 16, 3, 2]                 \n",
            "  1                  -1  1      4672  ultralytics.nn.modules.conv.Conv             [16, 32, 3, 2]                \n",
            "  2                  -1  1      7360  ultralytics.nn.modules.block.C2f             [32, 32, 1, True]             \n",
            "  3                  -1  1     18560  ultralytics.nn.modules.conv.Conv             [32, 64, 3, 2]                \n",
            "  4                  -1  2     49664  ultralytics.nn.modules.block.C2f             [64, 64, 2, True]             \n",
            "  5                  -1  1     73984  ultralytics.nn.modules.conv.Conv             [64, 128, 3, 2]               \n",
            "  6                  -1  2    197632  ultralytics.nn.modules.block.C2f             [128, 128, 2, True]           \n",
            "  7                  -1  1    295424  ultralytics.nn.modules.conv.Conv             [128, 256, 3, 2]              \n",
            "  8                  -1  1    460288  ultralytics.nn.modules.block.C2f             [256, 256, 1, True]           \n",
            "  9                  -1  1    375075  ultralytics.nn.modules.head.Classify         [256, 35]                     \n",
            "YOLOv8n-cls summary: 99 layers, 1483123 parameters, 1483123 gradients, 3.4 GFLOPs\n",
            "Transferred 156/158 items from pretrained weights\n",
            "\u001b[34m\u001b[1mTensorBoard: \u001b[0mStart with 'tensorboard --logdir runs\\classify\\train6', view at http://localhost:6006/\n",
            "\u001b[34m\u001b[1mAMP: \u001b[0mrunning Automatic Mixed Precision (AMP) checks with YOLOv8n...\n",
            "\u001b[34m\u001b[1mAMP: \u001b[0mchecks passed \n",
            "WARNING  imgsz=[400] must be multiple of max stride 32, updating to [416]\n"
          ]
        },
        {
          "name": "stderr",
          "output_type": "stream",
          "text": [
            "\u001b[34m\u001b[1mtrain: \u001b[0mScanning D:\\Work\\ProjectC-Model\\notebook\\Data\\NewDataSet\\Data\\train... 118256 images, 0 corrupt: 100%|██████████| 118256/118256 [02:08<00:00, 918.16it/s]\n"
          ]
        },
        {
          "name": "stdout",
          "output_type": "stream",
          "text": [
            "\u001b[34m\u001b[1mtrain: \u001b[0mNew cache created: D:\\Work\\ProjectC-Model\\notebook\\Data\\NewDataSet\\Data\\train.cache\n"
          ]
        },
        {
          "name": "stderr",
          "output_type": "stream",
          "text": [
            "\u001b[34m\u001b[1mval: \u001b[0mScanning D:\\Work\\ProjectC-Model\\notebook\\Data\\NewDataSet\\Data\\test... 33721 images, 0 corrupt: 100%|██████████| 33721/33721 [00:37<00:00, 891.89it/s]\n"
          ]
        },
        {
          "name": "stdout",
          "output_type": "stream",
          "text": [
            "\u001b[34m\u001b[1mval: \u001b[0mNew cache created: D:\\Work\\ProjectC-Model\\notebook\\Data\\NewDataSet\\Data\\test.cache\n"
          ]
        }
      ],
      "source": [
        "from ultralytics import YOLO\n",
        "\n",
        "\n",
        "model = YOLO('yolov8n-cls.pt')\n",
        "\n",
        "model.train(data=HOME+'/Data/NewDataSet/Data', epochs=5, imgsz=400)"
      ]
    },
    {
      "cell_type": "code",
      "execution_count": 2,
      "metadata": {},
      "outputs": [
        {
          "name": "stdout",
          "output_type": "stream",
          "text": [
            "\n",
            "image 1/1 D:\\Work\\ProjectC-Model\\notebook\\Data\\TestDataSet\\Cashew\\test\\anthracnose\\0cashew_valid_anthracnose.JPG: 416x416 healthy5877 0.76, anthracnose3102 0.11, leaf miner3466 0.06, red rust4751 0.06, gumosis1714 0.00, 5.0ms\n",
            "Speed: 12.0ms preprocess, 5.0ms inference, 0.0ms postprocess per image at shape (1, 3, 416, 416)\n",
            "{0: 'anthracnose3102', 1: 'gumosis1714', 2: 'healthy5877', 3: 'leaf miner3466', 4: 'red rust4751'}\n",
            "[0.1147160604596138, 0.0008533014915883541, 0.7649934887886047, 0.060572654008865356, 0.058864474296569824]\n",
            "healthy5877\n"
          ]
        }
      ],
      "source": [
        "import numpy as np\n",
        "from ultralytics import YOLO\n",
        "\n",
        "\n",
        "model = YOLO('D:/Work/ProjectC-Model/notebook/runs/classify/train\\weights/best.pt')  # load a custom model\n",
        "\n",
        "results = model('D:/Work/ProjectC-Model/notebook/Data/TestDataSet\\Cashew/test/anthracnose/0cashew_valid_anthracnose.JPG')  # predict on an image\n",
        "\n",
        "names_dict = results[0].names\n",
        "\n",
        "probs = results[0].probs.data.tolist()\n",
        "\n",
        "print(names_dict)\n",
        "print(probs)\n",
        "\n",
        "print(names_dict[np.argmax(probs)])"
      ]
    },
    {
      "cell_type": "code",
      "execution_count": 1,
      "metadata": {},
      "outputs": [
        {
          "name": "stdout",
          "output_type": "stream",
          "text": [
            "a\n"
          ]
        }
      ],
      "source": [
        "namesARR = [\"a\",\"a\",\"a\",\"b\",\"b\"]\n",
        "\n",
        "\n",
        "print(max(set(namesARR), key = namesARR.count))\n",
        "\n",
        "\n"
      ]
    },
    {
      "cell_type": "code",
      "execution_count": 1,
      "metadata": {},
      "outputs": [
        {
          "data": {
            "image/png": "[encoded data removed]",
            "text/plain": [
              "<Figure size 640x480 with 1 Axes>"
            ]
          },
          "metadata": {},
          "output_type": "display_data"
        },
        {
          "data": {
            "image/png": "[encoded data removed]",
            "text/plain": [
              "<Figure size 640x480 with 1 Axes>"
            ]
          },
          "metadata": {},
          "output_type": "display_data"
        }
      ],
      "source": [
        "import os\n",
        "import pandas as pd\n",
        "import matplotlib.pyplot as plt\n",
        "\n",
        "\n",
        "results_path = 'D:/Work/ProjectC-Model/notebook/runs/classify/train/results.csv'\n",
        "\n",
        "results = pd.read_csv(results_path)\n",
        "\n",
        "plt.figure()\n",
        "plt.plot(results['                  epoch'], results['             train/loss'], label='train loss')\n",
        "plt.plot(results['                  epoch'], results['               val/loss'], label='val loss', c='red')\n",
        "plt.grid()\n",
        "plt.title('Loss vs epochs')\n",
        "plt.ylabel('loss')\n",
        "plt.xlabel('epochs')\n",
        "plt.legend()\n",
        "\n",
        "\n",
        "plt.figure()\n",
        "plt.plot(results['                  epoch'], results['  metrics/accuracy_top1'] * 100)\n",
        "plt.grid()\n",
        "plt.title('Validation accuracy vs epochs')\n",
        "plt.ylabel('accuracy (%)')\n",
        "plt.xlabel('epochs')\n",
        "\n",
        "plt.show()\n"
      ]
    }
  ],
  "metadata": {
    "accelerator": "GPU",
    "colab": {
      "gpuType": "T4",
      "include_colab_link": true,
      "provenance": []
    },
    "kernelspec": {
      "display_name": "Python 3",
      "name": "python3"
    },
    "language_info": {
      "codemirror_mode": {
        "name": "ipython",
        "version": 3
      },
      "file_extension": ".py",
      "mimetype": "text/x-python",
      "name": "python",
      "nbconvert_exporter": "python",
      "pygments_lexer": "ipython3",
      "version": "3.11.5"
    }
  },
  "nbformat": 4,
  "nbformat_minor": 0
}
