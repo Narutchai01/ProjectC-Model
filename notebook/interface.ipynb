{
  "cells": [
    {
      "cell_type": "markdown",
      "metadata": {
        "colab_type": "text",
        "id": "view-in-github"
      },
      "source": [
        "<a href=\"https://colab.research.google.com/github/Narutchai01/ProjectC-Model/blob/main/notebook/interface.ipynb\" target=\"_parent\"><img src=\"https://colab.research.google.com/assets/colab-badge.svg\" alt=\"Open In Colab\"/></a>"
      ]
    },
    {
      "cell_type": "code",
      "execution_count": 1,
      "metadata": {},
      "outputs": [
        {
          "name": "stdout",
          "output_type": "stream",
          "text": [
            "Tue May  7 14:52:53 2024       \n",
            "+-----------------------------------------------------------------------------------------+\n",
            "| NVIDIA-SMI 552.22                 Driver Version: 552.22         CUDA Version: 12.4     |\n",
            "|-----------------------------------------+------------------------+----------------------+\n",
            "| GPU  Name                     TCC/WDDM  | Bus-Id          Disp.A | Volatile Uncorr. ECC |\n",
            "| Fan  Temp   Perf          Pwr:Usage/Cap |           Memory-Usage | GPU-Util  Compute M. |\n",
            "|                                         |                        |               MIG M. |\n",
            "|=========================================+========================+======================|\n",
            "|   0  NVIDIA GeForce RTX 4070 Ti   WDDM  |   00000000:01:00.0  On |                  N/A |\n",
            "|  0%   36C    P8             12W /  285W |     763MiB /  12282MiB |      2%      Default |\n",
            "|                                         |                        |                  N/A |\n",
            "+-----------------------------------------+------------------------+----------------------+\n",
            "                                                                                         \n",
            "+-----------------------------------------------------------------------------------------+\n",
            "| Processes:                                                                              |\n",
            "|  GPU   GI   CI        PID   Type   Process name                              GPU Memory |\n",
            "|        ID   ID                                                               Usage      |\n",
            "|=========================================================================================|\n",
            "|    0   N/A  N/A      7084    C+G   C:\\Windows\\explorer.exe                     N/A      |\n",
            "|    0   N/A  N/A      7220    C+G   ...2txyewy\\StartMenuExperienceHost.exe      N/A      |\n",
            "|    0   N/A  N/A      8588    C+G   ...on\\124.0.2478.80\\msedgewebview2.exe      N/A      |\n",
            "|    0   N/A  N/A     10104    C+G   ...t.LockApp_cw5n1h2txyewy\\LockApp.exe      N/A      |\n",
            "|    0   N/A  N/A     10380    C+G   ...GeForce Experience\\NVIDIA Share.exe      N/A      |\n",
            "|    0   N/A  N/A     11328    C+G   ...crosoft\\Edge\\Application\\msedge.exe      N/A      |\n",
            "|    0   N/A  N/A     12844    C+G   ...5n1h2txyewy\\ShellExperienceHost.exe      N/A      |\n",
            "|    0   N/A  N/A     13836    C+G   ...siveControlPanel\\SystemSettings.exe      N/A      |\n",
            "|    0   N/A  N/A     13860    C+G   ...nt.CBS_cw5n1h2txyewy\\SearchHost.exe      N/A      |\n",
            "|    0   N/A  N/A     14460    C+G   E:\\Programs\\Microsoft VS Code\\Code.exe      N/A      |\n",
            "|    0   N/A  N/A     15996    C+G   ...__8wekyb3d8bbwe\\WindowsTerminal.exe      N/A      |\n",
            "+-----------------------------------------------------------------------------------------+\n"
          ]
        }
      ],
      "source": [
        "!nvidia-smi"
      ]
    },
    {
      "cell_type": "code",
      "execution_count": null,
      "metadata": {
        "id": "Wx9SXD40bKgj"
      },
      "outputs": [],
      "source": [
        "from google.colab import drive"
      ]
    },
    {
      "cell_type": "code",
      "execution_count": null,
      "metadata": {
        "id": "3Gm9fe7idr5S"
      },
      "outputs": [],
      "source": [
        "drive.mount('/content/gdrive')"
      ]
    },
    {
      "cell_type": "code",
      "execution_count": null,
      "metadata": {
        "id": "ndaI3rXtdsE3"
      },
      "outputs": [],
      "source": [
        "!unzip gdrive/MyDrive/DateSet/archive.zip"
      ]
    },
    {
      "cell_type": "code",
      "execution_count": null,
      "metadata": {
        "id": "l2dwy-aedpod"
      },
      "outputs": [],
      "source": [
        "!unzip gdrive/MyDrive/DateSet/Dataset\\ for\\ Crop\\ Pest\\ and\\ Disease\\ Detection.zip"
      ]
    },
    {
      "cell_type": "code",
      "execution_count": null,
      "metadata": {
        "id": "VSmBISksdu6S"
      },
      "outputs": [],
      "source": [
        "%pip install ultralytics\n",
        "%pip install -r requirements.txt"
      ]
    },
    {
      "cell_type": "code",
      "execution_count": 3,
      "metadata": {},
      "outputs": [
        {
          "name": "stdout",
          "output_type": "stream",
          "text": [
            "Collecting ultralytics\n",
            "  Using cached ultralytics-8.2.10-py3-none-any.whl.metadata (40 kB)\n",
            "Requirement already satisfied: matplotlib>=3.3.0 in e:\\programs\\anaconda\\lib\\site-packages (from ultralytics) (3.8.0)\n",
            "Collecting opencv-python>=4.6.0 (from ultralytics)\n",
            "  Using cached opencv_python-4.9.0.80-cp37-abi3-win_amd64.whl.metadata (20 kB)\n",
            "Requirement already satisfied: pillow>=7.1.2 in e:\\programs\\anaconda\\lib\\site-packages (from ultralytics) (10.2.0)\n",
            "Requirement already satisfied: pyyaml>=5.3.1 in e:\\programs\\anaconda\\lib\\site-packages (from ultralytics) (6.0.1)\n",
            "Requirement already satisfied: requests>=2.23.0 in e:\\programs\\anaconda\\lib\\site-packages (from ultralytics) (2.31.0)\n",
            "Requirement already satisfied: scipy>=1.4.1 in e:\\programs\\anaconda\\lib\\site-packages (from ultralytics) (1.10.1)\n",
            "Requirement already satisfied: torch>=1.8.0 in e:\\programs\\anaconda\\lib\\site-packages (from ultralytics) (2.3.0)\n",
            "Requirement already satisfied: torchvision>=0.9.0 in e:\\programs\\anaconda\\lib\\site-packages (from ultralytics) (0.18.0)\n",
            "Requirement already satisfied: tqdm>=4.64.0 in e:\\programs\\anaconda\\lib\\site-packages (from ultralytics) (4.65.0)\n",
            "Requirement already satisfied: psutil in e:\\programs\\anaconda\\lib\\site-packages (from ultralytics) (5.9.0)\n",
            "Requirement already satisfied: py-cpuinfo in e:\\programs\\anaconda\\lib\\site-packages (from ultralytics) (9.0.0)\n",
            "Collecting thop>=0.1.1 (from ultralytics)\n",
            "  Using cached thop-0.1.1.post2209072238-py3-none-any.whl.metadata (2.7 kB)\n",
            "Requirement already satisfied: pandas>=1.1.4 in e:\\programs\\anaconda\\lib\\site-packages (from ultralytics) (2.1.4)\n",
            "Requirement already satisfied: seaborn>=0.11.0 in e:\\programs\\anaconda\\lib\\site-packages (from ultralytics) (0.12.2)\n",
            "Requirement already satisfied: contourpy>=1.0.1 in e:\\programs\\anaconda\\lib\\site-packages (from matplotlib>=3.3.0->ultralytics) (1.2.0)\n",
            "Requirement already satisfied: cycler>=0.10 in e:\\programs\\anaconda\\lib\\site-packages (from matplotlib>=3.3.0->ultralytics) (0.11.0)\n",
            "Requirement already satisfied: fonttools>=4.22.0 in e:\\programs\\anaconda\\lib\\site-packages (from matplotlib>=3.3.0->ultralytics) (4.25.0)\n",
            "Requirement already satisfied: kiwisolver>=1.0.1 in e:\\programs\\anaconda\\lib\\site-packages (from matplotlib>=3.3.0->ultralytics) (1.4.4)\n",
            "Requirement already satisfied: numpy<2,>=1.21 in e:\\programs\\anaconda\\lib\\site-packages (from matplotlib>=3.3.0->ultralytics) (1.24.3)\n",
            "Requirement already satisfied: packaging>=20.0 in e:\\programs\\anaconda\\lib\\site-packages (from matplotlib>=3.3.0->ultralytics) (23.1)\n",
            "Requirement already satisfied: pyparsing>=2.3.1 in e:\\programs\\anaconda\\lib\\site-packages (from matplotlib>=3.3.0->ultralytics) (3.0.9)\n",
            "Requirement already satisfied: python-dateutil>=2.7 in e:\\programs\\anaconda\\lib\\site-packages (from matplotlib>=3.3.0->ultralytics) (2.8.2)\n",
            "Requirement already satisfied: pytz>=2020.1 in e:\\programs\\anaconda\\lib\\site-packages (from pandas>=1.1.4->ultralytics) (2023.3.post1)\n",
            "Requirement already satisfied: tzdata>=2022.1 in e:\\programs\\anaconda\\lib\\site-packages (from pandas>=1.1.4->ultralytics) (2023.3)\n",
            "Requirement already satisfied: charset-normalizer<4,>=2 in e:\\programs\\anaconda\\lib\\site-packages (from requests>=2.23.0->ultralytics) (2.0.4)\n",
            "Requirement already satisfied: idna<4,>=2.5 in e:\\programs\\anaconda\\lib\\site-packages (from requests>=2.23.0->ultralytics) (3.4)\n",
            "Requirement already satisfied: urllib3<3,>=1.21.1 in e:\\programs\\anaconda\\lib\\site-packages (from requests>=2.23.0->ultralytics) (2.0.7)\n",
            "Requirement already satisfied: certifi>=2017.4.17 in e:\\programs\\anaconda\\lib\\site-packages (from requests>=2.23.0->ultralytics) (2024.2.2)\n",
            "Requirement already satisfied: filelock in e:\\programs\\anaconda\\lib\\site-packages (from torch>=1.8.0->ultralytics) (3.13.1)\n",
            "Requirement already satisfied: typing-extensions>=4.8.0 in e:\\programs\\anaconda\\lib\\site-packages (from torch>=1.8.0->ultralytics) (4.9.0)\n",
            "Requirement already satisfied: sympy in e:\\programs\\anaconda\\lib\\site-packages (from torch>=1.8.0->ultralytics) (1.12)\n",
            "Requirement already satisfied: networkx in e:\\programs\\anaconda\\lib\\site-packages (from torch>=1.8.0->ultralytics) (3.1)\n",
            "Requirement already satisfied: jinja2 in e:\\programs\\anaconda\\lib\\site-packages (from torch>=1.8.0->ultralytics) (3.1.3)\n",
            "Requirement already satisfied: fsspec in e:\\programs\\anaconda\\lib\\site-packages (from torch>=1.8.0->ultralytics) (2023.10.0)\n",
            "Collecting mkl<=2021.4.0,>=2021.1.1 (from torch>=1.8.0->ultralytics)\n",
            "  Using cached mkl-2021.4.0-py2.py3-none-win_amd64.whl.metadata (1.4 kB)\n",
            "Requirement already satisfied: colorama in e:\\programs\\anaconda\\lib\\site-packages (from tqdm>=4.64.0->ultralytics) (0.4.6)\n",
            "Collecting intel-openmp==2021.* (from mkl<=2021.4.0,>=2021.1.1->torch>=1.8.0->ultralytics)\n",
            "  Using cached intel_openmp-2021.4.0-py2.py3-none-win_amd64.whl.metadata (1.2 kB)\n",
            "Collecting tbb==2021.* (from mkl<=2021.4.0,>=2021.1.1->torch>=1.8.0->ultralytics)\n",
            "  Using cached tbb-2021.12.0-py3-none-win_amd64.whl.metadata (1.1 kB)\n",
            "Requirement already satisfied: six>=1.5 in e:\\programs\\anaconda\\lib\\site-packages (from python-dateutil>=2.7->matplotlib>=3.3.0->ultralytics) (1.16.0)\n",
            "Requirement already satisfied: MarkupSafe>=2.0 in e:\\programs\\anaconda\\lib\\site-packages (from jinja2->torch>=1.8.0->ultralytics) (2.1.3)\n",
            "Requirement already satisfied: mpmath>=0.19 in e:\\programs\\anaconda\\lib\\site-packages (from sympy->torch>=1.8.0->ultralytics) (1.3.0)\n",
            "Using cached ultralytics-8.2.10-py3-none-any.whl (755 kB)\n",
            "Using cached opencv_python-4.9.0.80-cp37-abi3-win_amd64.whl (38.6 MB)\n",
            "Using cached thop-0.1.1.post2209072238-py3-none-any.whl (15 kB)\n",
            "Downloading mkl-2021.4.0-py2.py3-none-win_amd64.whl (228.5 MB)\n",
            "   ---------------------------------------- 0.0/228.5 MB ? eta -:--:--\n",
            "   ---------------------------------------- 0.1/228.5 MB 2.0 MB/s eta 0:01:57\n",
            "   ---------------------------------------- 0.7/228.5 MB 7.2 MB/s eta 0:00:32\n",
            "   ---------------------------------------- 1.6/228.5 MB 11.0 MB/s eta 0:00:21\n",
            "   ---------------------------------------- 2.8/228.5 MB 14.8 MB/s eta 0:00:16\n",
            "    --------------------------------------- 4.2/228.5 MB 18.1 MB/s eta 0:00:13\n",
            "   - -------------------------------------- 6.2/228.5 MB 21.9 MB/s eta 0:00:11\n",
            "   - -------------------------------------- 8.6/228.5 MB 26.3 MB/s eta 0:00:09\n",
            "   -- ------------------------------------- 11.5/228.5 MB 40.9 MB/s eta 0:00:06\n",
            "   -- ------------------------------------- 14.5/228.5 MB 54.4 MB/s eta 0:00:04\n",
            "   --- ------------------------------------ 18.2/228.5 MB 65.2 MB/s eta 0:00:04\n",
            "   --- ------------------------------------ 22.3/228.5 MB 72.6 MB/s eta 0:00:03\n",
            "   ---- ----------------------------------- 27.2/228.5 MB 93.9 MB/s eta 0:00:03\n",
            "   ----- --------------------------------- 33.4/228.5 MB 110.0 MB/s eta 0:00:02\n",
            "   ------ -------------------------------- 40.4/228.5 MB 131.2 MB/s eta 0:00:02\n",
            "   -------- ------------------------------ 47.9/228.5 MB 165.0 MB/s eta 0:00:02\n",
            "   --------- ----------------------------- 54.5/228.5 MB 131.2 MB/s eta 0:00:02\n",
            "   ---------- ---------------------------- 61.8/228.5 MB 131.2 MB/s eta 0:00:02\n",
            "   ----------- --------------------------- 69.7/228.5 MB 162.4 MB/s eta 0:00:01\n",
            "   ------------- ------------------------- 77.4/228.5 MB 162.4 MB/s eta 0:00:01\n",
            "   -------------- ------------------------ 84.9/228.5 MB 165.0 MB/s eta 0:00:01\n",
            "   --------------- ----------------------- 90.7/228.5 MB 131.2 MB/s eta 0:00:02\n",
            "   ---------------- --------------------- 100.5/228.5 MB 165.0 MB/s eta 0:00:01\n",
            "   ------------------ ------------------- 109.9/228.5 MB 217.7 MB/s eta 0:00:01\n",
            "   ------------------- ------------------ 119.0/228.5 MB 162.4 MB/s eta 0:00:01\n",
            "   -------------------- ----------------- 124.7/228.5 MB 131.2 MB/s eta 0:00:01\n",
            "   --------------------- ---------------- 132.1/228.5 MB 165.0 MB/s eta 0:00:01\n",
            "   ---------------------- --------------- 136.0/228.5 MB 108.8 MB/s eta 0:00:01\n",
            "   ----------------------- -------------- 142.7/228.5 MB 110.0 MB/s eta 0:00:01\n",
            "   ------------------------- ------------ 150.8/228.5 MB 165.0 MB/s eta 0:00:01\n",
            "   -------------------------- ----------- 156.4/228.5 MB 131.2 MB/s eta 0:00:01\n",
            "   -------------------------- ----------- 162.0/228.5 MB 131.2 MB/s eta 0:00:01\n",
            "   --------------------------- ---------- 167.8/228.5 MB 108.8 MB/s eta 0:00:01\n",
            "   ---------------------------- --------- 173.3/228.5 MB 131.2 MB/s eta 0:00:01\n",
            "   ----------------------------- -------- 178.6/228.5 MB 131.2 MB/s eta 0:00:01\n",
            "   ------------------------------ ------- 184.1/228.5 MB 131.2 MB/s eta 0:00:01\n",
            "   ------------------------------- ------ 190.1/228.5 MB 131.2 MB/s eta 0:00:01\n",
            "   -------------------------------- ----- 195.3/228.5 MB 131.2 MB/s eta 0:00:01\n",
            "   --------------------------------- ---- 200.2/228.5 MB 108.8 MB/s eta 0:00:01\n",
            "   ---------------------------------- --- 206.0/228.5 MB 131.2 MB/s eta 0:00:01\n",
            "   ----------------------------------- -- 212.5/228.5 MB 131.2 MB/s eta 0:00:01\n",
            "   ------------------------------------ - 218.0/228.5 MB 131.2 MB/s eta 0:00:01\n",
            "   -------------------------------------  223.8/228.5 MB 131.2 MB/s eta 0:00:01\n",
            "   -------------------------------------  228.5/228.5 MB 131.2 MB/s eta 0:00:01\n",
            "   -------------------------------------  228.5/228.5 MB 131.2 MB/s eta 0:00:01\n",
            "   -------------------------------------  228.5/228.5 MB 131.2 MB/s eta 0:00:01\n",
            "   -------------------------------------  228.5/228.5 MB 131.2 MB/s eta 0:00:01\n",
            "   --------------------------------------- 228.5/228.5 MB 38.6 MB/s eta 0:00:00\n",
            "Downloading intel_openmp-2021.4.0-py2.py3-none-win_amd64.whl (3.5 MB)\n",
            "   ---------------------------------------- 0.0/3.5 MB ? eta -:--:--\n",
            "   ---------------------------------------- 3.5/3.5 MB 113.1 MB/s eta 0:00:00\n",
            "Downloading tbb-2021.12.0-py3-none-win_amd64.whl (286 kB)\n",
            "   ---------------------------------------- 0.0/286.4 kB ? eta -:--:--\n",
            "   ---------------------------------------- 286.4/286.4 kB ? eta 0:00:00\n",
            "Installing collected packages: tbb, intel-openmp, opencv-python, mkl, thop, ultralytics\n",
            "Successfully installed intel-openmp-2021.4.0 mkl-2021.4.0 opencv-python-4.9.0.80 tbb-2021.12.0 thop-0.1.1.post2209072238 ultralytics-8.2.10\n",
            "Note: you may need to restart the kernel to use updated packages.\n"
          ]
        }
      ],
      "source": [
        "%pip install -U ultralytics"
      ]
    },
    {
      "cell_type": "code",
      "execution_count": 1,
      "metadata": {},
      "outputs": [
        {
          "name": "stdout",
          "output_type": "stream",
          "text": [
            "e:\\Work\\Fluk\\ProjectC-Model\\notebook\n"
          ]
        }
      ],
      "source": [
        "import os\n",
        "\n",
        "HOME = os.getcwd()\n",
        "\n",
        "print(HOME)"
      ]
    },
    {
      "cell_type": "code",
      "execution_count": null,
      "metadata": {},
      "outputs": [],
      "source": [
        "from ultralytics import YOLO\n",
        "\n",
        "\n",
        "model = YOLO('yolov8n-cls.pt')\n",
        "\n",
        "model.train(data=HOME+'/Data/NewDataSet/Data', epochs=5, imgsz=400)"
      ]
    },
    {
      "cell_type": "code",
      "execution_count": null,
      "metadata": {},
      "outputs": [],
      "source": []
    },
    {
      "cell_type": "code",
      "execution_count": 3,
      "metadata": {},
      "outputs": [
        {
          "name": "stdout",
          "output_type": "stream",
          "text": [
            "Ultralytics YOLOv8.2.10  Python-3.11.7 torch-2.3.0 CUDA:0 (NVIDIA GeForce RTX 4070 Ti, 12282MiB)\n",
            "\u001b[34m\u001b[1mengine\\trainer: \u001b[0mtask=classify, mode=train, model=yolov8n-cls.pt, data=e:\\Work\\Fluk\\ProjectC-Model\\notebook/Data/smallData, epochs=20, time=None, patience=100, batch=16, imgsz=400, save=True, save_period=-1, cache=False, device=None, workers=8, project=None, name=train18, exist_ok=False, pretrained=True, optimizer=auto, verbose=True, seed=0, deterministic=True, single_cls=False, rect=False, cos_lr=False, close_mosaic=10, resume=False, amp=True, fraction=1.0, profile=False, freeze=None, multi_scale=False, overlap_mask=True, mask_ratio=4, dropout=0.0, val=True, split=val, save_json=False, save_hybrid=False, conf=None, iou=0.7, max_det=300, half=False, dnn=False, plots=True, source=None, vid_stride=1, stream_buffer=False, visualize=False, augment=False, agnostic_nms=False, classes=None, retina_masks=False, embed=None, show=False, save_frames=False, save_txt=False, save_conf=False, save_crop=False, show_labels=True, show_conf=True, show_boxes=True, line_width=None, format=torchscript, keras=False, optimize=False, int8=False, dynamic=False, simplify=False, opset=None, workspace=4, nms=False, lr0=0.01, lrf=0.01, momentum=0.937, weight_decay=0.0005, warmup_epochs=3.0, warmup_momentum=0.8, warmup_bias_lr=0.1, box=7.5, cls=0.5, dfl=1.5, pose=12.0, kobj=1.0, label_smoothing=0.0, nbs=64, hsv_h=0.015, hsv_s=0.7, hsv_v=0.4, degrees=0.0, translate=0.1, scale=0.5, shear=0.0, perspective=0.0, flipud=0.0, fliplr=0.5, bgr=0.0, mosaic=1.0, mixup=0.0, copy_paste=0.0, auto_augment=randaugment, erasing=0.4, crop_fraction=1.0, cfg=None, tracker=botsort.yaml, save_dir=runs\\classify\\train18\n",
            "\u001b[34m\u001b[1mtrain:\u001b[0m E:\\Work\\Fluk\\ProjectC-Model\\notebook\\Data\\smallData\\train... found 70295 images in 38 classes  \n",
            "\u001b[34m\u001b[1mval:\u001b[0m E:\\Work\\Fluk\\ProjectC-Model\\notebook\\Data\\smallData\\val... found 17572 images in 38 classes  \n",
            "\u001b[34m\u001b[1mtest:\u001b[0m E:\\Work\\Fluk\\ProjectC-Model\\notebook\\Data\\smallData\\test... found 33 images in 8 classes: ERROR  requires 38 classes, not 8\n",
            "Overriding model.yaml nc=1000 with nc=38\n",
            "\n",
            "                   from  n    params  module                                       arguments                     \n",
            "  0                  -1  1       464  ultralytics.nn.modules.conv.Conv             [3, 16, 3, 2]                 \n",
            "  1                  -1  1      4672  ultralytics.nn.modules.conv.Conv             [16, 32, 3, 2]                \n",
            "  2                  -1  1      7360  ultralytics.nn.modules.block.C2f             [32, 32, 1, True]             \n",
            "  3                  -1  1     18560  ultralytics.nn.modules.conv.Conv             [32, 64, 3, 2]                \n",
            "  4                  -1  2     49664  ultralytics.nn.modules.block.C2f             [64, 64, 2, True]             \n",
            "  5                  -1  1     73984  ultralytics.nn.modules.conv.Conv             [64, 128, 3, 2]               \n",
            "  6                  -1  2    197632  ultralytics.nn.modules.block.C2f             [128, 128, 2, True]           \n",
            "  7                  -1  1    295424  ultralytics.nn.modules.conv.Conv             [128, 256, 3, 2]              \n",
            "  8                  -1  1    460288  ultralytics.nn.modules.block.C2f             [256, 256, 1, True]           \n",
            "  9                  -1  1    378918  ultralytics.nn.modules.head.Classify         [256, 38]                     \n",
            "YOLOv8n-cls summary: 99 layers, 1486966 parameters, 1486966 gradients, 3.4 GFLOPs\n",
            "Transferred 156/158 items from pretrained weights\n",
            "\u001b[34m\u001b[1mAMP: \u001b[0mrunning Automatic Mixed Precision (AMP) checks with YOLOv8n...\n",
            "\u001b[34m\u001b[1mAMP: \u001b[0mchecks passed \n",
            "WARNING  imgsz=[400] must be multiple of max stride 32, updating to [416]\n"
          ]
        },
        {
          "name": "stderr",
          "output_type": "stream",
          "text": [
            "\u001b[34m\u001b[1mtrain: \u001b[0mScanning E:\\Work\\Fluk\\ProjectC-Model\\notebook\\Data\\smallData\\train... 70295 images, 0 corrupt: 100%|██████████| 70295/70295 [00:00<?, ?it/s]\n",
            "\u001b[34m\u001b[1mval: \u001b[0mScanning E:\\Work\\Fluk\\ProjectC-Model\\notebook\\Data\\smallData\\val... 17572 images, 0 corrupt: 100%|██████████| 17572/17572 [00:01<00:00, 10972.35it/s]\n"
          ]
        },
        {
          "name": "stdout",
          "output_type": "stream",
          "text": [
            "\u001b[34m\u001b[1mval: \u001b[0mNew cache created: E:\\Work\\Fluk\\ProjectC-Model\\notebook\\Data\\smallData\\val.cache\n",
            "\u001b[34m\u001b[1moptimizer:\u001b[0m 'optimizer=auto' found, ignoring 'lr0=0.01' and 'momentum=0.937' and determining best 'optimizer', 'lr0' and 'momentum' automatically... \n",
            "\u001b[34m\u001b[1moptimizer:\u001b[0m SGD(lr=0.01, momentum=0.9) with parameter groups 26 weight(decay=0.0), 27 weight(decay=0.0005), 27 bias(decay=0.0)\n",
            "Image sizes 416 train, 416 val\n",
            "Using 8 dataloader workers\n",
            "Logging results to \u001b[1mruns\\classify\\train18\u001b[0m\n",
            "Starting training for 20 epochs...\n",
            "\n",
            "      Epoch    GPU_mem       loss  Instances       Size\n"
          ]
        },
        {
          "name": "stderr",
          "output_type": "stream",
          "text": [
            "       1/20     0.908G      1.366          7        416: 100%|██████████| 4394/4394 [02:15<00:00, 32.31it/s]\n",
            "               classes   top1_acc   top5_acc: 100%|██████████| 550/550 [00:35<00:00, 15.49it/s]"
          ]
        },
        {
          "name": "stdout",
          "output_type": "stream",
          "text": [
            "                   all      0.958      0.999\n"
          ]
        },
        {
          "name": "stderr",
          "output_type": "stream",
          "text": [
            "\n"
          ]
        },
        {
          "name": "stdout",
          "output_type": "stream",
          "text": [
            "\n",
            "      Epoch    GPU_mem       loss  Instances       Size\n"
          ]
        },
        {
          "name": "stderr",
          "output_type": "stream",
          "text": [
            "       2/20     0.908G     0.2219          7        416: 100%|██████████| 4394/4394 [03:24<00:00, 21.44it/s]\n",
            "               classes   top1_acc   top5_acc: 100%|██████████| 550/550 [00:19<00:00, 28.72it/s]"
          ]
        },
        {
          "name": "stdout",
          "output_type": "stream",
          "text": [
            "                   all      0.982          1\n"
          ]
        },
        {
          "name": "stderr",
          "output_type": "stream",
          "text": [
            "\n"
          ]
        },
        {
          "name": "stdout",
          "output_type": "stream",
          "text": [
            "\n",
            "      Epoch    GPU_mem       loss  Instances       Size\n"
          ]
        },
        {
          "name": "stderr",
          "output_type": "stream",
          "text": [
            "       3/20     0.912G     0.1739          7        416: 100%|██████████| 4394/4394 [01:36<00:00, 45.41it/s]\n",
            "               classes   top1_acc   top5_acc: 100%|██████████| 550/550 [00:19<00:00, 28.53it/s]"
          ]
        },
        {
          "name": "stdout",
          "output_type": "stream",
          "text": [
            "                   all      0.986          1\n"
          ]
        },
        {
          "name": "stderr",
          "output_type": "stream",
          "text": [
            "\n"
          ]
        },
        {
          "name": "stdout",
          "output_type": "stream",
          "text": [
            "\n",
            "      Epoch    GPU_mem       loss  Instances       Size\n"
          ]
        },
        {
          "name": "stderr",
          "output_type": "stream",
          "text": [
            "       4/20     0.908G     0.1716          7        416: 100%|██████████| 4394/4394 [01:35<00:00, 46.06it/s]\n",
            "               classes   top1_acc   top5_acc: 100%|██████████| 550/550 [00:19<00:00, 28.90it/s]"
          ]
        },
        {
          "name": "stdout",
          "output_type": "stream",
          "text": [
            "                   all       0.99          1\n"
          ]
        },
        {
          "name": "stderr",
          "output_type": "stream",
          "text": [
            "\n"
          ]
        },
        {
          "name": "stdout",
          "output_type": "stream",
          "text": [
            "\n",
            "      Epoch    GPU_mem       loss  Instances       Size\n"
          ]
        },
        {
          "name": "stderr",
          "output_type": "stream",
          "text": [
            "       5/20     0.912G     0.1217          7        416: 100%|██████████| 4394/4394 [01:35<00:00, 45.98it/s]\n",
            "               classes   top1_acc   top5_acc: 100%|██████████| 550/550 [00:19<00:00, 28.88it/s]"
          ]
        },
        {
          "name": "stdout",
          "output_type": "stream",
          "text": [
            "                   all      0.994          1\n"
          ]
        },
        {
          "name": "stderr",
          "output_type": "stream",
          "text": [
            "\n"
          ]
        },
        {
          "name": "stdout",
          "output_type": "stream",
          "text": [
            "\n",
            "      Epoch    GPU_mem       loss  Instances       Size\n"
          ]
        },
        {
          "name": "stderr",
          "output_type": "stream",
          "text": [
            "       6/20      0.91G     0.0983          7        416: 100%|██████████| 4394/4394 [01:34<00:00, 46.66it/s]\n",
            "               classes   top1_acc   top5_acc: 100%|██████████| 550/550 [00:19<00:00, 28.46it/s]\n"
          ]
        },
        {
          "name": "stdout",
          "output_type": "stream",
          "text": [
            "                   all      0.995          1\n",
            "\n",
            "      Epoch    GPU_mem       loss  Instances       Size\n"
          ]
        },
        {
          "name": "stderr",
          "output_type": "stream",
          "text": [
            "       7/20     0.912G    0.08297          7        416: 100%|██████████| 4394/4394 [01:36<00:00, 45.46it/s]\n",
            "               classes   top1_acc   top5_acc: 100%|██████████| 550/550 [00:19<00:00, 28.80it/s]"
          ]
        },
        {
          "name": "stdout",
          "output_type": "stream",
          "text": [
            "                   all      0.995          1\n"
          ]
        },
        {
          "name": "stderr",
          "output_type": "stream",
          "text": [
            "\n"
          ]
        },
        {
          "name": "stdout",
          "output_type": "stream",
          "text": [
            "\n",
            "      Epoch    GPU_mem       loss  Instances       Size\n"
          ]
        },
        {
          "name": "stderr",
          "output_type": "stream",
          "text": [
            "       8/20     0.908G    0.06981          7        416: 100%|██████████| 4394/4394 [01:35<00:00, 46.05it/s]\n",
            "               classes   top1_acc   top5_acc: 100%|██████████| 550/550 [00:20<00:00, 27.25it/s]"
          ]
        },
        {
          "name": "stdout",
          "output_type": "stream",
          "text": [
            "                   all      0.997          1\n"
          ]
        },
        {
          "name": "stderr",
          "output_type": "stream",
          "text": [
            "\n"
          ]
        },
        {
          "name": "stdout",
          "output_type": "stream",
          "text": [
            "\n",
            "      Epoch    GPU_mem       loss  Instances       Size\n"
          ]
        },
        {
          "name": "stderr",
          "output_type": "stream",
          "text": [
            "       9/20     0.912G    0.06277          7        416: 100%|██████████| 4394/4394 [01:39<00:00, 44.09it/s]\n",
            "               classes   top1_acc   top5_acc: 100%|██████████| 550/550 [00:20<00:00, 27.01it/s]"
          ]
        },
        {
          "name": "stdout",
          "output_type": "stream",
          "text": [
            "                   all      0.997          1\n"
          ]
        },
        {
          "name": "stderr",
          "output_type": "stream",
          "text": [
            "\n"
          ]
        },
        {
          "name": "stdout",
          "output_type": "stream",
          "text": [
            "\n",
            "      Epoch    GPU_mem       loss  Instances       Size\n"
          ]
        },
        {
          "name": "stderr",
          "output_type": "stream",
          "text": [
            "      10/20      0.91G    0.05704          7        416: 100%|██████████| 4394/4394 [01:40<00:00, 43.60it/s]\n",
            "               classes   top1_acc   top5_acc: 100%|██████████| 550/550 [00:20<00:00, 27.27it/s]\n"
          ]
        },
        {
          "name": "stdout",
          "output_type": "stream",
          "text": [
            "                   all      0.997          1\n",
            "\n",
            "      Epoch    GPU_mem       loss  Instances       Size\n"
          ]
        },
        {
          "name": "stderr",
          "output_type": "stream",
          "text": [
            "      11/20     0.912G    0.05025          7        416: 100%|██████████| 4394/4394 [01:40<00:00, 43.63it/s]\n",
            "               classes   top1_acc   top5_acc: 100%|██████████| 550/550 [00:20<00:00, 26.58it/s]"
          ]
        },
        {
          "name": "stdout",
          "output_type": "stream",
          "text": [
            "                   all      0.998          1\n"
          ]
        },
        {
          "name": "stderr",
          "output_type": "stream",
          "text": [
            "\n"
          ]
        },
        {
          "name": "stdout",
          "output_type": "stream",
          "text": [
            "\n",
            "      Epoch    GPU_mem       loss  Instances       Size\n"
          ]
        },
        {
          "name": "stderr",
          "output_type": "stream",
          "text": [
            "      12/20      0.91G    0.04516          7        416: 100%|██████████| 4394/4394 [01:39<00:00, 44.22it/s]\n",
            "               classes   top1_acc   top5_acc: 100%|██████████| 550/550 [00:20<00:00, 26.34it/s]"
          ]
        },
        {
          "name": "stdout",
          "output_type": "stream",
          "text": [
            "                   all      0.998          1\n"
          ]
        },
        {
          "name": "stderr",
          "output_type": "stream",
          "text": [
            "\n"
          ]
        },
        {
          "name": "stdout",
          "output_type": "stream",
          "text": [
            "\n",
            "      Epoch    GPU_mem       loss  Instances       Size\n"
          ]
        },
        {
          "name": "stderr",
          "output_type": "stream",
          "text": [
            "      13/20     0.912G    0.03889          7        416: 100%|██████████| 4394/4394 [01:39<00:00, 44.00it/s]\n",
            "               classes   top1_acc   top5_acc: 100%|██████████| 550/550 [00:20<00:00, 26.83it/s]"
          ]
        },
        {
          "name": "stdout",
          "output_type": "stream",
          "text": [
            "                   all      0.998          1\n"
          ]
        },
        {
          "name": "stderr",
          "output_type": "stream",
          "text": [
            "\n"
          ]
        },
        {
          "name": "stdout",
          "output_type": "stream",
          "text": [
            "\n",
            "      Epoch    GPU_mem       loss  Instances       Size\n"
          ]
        },
        {
          "name": "stderr",
          "output_type": "stream",
          "text": [
            "      14/20      0.91G    0.03415          7        416: 100%|██████████| 4394/4394 [01:38<00:00, 44.80it/s]\n",
            "               classes   top1_acc   top5_acc: 100%|██████████| 550/550 [00:20<00:00, 26.21it/s]\n"
          ]
        },
        {
          "name": "stdout",
          "output_type": "stream",
          "text": [
            "                   all      0.998          1\n",
            "\n",
            "      Epoch    GPU_mem       loss  Instances       Size\n"
          ]
        },
        {
          "name": "stderr",
          "output_type": "stream",
          "text": [
            "      15/20     0.912G    0.02975          7        416: 100%|██████████| 4394/4394 [01:37<00:00, 45.01it/s]\n",
            "               classes   top1_acc   top5_acc: 100%|██████████| 550/550 [00:20<00:00, 27.30it/s]\n"
          ]
        },
        {
          "name": "stdout",
          "output_type": "stream",
          "text": [
            "                   all      0.998          1\n",
            "\n",
            "      Epoch    GPU_mem       loss  Instances       Size\n"
          ]
        },
        {
          "name": "stderr",
          "output_type": "stream",
          "text": [
            "      16/20      0.91G    0.02263          7        416: 100%|██████████| 4394/4394 [02:01<00:00, 36.27it/s]\n",
            "               classes   top1_acc   top5_acc: 100%|██████████| 550/550 [00:33<00:00, 16.25it/s]"
          ]
        },
        {
          "name": "stdout",
          "output_type": "stream",
          "text": [
            "                   all      0.998          1\n"
          ]
        },
        {
          "name": "stderr",
          "output_type": "stream",
          "text": [
            "\n"
          ]
        },
        {
          "name": "stdout",
          "output_type": "stream",
          "text": [
            "\n",
            "      Epoch    GPU_mem       loss  Instances       Size\n"
          ]
        },
        {
          "name": "stderr",
          "output_type": "stream",
          "text": [
            "      17/20     0.912G     0.0211          7        416: 100%|██████████| 4394/4394 [01:43<00:00, 42.29it/s]\n",
            "               classes   top1_acc   top5_acc: 100%|██████████| 550/550 [00:19<00:00, 27.68it/s]\n"
          ]
        },
        {
          "name": "stdout",
          "output_type": "stream",
          "text": [
            "                   all      0.998          1\n",
            "\n",
            "      Epoch    GPU_mem       loss  Instances       Size\n"
          ]
        },
        {
          "name": "stderr",
          "output_type": "stream",
          "text": [
            "      18/20     0.908G     0.0185          7        416: 100%|██████████| 4394/4394 [01:36<00:00, 45.44it/s]\n",
            "               classes   top1_acc   top5_acc: 100%|██████████| 550/550 [00:19<00:00, 27.89it/s]"
          ]
        },
        {
          "name": "stdout",
          "output_type": "stream",
          "text": [
            "                   all      0.998          1\n"
          ]
        },
        {
          "name": "stderr",
          "output_type": "stream",
          "text": [
            "\n"
          ]
        },
        {
          "name": "stdout",
          "output_type": "stream",
          "text": [
            "\n",
            "      Epoch    GPU_mem       loss  Instances       Size\n"
          ]
        },
        {
          "name": "stderr",
          "output_type": "stream",
          "text": [
            "      19/20     0.912G    0.01594          7        416: 100%|██████████| 4394/4394 [02:13<00:00, 32.82it/s]\n",
            "               classes   top1_acc   top5_acc: 100%|██████████| 550/550 [00:20<00:00, 27.36it/s]\n"
          ]
        },
        {
          "name": "stdout",
          "output_type": "stream",
          "text": [
            "                   all      0.998          1\n",
            "\n",
            "      Epoch    GPU_mem       loss  Instances       Size\n"
          ]
        },
        {
          "name": "stderr",
          "output_type": "stream",
          "text": [
            "      20/20      0.91G      0.014          7        416: 100%|██████████| 4394/4394 [01:37<00:00, 44.96it/s]\n",
            "               classes   top1_acc   top5_acc: 100%|██████████| 550/550 [00:19<00:00, 27.86it/s]\n"
          ]
        },
        {
          "name": "stdout",
          "output_type": "stream",
          "text": [
            "                   all      0.999          1\n",
            "\n",
            "20 epochs completed in 0.730 hours.\n",
            "Optimizer stripped from runs\\classify\\train18\\weights\\last.pt, 3.1MB\n",
            "Optimizer stripped from runs\\classify\\train18\\weights\\best.pt, 3.1MB\n",
            "\n",
            "Validating runs\\classify\\train18\\weights\\best.pt...\n",
            "Ultralytics YOLOv8.2.10  Python-3.11.7 torch-2.3.0 CUDA:0 (NVIDIA GeForce RTX 4070 Ti, 12282MiB)\n",
            "YOLOv8n-cls summary (fused): 73 layers, 1483558 parameters, 0 gradients, 3.3 GFLOPs\n",
            "\u001b[34m\u001b[1mtrain:\u001b[0m E:\\Work\\Fluk\\ProjectC-Model\\notebook\\Data\\smallData\\train... found 70295 images in 38 classes  \n",
            "\u001b[34m\u001b[1mval:\u001b[0m E:\\Work\\Fluk\\ProjectC-Model\\notebook\\Data\\smallData\\val... found 17572 images in 38 classes  \n",
            "\u001b[34m\u001b[1mtest:\u001b[0m E:\\Work\\Fluk\\ProjectC-Model\\notebook\\Data\\smallData\\test... found 33 images in 8 classes: ERROR  requires 38 classes, not 8\n"
          ]
        },
        {
          "name": "stderr",
          "output_type": "stream",
          "text": [
            "               classes   top1_acc   top5_acc: 100%|██████████| 550/550 [00:20<00:00, 27.41it/s]\n"
          ]
        },
        {
          "name": "stdout",
          "output_type": "stream",
          "text": [
            "                   all      0.999          1\n",
            "Speed: 0.2ms preprocess, 0.1ms inference, 0.0ms loss, 0.0ms postprocess per image\n",
            "Results saved to \u001b[1mruns\\classify\\train18\u001b[0m\n",
            "Results saved to \u001b[1mruns\\classify\\train18\u001b[0m\n"
          ]
        },
        {
          "data": {
            "text/plain": [
              "ultralytics.utils.metrics.ClassifyMetrics object with attributes:\n",
              "\n",
              "confusion_matrix: <ultralytics.utils.metrics.ConfusionMatrix object at 0x0000019F0E9CFED0>\n",
              "curves: []\n",
              "curves_results: []\n",
              "fitness: 0.9992601871490479\n",
              "keys: ['metrics/accuracy_top1', 'metrics/accuracy_top5']\n",
              "results_dict: {'metrics/accuracy_top1': 0.9985772967338562, 'metrics/accuracy_top5': 0.9999430775642395, 'fitness': 0.9992601871490479}\n",
              "save_dir: WindowsPath('runs/classify/train18')\n",
              "speed: {'preprocess': 0.15010741205821132, 'inference': 0.13017593362514288, 'loss': 5.6918161810326354e-05, 'postprocess': 0.00011387702790800217}\n",
              "task: 'classify'\n",
              "top1: 0.9985772967338562\n",
              "top5: 0.9999430775642395"
            ]
          },
          "execution_count": 3,
          "metadata": {},
          "output_type": "execute_result"
        }
      ],
      "source": [
        "from ultralytics import YOLO\n",
        "\n",
        "\n",
        "model = YOLO('yolov8n-cls.pt')\n",
        "\n",
        "model.train(data=HOME+\"/Data/smallData\", epochs=20, imgsz=400)"
      ]
    },
    {
      "cell_type": "code",
      "execution_count": 1,
      "metadata": {},
      "outputs": [
        {
          "ename": "NameError",
          "evalue": "name 'HOME' is not defined",
          "output_type": "error",
          "traceback": [
            "\u001b[1;31m---------------------------------------------------------------------------\u001b[0m",
            "\u001b[1;31mNameError\u001b[0m                                 Traceback (most recent call last)",
            "Cell \u001b[1;32mIn[1], line 6\u001b[0m\n\u001b[0;32m      1\u001b[0m \u001b[38;5;28;01mfrom\u001b[39;00m \u001b[38;5;21;01multralytics\u001b[39;00m \u001b[38;5;28;01mimport\u001b[39;00m YOLO\n\u001b[0;32m      4\u001b[0m model \u001b[38;5;241m=\u001b[39m YOLO(\u001b[38;5;124m'\u001b[39m\u001b[38;5;124myolov8n-cls.pt\u001b[39m\u001b[38;5;124m'\u001b[39m)\n\u001b[1;32m----> 6\u001b[0m model\u001b[38;5;241m.\u001b[39mtrain(data\u001b[38;5;241m=\u001b[39mHOME\u001b[38;5;241m+\u001b[39m\u001b[38;5;124m'\u001b[39m\u001b[38;5;124m/Data/NewDataSet/Data\u001b[39m\u001b[38;5;124m'\u001b[39m, epochs\u001b[38;5;241m=\u001b[39m\u001b[38;5;241m16\u001b[39m, imgsz\u001b[38;5;241m=\u001b[39m\u001b[38;5;241m400\u001b[39m)\n",
            "\u001b[1;31mNameError\u001b[0m: name 'HOME' is not defined"
          ]
        }
      ],
      "source": [
        "from ultralytics import YOLO\n",
        "\n",
        "\n",
        "model = YOLO('yolov8n-cls.pt')\n",
        "\n",
        "model.train(data=HOME+'/Data/NewDataSet/Data', epochs=16, imgsz=400)"
      ]
    },
    {
      "cell_type": "code",
      "execution_count": 2,
      "metadata": {},
      "outputs": [
        {
          "name": "stdout",
          "output_type": "stream",
          "text": [
            "\n",
            "image 1/1 D:\\Work\\ProjectC-Model\\notebook\\Data\\TestDataSet\\Cashew\\test\\anthracnose\\0cashew_valid_anthracnose.JPG: 416x416 healthy5877 0.76, anthracnose3102 0.11, leaf miner3466 0.06, red rust4751 0.06, gumosis1714 0.00, 5.0ms\n",
            "Speed: 12.0ms preprocess, 5.0ms inference, 0.0ms postprocess per image at shape (1, 3, 416, 416)\n",
            "{0: 'anthracnose3102', 1: 'gumosis1714', 2: 'healthy5877', 3: 'leaf miner3466', 4: 'red rust4751'}\n",
            "[0.1147160604596138, 0.0008533014915883541, 0.7649934887886047, 0.060572654008865356, 0.058864474296569824]\n",
            "healthy5877\n"
          ]
        }
      ],
      "source": [
        "import numpy as np\n",
        "from ultralytics import YOLO\n",
        "\n",
        "\n",
        "model = YOLO('D:/Work/ProjectC-Model/notebook/runs/classify/train\\weights/best.pt')  # load a custom model\n",
        "\n",
        "results = model('D:/Work/ProjectC-Model/notebook/Data/TestDataSet\\Cashew/test/anthracnose/0cashew_valid_anthracnose.JPG')  # predict on an image\n",
        "\n",
        "names_dict = results[0].names\n",
        "\n",
        "probs = results[0].probs.data.tolist()\n",
        "\n",
        "print(names_dict)\n",
        "print(probs)\n",
        "\n",
        "print(names_dict[np.argmax(probs)])"
      ]
    },
    {
      "cell_type": "code",
      "execution_count": 1,
      "metadata": {},
      "outputs": [
        {
          "name": "stdout",
          "output_type": "stream",
          "text": [
            "a\n"
          ]
        }
      ],
      "source": [
        "namesARR = [\"a\",\"a\",\"a\",\"b\",\"b\"]\n",
        "\n",
        "\n",
        "print(max(set(namesARR), key = namesARR.count))\n",
        "\n",
        "\n"
      ]
    },
    {
      "cell_type": "code",
      "execution_count": 1,
      "metadata": {},
      "outputs": [
        {
          "data": {
            "image/png": "[encoded data removed]",
            "text/plain": [
              "<Figure size 640x480 with 1 Axes>"
            ]
          },
          "metadata": {},
          "output_type": "display_data"
        },
        {
          "data": {
            "image/png": "[encoded data removed]",
            "text/plain": [
              "<Figure size 640x480 with 1 Axes>"
            ]
          },
          "metadata": {},
          "output_type": "display_data"
        }
      ],
      "source": [
        "import os\n",
        "import pandas as pd\n",
        "import matplotlib.pyplot as plt\n",
        "\n",
        "\n",
        "results_path = './runs/classify/train18/results.csv'\n",
        "\n",
        "results = pd.read_csv(results_path)\n",
        "\n",
        "plt.figure()\n",
        "plt.plot(results['                  epoch'], results['             train/loss'], label='train loss')\n",
        "plt.plot(results['                  epoch'], results['               val/loss'] ,label='val loss', c='red')\n",
        "plt.grid()\n",
        "plt.title('Loss vs epochs')\n",
        "plt.ylabel('loss')\n",
        "plt.xlabel('epochs')\n",
        "plt.legend()\n",
        "\n",
        "\n",
        "plt.figure()\n",
        "plt.plot(results['                  epoch'], results['  metrics/accuracy_top1'] * 100 , label='top1 accuracy')\n",
        "plt.plot(results['                  epoch'], results['  metrics/accuracy_top5'] * 100 , label='top5 accuracy',)\n",
        "plt.grid()\n",
        "plt.title('Validation accuracy vs epochs')\n",
        "plt.ylabel('accuracy (%)')\n",
        "plt.xlabel('epochs')\n",
        "\n",
        "\n",
        "\n",
        "plt.show()\n"
      ]
    }
  ],
  "metadata": {
    "accelerator": "GPU",
    "colab": {
      "gpuType": "T4",
      "include_colab_link": true,
      "provenance": []
    },
    "kernelspec": {
      "display_name": "Python 3",
      "name": "python3"
    },
    "language_info": {
      "codemirror_mode": {
        "name": "ipython",
        "version": 3
      },
      "file_extension": ".py",
      "mimetype": "text/x-python",
      "name": "python",
      "nbconvert_exporter": "python",
      "pygments_lexer": "ipython3",
      "version": "3.11.7"
    }
  },
  "nbformat": 4,
  "nbformat_minor": 0
}
